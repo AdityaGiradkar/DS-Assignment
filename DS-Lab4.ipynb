{
 "cells": [
  {
   "cell_type": "markdown",
   "metadata": {
    "id": "ZNVOHM_W40FI"
   },
   "source": [
    "# Name : Katha Patel\n",
    "# Roll No : 41\n",
    "# GR No : 11810454\n",
    "## Assignment 4 - Association Rules \n",
    "### Importing Libraries"
   ]
  },
  {
   "cell_type": "code",
   "execution_count": 1,
   "metadata": {
    "id": "ZQ-yHqpoujH-"
   },
   "outputs": [],
   "source": [
    "import numpy as np\n",
    "import matplotlib.pyplot as plt\n",
    "import pandas as pd"
   ]
  },
  {
   "cell_type": "markdown",
   "metadata": {
    "id": "YGUA5h1O6Lti"
   },
   "source": [
    "### Importing the dataset"
   ]
  },
  {
   "cell_type": "code",
   "execution_count": 3,
   "metadata": {
    "colab": {
     "base_uri": "https://localhost:8080/",
     "height": 415
    },
    "id": "4T8LZ3TTxZLo",
    "outputId": "2cd0ed57-abe0-4329-bfff-a1462ab28944"
   },
   "outputs": [
    {
     "data": {
      "text/html": [
       "<div>\n",
       "<style scoped>\n",
       "    .dataframe tbody tr th:only-of-type {\n",
       "        vertical-align: middle;\n",
       "    }\n",
       "\n",
       "    .dataframe tbody tr th {\n",
       "        vertical-align: top;\n",
       "    }\n",
       "\n",
       "    .dataframe thead th {\n",
       "        text-align: right;\n",
       "    }\n",
       "</style>\n",
       "<table border=\"1\" class=\"dataframe\">\n",
       "  <thead>\n",
       "    <tr style=\"text-align: right;\">\n",
       "      <th></th>\n",
       "      <th>InvoiceNo</th>\n",
       "      <th>StockCode</th>\n",
       "      <th>Description</th>\n",
       "      <th>Quantity</th>\n",
       "      <th>InvoiceDate</th>\n",
       "      <th>UnitPrice</th>\n",
       "      <th>CustomerID</th>\n",
       "      <th>Country</th>\n",
       "    </tr>\n",
       "  </thead>\n",
       "  <tbody>\n",
       "    <tr>\n",
       "      <th>0</th>\n",
       "      <td>536365</td>\n",
       "      <td>85123A</td>\n",
       "      <td>WHITE HANGING HEART T-LIGHT HOLDER</td>\n",
       "      <td>6</td>\n",
       "      <td>12/1/2010 8:26</td>\n",
       "      <td>2.55</td>\n",
       "      <td>17850.0</td>\n",
       "      <td>United Kingdom</td>\n",
       "    </tr>\n",
       "    <tr>\n",
       "      <th>1</th>\n",
       "      <td>536365</td>\n",
       "      <td>71053</td>\n",
       "      <td>WHITE METAL LANTERN</td>\n",
       "      <td>6</td>\n",
       "      <td>12/1/2010 8:26</td>\n",
       "      <td>3.39</td>\n",
       "      <td>17850.0</td>\n",
       "      <td>United Kingdom</td>\n",
       "    </tr>\n",
       "    <tr>\n",
       "      <th>2</th>\n",
       "      <td>536365</td>\n",
       "      <td>84406B</td>\n",
       "      <td>CREAM CUPID HEARTS COAT HANGER</td>\n",
       "      <td>8</td>\n",
       "      <td>12/1/2010 8:26</td>\n",
       "      <td>2.75</td>\n",
       "      <td>17850.0</td>\n",
       "      <td>United Kingdom</td>\n",
       "    </tr>\n",
       "    <tr>\n",
       "      <th>3</th>\n",
       "      <td>536365</td>\n",
       "      <td>84029G</td>\n",
       "      <td>KNITTED UNION FLAG HOT WATER BOTTLE</td>\n",
       "      <td>6</td>\n",
       "      <td>12/1/2010 8:26</td>\n",
       "      <td>3.39</td>\n",
       "      <td>17850.0</td>\n",
       "      <td>United Kingdom</td>\n",
       "    </tr>\n",
       "    <tr>\n",
       "      <th>4</th>\n",
       "      <td>536365</td>\n",
       "      <td>84029E</td>\n",
       "      <td>RED WOOLLY HOTTIE WHITE HEART.</td>\n",
       "      <td>6</td>\n",
       "      <td>12/1/2010 8:26</td>\n",
       "      <td>3.39</td>\n",
       "      <td>17850.0</td>\n",
       "      <td>United Kingdom</td>\n",
       "    </tr>\n",
       "    <tr>\n",
       "      <th>...</th>\n",
       "      <td>...</td>\n",
       "      <td>...</td>\n",
       "      <td>...</td>\n",
       "      <td>...</td>\n",
       "      <td>...</td>\n",
       "      <td>...</td>\n",
       "      <td>...</td>\n",
       "      <td>...</td>\n",
       "    </tr>\n",
       "    <tr>\n",
       "      <th>541904</th>\n",
       "      <td>581587</td>\n",
       "      <td>22613</td>\n",
       "      <td>PACK OF 20 SPACEBOY NAPKINS</td>\n",
       "      <td>12</td>\n",
       "      <td>12/9/2011 12:50</td>\n",
       "      <td>0.85</td>\n",
       "      <td>12680.0</td>\n",
       "      <td>France</td>\n",
       "    </tr>\n",
       "    <tr>\n",
       "      <th>541905</th>\n",
       "      <td>581587</td>\n",
       "      <td>22899</td>\n",
       "      <td>CHILDREN'S APRON DOLLY GIRL</td>\n",
       "      <td>6</td>\n",
       "      <td>12/9/2011 12:50</td>\n",
       "      <td>2.10</td>\n",
       "      <td>12680.0</td>\n",
       "      <td>France</td>\n",
       "    </tr>\n",
       "    <tr>\n",
       "      <th>541906</th>\n",
       "      <td>581587</td>\n",
       "      <td>23254</td>\n",
       "      <td>CHILDRENS CUTLERY DOLLY GIRL</td>\n",
       "      <td>4</td>\n",
       "      <td>12/9/2011 12:50</td>\n",
       "      <td>4.15</td>\n",
       "      <td>12680.0</td>\n",
       "      <td>France</td>\n",
       "    </tr>\n",
       "    <tr>\n",
       "      <th>541907</th>\n",
       "      <td>581587</td>\n",
       "      <td>23255</td>\n",
       "      <td>CHILDRENS CUTLERY CIRCUS PARADE</td>\n",
       "      <td>4</td>\n",
       "      <td>12/9/2011 12:50</td>\n",
       "      <td>4.15</td>\n",
       "      <td>12680.0</td>\n",
       "      <td>France</td>\n",
       "    </tr>\n",
       "    <tr>\n",
       "      <th>541908</th>\n",
       "      <td>581587</td>\n",
       "      <td>22138</td>\n",
       "      <td>BAKING SET 9 PIECE RETROSPOT</td>\n",
       "      <td>3</td>\n",
       "      <td>12/9/2011 12:50</td>\n",
       "      <td>4.95</td>\n",
       "      <td>12680.0</td>\n",
       "      <td>France</td>\n",
       "    </tr>\n",
       "  </tbody>\n",
       "</table>\n",
       "<p>541909 rows × 8 columns</p>\n",
       "</div>"
      ],
      "text/plain": [
       "       InvoiceNo StockCode                          Description  Quantity  \\\n",
       "0         536365    85123A   WHITE HANGING HEART T-LIGHT HOLDER         6   \n",
       "1         536365     71053                  WHITE METAL LANTERN         6   \n",
       "2         536365    84406B       CREAM CUPID HEARTS COAT HANGER         8   \n",
       "3         536365    84029G  KNITTED UNION FLAG HOT WATER BOTTLE         6   \n",
       "4         536365    84029E       RED WOOLLY HOTTIE WHITE HEART.         6   \n",
       "...          ...       ...                                  ...       ...   \n",
       "541904    581587     22613          PACK OF 20 SPACEBOY NAPKINS        12   \n",
       "541905    581587     22899         CHILDREN'S APRON DOLLY GIRL          6   \n",
       "541906    581587     23254        CHILDRENS CUTLERY DOLLY GIRL          4   \n",
       "541907    581587     23255      CHILDRENS CUTLERY CIRCUS PARADE         4   \n",
       "541908    581587     22138        BAKING SET 9 PIECE RETROSPOT          3   \n",
       "\n",
       "            InvoiceDate  UnitPrice  CustomerID         Country  \n",
       "0        12/1/2010 8:26       2.55     17850.0  United Kingdom  \n",
       "1        12/1/2010 8:26       3.39     17850.0  United Kingdom  \n",
       "2        12/1/2010 8:26       2.75     17850.0  United Kingdom  \n",
       "3        12/1/2010 8:26       3.39     17850.0  United Kingdom  \n",
       "4        12/1/2010 8:26       3.39     17850.0  United Kingdom  \n",
       "...                 ...        ...         ...             ...  \n",
       "541904  12/9/2011 12:50       0.85     12680.0          France  \n",
       "541905  12/9/2011 12:50       2.10     12680.0          France  \n",
       "541906  12/9/2011 12:50       4.15     12680.0          France  \n",
       "541907  12/9/2011 12:50       4.15     12680.0          France  \n",
       "541908  12/9/2011 12:50       4.95     12680.0          France  \n",
       "\n",
       "[541909 rows x 8 columns]"
      ]
     },
     "execution_count": 3,
     "metadata": {},
     "output_type": "execute_result"
    }
   ],
   "source": [
    "df = pd.read_csv('dataset/Online_Retail.csv',encoding='latin1')\n",
    "df"
   ]
  },
  {
   "cell_type": "code",
   "execution_count": 4,
   "metadata": {
    "colab": {
     "base_uri": "https://localhost:8080/",
     "height": 35
    },
    "id": "kZM6M8RNxdlp",
    "outputId": "f214f0b1-aaeb-4473-e849-cf756ad2f7ce"
   },
   "outputs": [
    {
     "data": {
      "text/plain": [
       "(541909, 8)"
      ]
     },
     "execution_count": 4,
     "metadata": {},
     "output_type": "execute_result"
    }
   ],
   "source": [
    "df.shape"
   ]
  },
  {
   "cell_type": "markdown",
   "metadata": {
    "id": "2uOSSrJN7N3c"
   },
   "source": [
    "### Group data in the dataframe by InvoiceNo and Invoice Date"
   ]
  },
  {
   "cell_type": "code",
   "execution_count": 5,
   "metadata": {
    "colab": {
     "base_uri": "https://localhost:8080/",
     "height": 446
    },
    "id": "ZJqEsN_vxg8G",
    "outputId": "9a3ce98a-a82c-45d1-df7a-85cc3ff019bb"
   },
   "outputs": [
    {
     "data": {
      "text/html": [
       "<div>\n",
       "<style scoped>\n",
       "    .dataframe tbody tr th:only-of-type {\n",
       "        vertical-align: middle;\n",
       "    }\n",
       "\n",
       "    .dataframe tbody tr th {\n",
       "        vertical-align: top;\n",
       "    }\n",
       "\n",
       "    .dataframe thead th {\n",
       "        text-align: right;\n",
       "    }\n",
       "</style>\n",
       "<table border=\"1\" class=\"dataframe\">\n",
       "  <thead>\n",
       "    <tr style=\"text-align: right;\">\n",
       "      <th></th>\n",
       "      <th></th>\n",
       "      <th>StockCode</th>\n",
       "      <th>Description</th>\n",
       "      <th>Quantity</th>\n",
       "      <th>UnitPrice</th>\n",
       "      <th>CustomerID</th>\n",
       "      <th>Country</th>\n",
       "    </tr>\n",
       "    <tr>\n",
       "      <th>InvoiceNo</th>\n",
       "      <th>InvoiceDate</th>\n",
       "      <th></th>\n",
       "      <th></th>\n",
       "      <th></th>\n",
       "      <th></th>\n",
       "      <th></th>\n",
       "      <th></th>\n",
       "    </tr>\n",
       "  </thead>\n",
       "  <tbody>\n",
       "    <tr>\n",
       "      <th>536365</th>\n",
       "      <th>12/1/2010 8:26</th>\n",
       "      <td>85123A</td>\n",
       "      <td>WHITE HANGING HEART T-LIGHT HOLDER</td>\n",
       "      <td>6</td>\n",
       "      <td>2.55</td>\n",
       "      <td>17850.0</td>\n",
       "      <td>United Kingdom</td>\n",
       "    </tr>\n",
       "    <tr>\n",
       "      <th>536366</th>\n",
       "      <th>12/1/2010 8:28</th>\n",
       "      <td>22633</td>\n",
       "      <td>HAND WARMER UNION JACK</td>\n",
       "      <td>6</td>\n",
       "      <td>1.85</td>\n",
       "      <td>17850.0</td>\n",
       "      <td>United Kingdom</td>\n",
       "    </tr>\n",
       "    <tr>\n",
       "      <th>536367</th>\n",
       "      <th>12/1/2010 8:34</th>\n",
       "      <td>84879</td>\n",
       "      <td>ASSORTED COLOUR BIRD ORNAMENT</td>\n",
       "      <td>32</td>\n",
       "      <td>1.69</td>\n",
       "      <td>13047.0</td>\n",
       "      <td>United Kingdom</td>\n",
       "    </tr>\n",
       "    <tr>\n",
       "      <th>536368</th>\n",
       "      <th>12/1/2010 8:34</th>\n",
       "      <td>22960</td>\n",
       "      <td>JAM MAKING SET WITH JARS</td>\n",
       "      <td>6</td>\n",
       "      <td>4.25</td>\n",
       "      <td>13047.0</td>\n",
       "      <td>United Kingdom</td>\n",
       "    </tr>\n",
       "    <tr>\n",
       "      <th>536369</th>\n",
       "      <th>12/1/2010 8:35</th>\n",
       "      <td>21756</td>\n",
       "      <td>BATH BUILDING BLOCK WORD</td>\n",
       "      <td>3</td>\n",
       "      <td>5.95</td>\n",
       "      <td>13047.0</td>\n",
       "      <td>United Kingdom</td>\n",
       "    </tr>\n",
       "    <tr>\n",
       "      <th>...</th>\n",
       "      <th>...</th>\n",
       "      <td>...</td>\n",
       "      <td>...</td>\n",
       "      <td>...</td>\n",
       "      <td>...</td>\n",
       "      <td>...</td>\n",
       "      <td>...</td>\n",
       "    </tr>\n",
       "    <tr>\n",
       "      <th>C581484</th>\n",
       "      <th>12/9/2011 9:27</th>\n",
       "      <td>23843</td>\n",
       "      <td>PAPER CRAFT , LITTLE BIRDIE</td>\n",
       "      <td>-80995</td>\n",
       "      <td>2.08</td>\n",
       "      <td>16446.0</td>\n",
       "      <td>United Kingdom</td>\n",
       "    </tr>\n",
       "    <tr>\n",
       "      <th>C581490</th>\n",
       "      <th>12/9/2011 9:57</th>\n",
       "      <td>22178</td>\n",
       "      <td>VICTORIAN GLASS HANGING T-LIGHT</td>\n",
       "      <td>-12</td>\n",
       "      <td>1.95</td>\n",
       "      <td>14397.0</td>\n",
       "      <td>United Kingdom</td>\n",
       "    </tr>\n",
       "    <tr>\n",
       "      <th>C581499</th>\n",
       "      <th>12/9/2011 10:28</th>\n",
       "      <td>M</td>\n",
       "      <td>Manual</td>\n",
       "      <td>-1</td>\n",
       "      <td>224.69</td>\n",
       "      <td>15498.0</td>\n",
       "      <td>United Kingdom</td>\n",
       "    </tr>\n",
       "    <tr>\n",
       "      <th>C581568</th>\n",
       "      <th>12/9/2011 11:57</th>\n",
       "      <td>21258</td>\n",
       "      <td>VICTORIAN SEWING BOX LARGE</td>\n",
       "      <td>-5</td>\n",
       "      <td>10.95</td>\n",
       "      <td>15311.0</td>\n",
       "      <td>United Kingdom</td>\n",
       "    </tr>\n",
       "    <tr>\n",
       "      <th>C581569</th>\n",
       "      <th>12/9/2011 11:58</th>\n",
       "      <td>84978</td>\n",
       "      <td>HANGING HEART JAR T-LIGHT HOLDER</td>\n",
       "      <td>-1</td>\n",
       "      <td>1.25</td>\n",
       "      <td>17315.0</td>\n",
       "      <td>United Kingdom</td>\n",
       "    </tr>\n",
       "  </tbody>\n",
       "</table>\n",
       "<p>25943 rows × 6 columns</p>\n",
       "</div>"
      ],
      "text/plain": [
       "                          StockCode                         Description  \\\n",
       "InvoiceNo InvoiceDate                                                     \n",
       "536365    12/1/2010 8:26     85123A  WHITE HANGING HEART T-LIGHT HOLDER   \n",
       "536366    12/1/2010 8:28      22633              HAND WARMER UNION JACK   \n",
       "536367    12/1/2010 8:34      84879       ASSORTED COLOUR BIRD ORNAMENT   \n",
       "536368    12/1/2010 8:34      22960            JAM MAKING SET WITH JARS   \n",
       "536369    12/1/2010 8:35      21756            BATH BUILDING BLOCK WORD   \n",
       "...                             ...                                 ...   \n",
       "C581484   12/9/2011 9:27      23843         PAPER CRAFT , LITTLE BIRDIE   \n",
       "C581490   12/9/2011 9:57      22178     VICTORIAN GLASS HANGING T-LIGHT   \n",
       "C581499   12/9/2011 10:28         M                              Manual   \n",
       "C581568   12/9/2011 11:57     21258          VICTORIAN SEWING BOX LARGE   \n",
       "C581569   12/9/2011 11:58     84978    HANGING HEART JAR T-LIGHT HOLDER   \n",
       "\n",
       "                           Quantity  UnitPrice  CustomerID         Country  \n",
       "InvoiceNo InvoiceDate                                                       \n",
       "536365    12/1/2010 8:26          6       2.55     17850.0  United Kingdom  \n",
       "536366    12/1/2010 8:28          6       1.85     17850.0  United Kingdom  \n",
       "536367    12/1/2010 8:34         32       1.69     13047.0  United Kingdom  \n",
       "536368    12/1/2010 8:34          6       4.25     13047.0  United Kingdom  \n",
       "536369    12/1/2010 8:35          3       5.95     13047.0  United Kingdom  \n",
       "...                             ...        ...         ...             ...  \n",
       "C581484   12/9/2011 9:27     -80995       2.08     16446.0  United Kingdom  \n",
       "C581490   12/9/2011 9:57        -12       1.95     14397.0  United Kingdom  \n",
       "C581499   12/9/2011 10:28        -1     224.69     15498.0  United Kingdom  \n",
       "C581568   12/9/2011 11:57        -5      10.95     15311.0  United Kingdom  \n",
       "C581569   12/9/2011 11:58        -1       1.25     17315.0  United Kingdom  \n",
       "\n",
       "[25943 rows x 6 columns]"
      ]
     },
     "execution_count": 5,
     "metadata": {},
     "output_type": "execute_result"
    }
   ],
   "source": [
    "df1 = df.groupby(['InvoiceNo','InvoiceDate'])\n",
    "df1.first()"
   ]
  },
  {
   "cell_type": "markdown",
   "metadata": {
    "id": "2ZvuHvfg70ls"
   },
   "source": [
    "### Total number Items of transaction data"
   ]
  },
  {
   "cell_type": "code",
   "execution_count": 6,
   "metadata": {
    "colab": {
     "base_uri": "https://localhost:8080/",
     "height": 446
    },
    "id": "o0NeMkkBxjOR",
    "outputId": "c598a153-3eb7-4837-8b45-8994a5140490"
   },
   "outputs": [
    {
     "data": {
      "text/html": [
       "<div>\n",
       "<style scoped>\n",
       "    .dataframe tbody tr th:only-of-type {\n",
       "        vertical-align: middle;\n",
       "    }\n",
       "\n",
       "    .dataframe tbody tr th {\n",
       "        vertical-align: top;\n",
       "    }\n",
       "\n",
       "    .dataframe thead th {\n",
       "        text-align: right;\n",
       "    }\n",
       "</style>\n",
       "<table border=\"1\" class=\"dataframe\">\n",
       "  <thead>\n",
       "    <tr style=\"text-align: right;\">\n",
       "      <th></th>\n",
       "      <th></th>\n",
       "      <th>StockCode</th>\n",
       "      <th>Description</th>\n",
       "      <th>Quantity</th>\n",
       "      <th>UnitPrice</th>\n",
       "      <th>CustomerID</th>\n",
       "      <th>Country</th>\n",
       "    </tr>\n",
       "    <tr>\n",
       "      <th>InvoiceNo</th>\n",
       "      <th>InvoiceDate</th>\n",
       "      <th></th>\n",
       "      <th></th>\n",
       "      <th></th>\n",
       "      <th></th>\n",
       "      <th></th>\n",
       "      <th></th>\n",
       "    </tr>\n",
       "  </thead>\n",
       "  <tbody>\n",
       "    <tr>\n",
       "      <th>536365</th>\n",
       "      <th>12/1/2010 8:26</th>\n",
       "      <td>7</td>\n",
       "      <td>7</td>\n",
       "      <td>7</td>\n",
       "      <td>7</td>\n",
       "      <td>7</td>\n",
       "      <td>7</td>\n",
       "    </tr>\n",
       "    <tr>\n",
       "      <th>536366</th>\n",
       "      <th>12/1/2010 8:28</th>\n",
       "      <td>2</td>\n",
       "      <td>2</td>\n",
       "      <td>2</td>\n",
       "      <td>2</td>\n",
       "      <td>2</td>\n",
       "      <td>2</td>\n",
       "    </tr>\n",
       "    <tr>\n",
       "      <th>536367</th>\n",
       "      <th>12/1/2010 8:34</th>\n",
       "      <td>12</td>\n",
       "      <td>12</td>\n",
       "      <td>12</td>\n",
       "      <td>12</td>\n",
       "      <td>12</td>\n",
       "      <td>12</td>\n",
       "    </tr>\n",
       "    <tr>\n",
       "      <th>536368</th>\n",
       "      <th>12/1/2010 8:34</th>\n",
       "      <td>4</td>\n",
       "      <td>4</td>\n",
       "      <td>4</td>\n",
       "      <td>4</td>\n",
       "      <td>4</td>\n",
       "      <td>4</td>\n",
       "    </tr>\n",
       "    <tr>\n",
       "      <th>536369</th>\n",
       "      <th>12/1/2010 8:35</th>\n",
       "      <td>1</td>\n",
       "      <td>1</td>\n",
       "      <td>1</td>\n",
       "      <td>1</td>\n",
       "      <td>1</td>\n",
       "      <td>1</td>\n",
       "    </tr>\n",
       "    <tr>\n",
       "      <th>...</th>\n",
       "      <th>...</th>\n",
       "      <td>...</td>\n",
       "      <td>...</td>\n",
       "      <td>...</td>\n",
       "      <td>...</td>\n",
       "      <td>...</td>\n",
       "      <td>...</td>\n",
       "    </tr>\n",
       "    <tr>\n",
       "      <th>C581484</th>\n",
       "      <th>12/9/2011 9:27</th>\n",
       "      <td>1</td>\n",
       "      <td>1</td>\n",
       "      <td>1</td>\n",
       "      <td>1</td>\n",
       "      <td>1</td>\n",
       "      <td>1</td>\n",
       "    </tr>\n",
       "    <tr>\n",
       "      <th>C581490</th>\n",
       "      <th>12/9/2011 9:57</th>\n",
       "      <td>2</td>\n",
       "      <td>2</td>\n",
       "      <td>2</td>\n",
       "      <td>2</td>\n",
       "      <td>2</td>\n",
       "      <td>2</td>\n",
       "    </tr>\n",
       "    <tr>\n",
       "      <th>C581499</th>\n",
       "      <th>12/9/2011 10:28</th>\n",
       "      <td>1</td>\n",
       "      <td>1</td>\n",
       "      <td>1</td>\n",
       "      <td>1</td>\n",
       "      <td>1</td>\n",
       "      <td>1</td>\n",
       "    </tr>\n",
       "    <tr>\n",
       "      <th>C581568</th>\n",
       "      <th>12/9/2011 11:57</th>\n",
       "      <td>1</td>\n",
       "      <td>1</td>\n",
       "      <td>1</td>\n",
       "      <td>1</td>\n",
       "      <td>1</td>\n",
       "      <td>1</td>\n",
       "    </tr>\n",
       "    <tr>\n",
       "      <th>C581569</th>\n",
       "      <th>12/9/2011 11:58</th>\n",
       "      <td>2</td>\n",
       "      <td>2</td>\n",
       "      <td>2</td>\n",
       "      <td>2</td>\n",
       "      <td>2</td>\n",
       "      <td>2</td>\n",
       "    </tr>\n",
       "  </tbody>\n",
       "</table>\n",
       "<p>25943 rows × 6 columns</p>\n",
       "</div>"
      ],
      "text/plain": [
       "                           StockCode  Description  Quantity  UnitPrice  \\\n",
       "InvoiceNo InvoiceDate                                                    \n",
       "536365    12/1/2010 8:26           7            7         7          7   \n",
       "536366    12/1/2010 8:28           2            2         2          2   \n",
       "536367    12/1/2010 8:34          12           12        12         12   \n",
       "536368    12/1/2010 8:34           4            4         4          4   \n",
       "536369    12/1/2010 8:35           1            1         1          1   \n",
       "...                              ...          ...       ...        ...   \n",
       "C581484   12/9/2011 9:27           1            1         1          1   \n",
       "C581490   12/9/2011 9:57           2            2         2          2   \n",
       "C581499   12/9/2011 10:28          1            1         1          1   \n",
       "C581568   12/9/2011 11:57          1            1         1          1   \n",
       "C581569   12/9/2011 11:58          2            2         2          2   \n",
       "\n",
       "                           CustomerID  Country  \n",
       "InvoiceNo InvoiceDate                           \n",
       "536365    12/1/2010 8:26            7        7  \n",
       "536366    12/1/2010 8:28            2        2  \n",
       "536367    12/1/2010 8:34           12       12  \n",
       "536368    12/1/2010 8:34            4        4  \n",
       "536369    12/1/2010 8:35            1        1  \n",
       "...                               ...      ...  \n",
       "C581484   12/9/2011 9:27            1        1  \n",
       "C581490   12/9/2011 9:57            2        2  \n",
       "C581499   12/9/2011 10:28           1        1  \n",
       "C581568   12/9/2011 11:57           1        1  \n",
       "C581569   12/9/2011 11:58           2        2  \n",
       "\n",
       "[25943 rows x 6 columns]"
      ]
     },
     "execution_count": 6,
     "metadata": {},
     "output_type": "execute_result"
    }
   ],
   "source": [
    "df1.count()"
   ]
  },
  {
   "cell_type": "markdown",
   "metadata": {
    "id": "qCZlGNUj8Udr"
   },
   "source": [
    "### Total number of Transactions "
   ]
  },
  {
   "cell_type": "code",
   "execution_count": 7,
   "metadata": {
    "colab": {
     "base_uri": "https://localhost:8080/",
     "height": 35
    },
    "id": "q77d6zSe8Dcd",
    "outputId": "b9c9221b-141d-4c0f-8fb4-6d3eba66c31e"
   },
   "outputs": [
    {
     "data": {
      "text/plain": [
       "25943"
      ]
     },
     "execution_count": 7,
     "metadata": {},
     "output_type": "execute_result"
    }
   ],
   "source": [
    "len(df1)"
   ]
  },
  {
   "cell_type": "code",
   "execution_count": 17,
   "metadata": {
    "colab": {
     "base_uri": "https://localhost:8080/",
     "height": 35
    },
    "id": "xReGl-28xpAw",
    "outputId": "a2685cbb-8e48-4fce-f87d-f459a4c0b6be"
   },
   "outputs": [
    {
     "data": {
      "text/plain": [
       "['85123A', '71053', '84406B', '84029G', '84029E', '22752', '21730']"
      ]
     },
     "execution_count": 17,
     "metadata": {},
     "output_type": "execute_result"
    }
   ],
   "source": [
    "transactions = []\n",
    "des = df['StockCode']\n",
    "for x, y in df1.groups.items():\n",
    "    y = list(y)\n",
    "    transactions.append([des[y[j]] for j in range(len(y))])\n",
    "transactions[0]"
   ]
  },
  {
   "cell_type": "markdown",
   "metadata": {
    "id": "QkBxKON58yoi"
   },
   "source": [
    "### Total Number of Transactions with 1 item, 2 items , 3 items and 8 items"
   ]
  },
  {
   "cell_type": "code",
   "execution_count": 18,
   "metadata": {
    "colab": {
     "base_uri": "https://localhost:8080/",
     "height": 87
    },
    "id": "WtGTbGrHxzZO",
    "outputId": "023db660-e818-4974-fa17-bc13a8b4a2a3"
   },
   "outputs": [
    {
     "name": "stdout",
     "output_type": "stream",
     "text": [
      "Transaction with 1 item : 5850\n",
      "Transaction with 2 item : 1617\n",
      "Transaction with 3 item : 1095\n",
      "Transaction with 8 item : 632\n"
     ]
    }
   ],
   "source": [
    "i1 = i2 = i3 = i8 = 0\n",
    "for i in transactions:\n",
    "    if len(i)==1:\n",
    "        i1 = i1 + 1\n",
    "    if len(i)==2:\n",
    "        i2 = i2 + 1\n",
    "    if len(i)==3:\n",
    "        i3 = i3 + 1\n",
    "    if len(i)==8:\n",
    "        i8 = i8 + 1\n",
    "print(\"Transaction with 1 item : \"+str(i1))\n",
    "print(\"Transaction with 2 item : \"+str(i2))\n",
    "print(\"Transaction with 3 item : \"+str(i3))\n",
    "print(\"Transaction with 8 item : \"+str(i8))"
   ]
  },
  {
   "cell_type": "markdown",
   "metadata": {
    "id": "BQzRCVCf9UqV"
   },
   "source": [
    "### Number of items in the longest transaction"
   ]
  },
  {
   "cell_type": "code",
   "execution_count": 10,
   "metadata": {
    "colab": {
     "base_uri": "https://localhost:8080/",
     "height": 35
    },
    "id": "jG4CafTSx2_a",
    "outputId": "fde30764-fab4-4b8f-fa9c-04e46d338042"
   },
   "outputs": [
    {
     "data": {
      "text/plain": [
       "1114"
      ]
     },
     "execution_count": 10,
     "metadata": {},
     "output_type": "execute_result"
    }
   ],
   "source": [
    "df1.count().max()[0]"
   ]
  },
  {
   "cell_type": "code",
   "execution_count": 19,
   "metadata": {
    "colab": {
     "base_uri": "https://localhost:8080/",
     "height": 35
    },
    "id": "_oz2lUqQx7hV",
    "outputId": "5c961da6-3cab-4cb6-ade9-d09d271abc65"
   },
   "outputs": [
    {
     "data": {
      "text/plain": [
       "['22633', '22632']"
      ]
     },
     "execution_count": 19,
     "metadata": {},
     "output_type": "execute_result"
    }
   ],
   "source": [
    "trans = []\n",
    "for i in range(10):\n",
    "    trans.append(transactions[i])\n",
    "trans[1]"
   ]
  },
  {
   "cell_type": "code",
   "execution_count": 13,
   "metadata": {
    "colab": {
     "base_uri": "https://localhost:8080/",
     "height": 173
    },
    "id": "WVGAu7vnyVd5",
    "outputId": "07d793e2-11fe-4d79-80a7-bc3c5ea6b5c1"
   },
   "outputs": [
    {
     "name": "stdout",
     "output_type": "stream",
     "text": [
      "Collecting apyori\n",
      "  Downloading https://files.pythonhosted.org/packages/5e/62/5ffde5c473ea4b033490617ec5caa80d59804875ad3c3c57c0976533a21a/apyori-1.1.2.tar.gz\n",
      "Building wheels for collected packages: apyori\n",
      "  Building wheel for apyori (setup.py) ... \u001b[?25l\u001b[?25hdone\n",
      "  Created wheel for apyori: filename=apyori-1.1.2-cp36-none-any.whl size=5975 sha256=8942f1aaccd053d60ea116452445fe1e1d955a4f9406378cdf7a44e05fb47de8\n",
      "  Stored in directory: /root/.cache/pip/wheels/5d/92/bb/474bbadbc8c0062b9eb168f69982a0443263f8ab1711a8cad0\n",
      "Successfully built apyori\n",
      "Installing collected packages: apyori\n",
      "Successfully installed apyori-1.1.2\n"
     ]
    }
   ],
   "source": [
    "!pip install apyori"
   ]
  },
  {
   "cell_type": "markdown",
   "metadata": {
    "id": "vWykzek59uE5"
   },
   "source": [
    "### Training the Apriori model on the dataset"
   ]
  },
  {
   "cell_type": "code",
   "execution_count": 20,
   "metadata": {
    "colab": {
     "base_uri": "https://localhost:8080/",
     "height": 401
    },
    "id": "LQoZKsOK0lKt",
    "outputId": "461f0c0d-3029-446a-b89d-abae33ffc94b"
   },
   "outputs": [
    {
     "name": "stdout",
     "output_type": "stream",
     "text": [
      "There are 2307 RULES derived.\n",
      "RelationRecord(items=frozenset({'10002', '21035'}), support=0.1, ordered_statistics=[OrderedStatistic(items_base=frozenset({'10002'}), items_add=frozenset({'21035'}), confidence=1.0, lift=10.0), OrderedStatistic(items_base=frozenset({'21035'}), items_add=frozenset({'10002'}), confidence=1.0, lift=10.0)])\n",
      "RelationRecord(items=frozenset({'10002', '21724'}), support=0.1, ordered_statistics=[OrderedStatistic(items_base=frozenset({'10002'}), items_add=frozenset({'21724'}), confidence=1.0, lift=10.0), OrderedStatistic(items_base=frozenset({'21724'}), items_add=frozenset({'10002'}), confidence=1.0, lift=10.0)])\n",
      "RelationRecord(items=frozenset({'21731', '10002'}), support=0.1, ordered_statistics=[OrderedStatistic(items_base=frozenset({'10002'}), items_add=frozenset({'21731'}), confidence=1.0, lift=10.0), OrderedStatistic(items_base=frozenset({'21731'}), items_add=frozenset({'10002'}), confidence=1.0, lift=10.0)])\n",
      "RelationRecord(items=frozenset({'10002', '21791'}), support=0.1, ordered_statistics=[OrderedStatistic(items_base=frozenset({'10002'}), items_add=frozenset({'21791'}), confidence=1.0, lift=10.0), OrderedStatistic(items_base=frozenset({'21791'}), items_add=frozenset({'10002'}), confidence=1.0, lift=10.0)])\n",
      "RelationRecord(items=frozenset({'10002', '21883'}), support=0.1, ordered_statistics=[OrderedStatistic(items_base=frozenset({'10002'}), items_add=frozenset({'21883'}), confidence=1.0, lift=10.0), OrderedStatistic(items_base=frozenset({'21883'}), items_add=frozenset({'10002'}), confidence=1.0, lift=10.0)])\n",
      "RelationRecord(items=frozenset({'21913', '10002'}), support=0.1, ordered_statistics=[OrderedStatistic(items_base=frozenset({'10002'}), items_add=frozenset({'21913'}), confidence=1.0, lift=10.0), OrderedStatistic(items_base=frozenset({'21913'}), items_add=frozenset({'10002'}), confidence=1.0, lift=10.0)])\n",
      "RelationRecord(items=frozenset({'10002', '22326'}), support=0.1, ordered_statistics=[OrderedStatistic(items_base=frozenset({'10002'}), items_add=frozenset({'22326'}), confidence=1.0, lift=10.0), OrderedStatistic(items_base=frozenset({'22326'}), items_add=frozenset({'10002'}), confidence=1.0, lift=10.0)])\n",
      "RelationRecord(items=frozenset({'22492', '10002'}), support=0.1, ordered_statistics=[OrderedStatistic(items_base=frozenset({'10002'}), items_add=frozenset({'22492'}), confidence=1.0, lift=10.0), OrderedStatistic(items_base=frozenset({'22492'}), items_add=frozenset({'10002'}), confidence=1.0, lift=10.0)])\n",
      "RelationRecord(items=frozenset({'10002', '22540'}), support=0.1, ordered_statistics=[OrderedStatistic(items_base=frozenset({'10002'}), items_add=frozenset({'22540'}), confidence=1.0, lift=10.0), OrderedStatistic(items_base=frozenset({'22540'}), items_add=frozenset({'10002'}), confidence=1.0, lift=10.0)])\n",
      "RelationRecord(items=frozenset({'10002', '22544'}), support=0.1, ordered_statistics=[OrderedStatistic(items_base=frozenset({'10002'}), items_add=frozenset({'22544'}), confidence=1.0, lift=10.0), OrderedStatistic(items_base=frozenset({'22544'}), items_add=frozenset({'10002'}), confidence=1.0, lift=10.0)])\n",
      "RelationRecord(items=frozenset({'10002', '22629'}), support=0.1, ordered_statistics=[OrderedStatistic(items_base=frozenset({'10002'}), items_add=frozenset({'22629'}), confidence=1.0, lift=10.0), OrderedStatistic(items_base=frozenset({'22629'}), items_add=frozenset({'10002'}), confidence=1.0, lift=10.0)])\n",
      "RelationRecord(items=frozenset({'10002', '22631'}), support=0.1, ordered_statistics=[OrderedStatistic(items_base=frozenset({'10002'}), items_add=frozenset({'22631'}), confidence=1.0, lift=10.0), OrderedStatistic(items_base=frozenset({'22631'}), items_add=frozenset({'10002'}), confidence=1.0, lift=10.0)])\n",
      "RelationRecord(items=frozenset({'10002', '22659'}), support=0.1, ordered_statistics=[OrderedStatistic(items_base=frozenset({'10002'}), items_add=frozenset({'22659'}), confidence=1.0, lift=10.0), OrderedStatistic(items_base=frozenset({'22659'}), items_add=frozenset({'10002'}), confidence=1.0, lift=10.0)])\n",
      "RelationRecord(items=frozenset({'10002', '22661'}), support=0.1, ordered_statistics=[OrderedStatistic(items_base=frozenset({'10002'}), items_add=frozenset({'22661'}), confidence=1.0, lift=10.0), OrderedStatistic(items_base=frozenset({'22661'}), items_add=frozenset({'10002'}), confidence=1.0, lift=10.0)])\n",
      "RelationRecord(items=frozenset({'10002', '22726'}), support=0.1, ordered_statistics=[OrderedStatistic(items_base=frozenset({'10002'}), items_add=frozenset({'22726'}), confidence=1.0, lift=10.0), OrderedStatistic(items_base=frozenset({'22726'}), items_add=frozenset({'10002'}), confidence=1.0, lift=10.0)])\n",
      "RelationRecord(items=frozenset({'10002', '22727'}), support=0.1, ordered_statistics=[OrderedStatistic(items_base=frozenset({'10002'}), items_add=frozenset({'22727'}), confidence=1.0, lift=10.0), OrderedStatistic(items_base=frozenset({'22727'}), items_add=frozenset({'10002'}), confidence=1.0, lift=10.0)])\n",
      "RelationRecord(items=frozenset({'22728', '10002'}), support=0.1, ordered_statistics=[OrderedStatistic(items_base=frozenset({'10002'}), items_add=frozenset({'22728'}), confidence=1.0, lift=10.0), OrderedStatistic(items_base=frozenset({'22728'}), items_add=frozenset({'10002'}), confidence=1.0, lift=10.0)])\n",
      "RelationRecord(items=frozenset({'10002', '22900'}), support=0.1, ordered_statistics=[OrderedStatistic(items_base=frozenset({'10002'}), items_add=frozenset({'22900'}), confidence=1.0, lift=10.0), OrderedStatistic(items_base=frozenset({'22900'}), items_add=frozenset({'10002'}), confidence=1.0, lift=10.0)])\n",
      "RelationRecord(items=frozenset({'10002', 'POST'}), support=0.1, ordered_statistics=[OrderedStatistic(items_base=frozenset({'10002'}), items_add=frozenset({'POST'}), confidence=1.0, lift=10.0), OrderedStatistic(items_base=frozenset({'POST'}), items_add=frozenset({'10002'}), confidence=1.0, lift=10.0)])\n",
      "RelationRecord(items=frozenset({'21068', '20679'}), support=0.1, ordered_statistics=[OrderedStatistic(items_base=frozenset({'20679'}), items_add=frozenset({'21068'}), confidence=1.0, lift=10.0), OrderedStatistic(items_base=frozenset({'21068'}), items_add=frozenset({'20679'}), confidence=1.0, lift=10.0)])\n"
     ]
    }
   ],
   "source": [
    "from apyori import apriori\n",
    "rules = apriori(trans, min_support = 0.001, min_confidence = 0.8,max_length = 3)\n",
    "results = list(rules)\n",
    "print(\"There are {} RULES derived.\".format(len(results)))\n",
    "for i in range(20):\n",
    "  print(results[i])"
   ]
  },
  {
   "cell_type": "markdown",
   "metadata": {
    "id": "CcCQnCqQ-15P"
   },
   "source": [
    "### Print top 10 rules with support, Confidence and Lift"
   ]
  },
  {
   "cell_type": "code",
   "execution_count": 22,
   "metadata": {
    "colab": {
     "base_uri": "https://localhost:8080/",
     "height": 884
    },
    "id": "2ZQAPzPd1UA2",
    "outputId": "2aab8751-5adf-4f85-a95a-287998ae8be3"
   },
   "outputs": [
    {
     "name": "stdout",
     "output_type": "stream",
     "text": [
      "10002->21035\n",
      "Support: 0.1\n",
      "Confidence: 1.0\n",
      "Lift: 10.0\n",
      "===============================\n",
      "10002->21724\n",
      "Support: 0.1\n",
      "Confidence: 1.0\n",
      "Lift: 10.0\n",
      "===============================\n",
      "21731->10002\n",
      "Support: 0.1\n",
      "Confidence: 1.0\n",
      "Lift: 10.0\n",
      "===============================\n",
      "10002->21791\n",
      "Support: 0.1\n",
      "Confidence: 1.0\n",
      "Lift: 10.0\n",
      "===============================\n",
      "10002->21883\n",
      "Support: 0.1\n",
      "Confidence: 1.0\n",
      "Lift: 10.0\n",
      "===============================\n",
      "21913->10002\n",
      "Support: 0.1\n",
      "Confidence: 1.0\n",
      "Lift: 10.0\n",
      "===============================\n",
      "10002->22326\n",
      "Support: 0.1\n",
      "Confidence: 1.0\n",
      "Lift: 10.0\n",
      "===============================\n",
      "22492->10002\n",
      "Support: 0.1\n",
      "Confidence: 1.0\n",
      "Lift: 10.0\n",
      "===============================\n",
      "10002->22540\n",
      "Support: 0.1\n",
      "Confidence: 1.0\n",
      "Lift: 10.0\n",
      "===============================\n",
      "10002->22544\n",
      "Support: 0.1\n",
      "Confidence: 1.0\n",
      "Lift: 10.0\n",
      "===============================\n"
     ]
    }
   ],
   "source": [
    "i=0\n",
    "for item in results:\n",
    "  if i==10:\n",
    "    break\n",
    "  pair=item[0]\n",
    "  items=[x for x in pair]\n",
    "  print(items[0]+'->'+items[1])\n",
    "  print(\"Support: \" + str(item[1]))\n",
    "\n",
    "  print(\"Confidence: \" + str(item[2][0][2]))\n",
    "  print(\"Lift: \" + str(item[2][0][3]))\n",
    "  print(\"===============================\")\n",
    "  i=i+1"
   ]
  },
  {
   "cell_type": "markdown",
   "metadata": {
    "id": "NCIvR4qg_j3g"
   },
   "source": [
    "### All rules with 100% confidence"
   ]
  },
  {
   "cell_type": "code",
   "execution_count": 33,
   "metadata": {
    "colab": {
     "base_uri": "https://localhost:8080/",
     "height": 884
    },
    "id": "3CBmmmcA1ube",
    "outputId": "372e4fea-6406-4cca-c24c-4d61b9e6177d"
   },
   "outputs": [
    {
     "name": "stdout",
     "output_type": "stream",
     "text": [
      "10002->21035\n",
      "Support: 0.1\n",
      "Confidence: 1.0\n",
      "Lift: 10.0\n",
      "===============================\n",
      "10002->21724\n",
      "Support: 0.1\n",
      "Confidence: 1.0\n",
      "Lift: 10.0\n",
      "===============================\n",
      "10002->21731\n",
      "Support: 0.1\n",
      "Confidence: 1.0\n",
      "Lift: 10.0\n",
      "===============================\n",
      "10002->21791\n",
      "Support: 0.1\n",
      "Confidence: 1.0\n",
      "Lift: 10.0\n",
      "===============================\n",
      "10002->21883\n",
      "Support: 0.1\n",
      "Confidence: 1.0\n",
      "Lift: 10.0\n",
      "===============================\n",
      "10002->21913\n",
      "Support: 0.1\n",
      "Confidence: 1.0\n",
      "Lift: 10.0\n",
      "===============================\n",
      "10002->22326\n",
      "Support: 0.1\n",
      "Confidence: 1.0\n",
      "Lift: 10.0\n",
      "===============================\n",
      "10002->22492\n",
      "Support: 0.1\n",
      "Confidence: 1.0\n",
      "Lift: 10.0\n",
      "===============================\n",
      "22540->10002\n",
      "Support: 0.1\n",
      "Confidence: 1.0\n",
      "Lift: 10.0\n",
      "===============================\n",
      "10002->22544\n",
      "Support: 0.1\n",
      "Confidence: 1.0\n",
      "Lift: 10.0\n",
      "===============================\n"
     ]
    }
   ],
   "source": [
    "i=0\n",
    "for item in results:\n",
    "  if i==10:\n",
    "    break\n",
    "  pair=item[0]\n",
    "  items=[x for x in pair]\n",
    "  if item[2][0][2]==1:\n",
    "    print(items[0]+'->'+items[1])\n",
    "    print(\"Support: \" + str(item[1]))\n",
    "\n",
    "    print(\"Confidence: \" + str(item[2][0][2]))\n",
    "    print(\"Lift: \" + str(item[2][0][3]))\n",
    "    print(\"===============================\")\n",
    "    i=i+1"
   ]
  },
  {
   "cell_type": "markdown",
   "metadata": {
    "id": "deM74tsWABax"
   },
   "source": [
    "### Visualising the results"
   ]
  },
  {
   "cell_type": "code",
   "execution_count": 23,
   "metadata": {
    "colab": {
     "base_uri": "https://localhost:8080/",
     "height": 415
    },
    "id": "wJ3zA65N3q9m",
    "outputId": "a1553c02-7b9b-41ea-9d71-595a0b5d43ee"
   },
   "outputs": [
    {
     "data": {
      "text/html": [
       "<div>\n",
       "<style scoped>\n",
       "    .dataframe tbody tr th:only-of-type {\n",
       "        vertical-align: middle;\n",
       "    }\n",
       "\n",
       "    .dataframe tbody tr th {\n",
       "        vertical-align: top;\n",
       "    }\n",
       "\n",
       "    .dataframe thead th {\n",
       "        text-align: right;\n",
       "    }\n",
       "</style>\n",
       "<table border=\"1\" class=\"dataframe\">\n",
       "  <thead>\n",
       "    <tr style=\"text-align: right;\">\n",
       "      <th></th>\n",
       "      <th>Left Hand Side</th>\n",
       "      <th>Right Hand Side</th>\n",
       "      <th>Support</th>\n",
       "      <th>Confidence</th>\n",
       "      <th>Lift</th>\n",
       "    </tr>\n",
       "  </thead>\n",
       "  <tbody>\n",
       "    <tr>\n",
       "      <th>0</th>\n",
       "      <td>10002</td>\n",
       "      <td>21035</td>\n",
       "      <td>0.1</td>\n",
       "      <td>1.0</td>\n",
       "      <td>10.0</td>\n",
       "    </tr>\n",
       "    <tr>\n",
       "      <th>1</th>\n",
       "      <td>10002</td>\n",
       "      <td>21724</td>\n",
       "      <td>0.1</td>\n",
       "      <td>1.0</td>\n",
       "      <td>10.0</td>\n",
       "    </tr>\n",
       "    <tr>\n",
       "      <th>2</th>\n",
       "      <td>10002</td>\n",
       "      <td>21731</td>\n",
       "      <td>0.1</td>\n",
       "      <td>1.0</td>\n",
       "      <td>10.0</td>\n",
       "    </tr>\n",
       "    <tr>\n",
       "      <th>3</th>\n",
       "      <td>10002</td>\n",
       "      <td>21791</td>\n",
       "      <td>0.1</td>\n",
       "      <td>1.0</td>\n",
       "      <td>10.0</td>\n",
       "    </tr>\n",
       "    <tr>\n",
       "      <th>4</th>\n",
       "      <td>10002</td>\n",
       "      <td>21883</td>\n",
       "      <td>0.1</td>\n",
       "      <td>1.0</td>\n",
       "      <td>10.0</td>\n",
       "    </tr>\n",
       "    <tr>\n",
       "      <th>...</th>\n",
       "      <td>...</td>\n",
       "      <td>...</td>\n",
       "      <td>...</td>\n",
       "      <td>...</td>\n",
       "      <td>...</td>\n",
       "    </tr>\n",
       "    <tr>\n",
       "      <th>2302</th>\n",
       "      <td>82494L</td>\n",
       "      <td>84406B</td>\n",
       "      <td>0.1</td>\n",
       "      <td>1.0</td>\n",
       "      <td>5.0</td>\n",
       "    </tr>\n",
       "    <tr>\n",
       "      <th>2303</th>\n",
       "      <td>84029E</td>\n",
       "      <td>84406B</td>\n",
       "      <td>0.2</td>\n",
       "      <td>1.0</td>\n",
       "      <td>5.0</td>\n",
       "    </tr>\n",
       "    <tr>\n",
       "      <th>2304</th>\n",
       "      <td>84029E</td>\n",
       "      <td>84029G</td>\n",
       "      <td>0.2</td>\n",
       "      <td>1.0</td>\n",
       "      <td>5.0</td>\n",
       "    </tr>\n",
       "    <tr>\n",
       "      <th>2305</th>\n",
       "      <td>84029E</td>\n",
       "      <td>84406B</td>\n",
       "      <td>0.2</td>\n",
       "      <td>1.0</td>\n",
       "      <td>5.0</td>\n",
       "    </tr>\n",
       "    <tr>\n",
       "      <th>2306</th>\n",
       "      <td>84029G</td>\n",
       "      <td>84406B</td>\n",
       "      <td>0.2</td>\n",
       "      <td>1.0</td>\n",
       "      <td>5.0</td>\n",
       "    </tr>\n",
       "  </tbody>\n",
       "</table>\n",
       "<p>2307 rows × 5 columns</p>\n",
       "</div>"
      ],
      "text/plain": [
       "     Left Hand Side Right Hand Side  Support  Confidence  Lift\n",
       "0             10002           21035      0.1         1.0  10.0\n",
       "1             10002           21724      0.1         1.0  10.0\n",
       "2             10002           21731      0.1         1.0  10.0\n",
       "3             10002           21791      0.1         1.0  10.0\n",
       "4             10002           21883      0.1         1.0  10.0\n",
       "...             ...             ...      ...         ...   ...\n",
       "2302         82494L          84406B      0.1         1.0   5.0\n",
       "2303         84029E          84406B      0.2         1.0   5.0\n",
       "2304         84029E          84029G      0.2         1.0   5.0\n",
       "2305         84029E          84406B      0.2         1.0   5.0\n",
       "2306         84029G          84406B      0.2         1.0   5.0\n",
       "\n",
       "[2307 rows x 5 columns]"
      ]
     },
     "execution_count": 23,
     "metadata": {
      "tags": []
     },
     "output_type": "execute_result"
    }
   ],
   "source": [
    "def inspect(results):\n",
    "    lhs         = [tuple(result[2][0][0])[0] for result in results]\n",
    "    rhs         = [tuple(result[2][0][1])[0] for result in results]\n",
    "    supports    = [result[1] for result in results]\n",
    "    confidences = [result[2][0][2] for result in results]\n",
    "    lifts       = [result[2][0][3] for result in results]\n",
    "    return list(zip(lhs, rhs, supports, confidences, lifts))\n",
    "resultsinDataFrame = pd.DataFrame(inspect(results), columns = ['Left Hand Side', 'Right Hand Side', 'Support', 'Confidence', 'Lift'])\n",
    "resultsinDataFrame"
   ]
  }
 ],
 "metadata": {
  "colab": {
   "name": "DS-Lab4.ipynb",
   "provenance": []
  },
  "kernelspec": {
   "display_name": "Python 3",
   "language": "python",
   "name": "python3"
  },
  "language_info": {
   "codemirror_mode": {
    "name": "ipython",
    "version": 3
   },
   "file_extension": ".py",
   "mimetype": "text/x-python",
   "name": "python",
   "nbconvert_exporter": "python",
   "pygments_lexer": "ipython3",
   "version": "3.7.7"
  }
 },
 "nbformat": 4,
 "nbformat_minor": 1
}
