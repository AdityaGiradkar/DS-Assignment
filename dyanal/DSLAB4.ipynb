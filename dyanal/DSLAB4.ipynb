{
 "cells": [
  {
   "cell_type": "markdown",
   "metadata": {},
   "source": [
    "# Name: Dnyanal Shelke\n",
    "# TY D  Roll no:22\n",
    "# Gr No:11810571"
   ]
  },
  {
   "cell_type": "markdown",
   "metadata": {},
   "source": [
    "## Assignment 4: Association Rules\n",
    "### Online-Retail Dataset"
   ]
  },
  {
   "cell_type": "code",
   "execution_count": 1,
   "metadata": {},
   "outputs": [
    {
     "data": {
      "application/javascript": [
       "IPython.notebook.set_autosave_interval(5000)"
      ]
     },
     "metadata": {},
     "output_type": "display_data"
    },
    {
     "name": "stdout",
     "output_type": "stream",
     "text": [
      "Autosaving every 5 seconds\n"
     ]
    }
   ],
   "source": [
    "%autosave 5 "
   ]
  },
  {
   "cell_type": "markdown",
   "metadata": {},
   "source": [
    "## Importing Libraries  "
   ]
  },
  {
   "cell_type": "code",
   "execution_count": 3,
   "metadata": {},
   "outputs": [],
   "source": [
    "import numpy as np\n",
    "import matplotlib.pyplot as plt\n",
    "import pandas as pd"
   ]
  },
  {
   "cell_type": "markdown",
   "metadata": {},
   "source": [
    "## Importing Dataset"
   ]
  },
  {
   "cell_type": "code",
   "execution_count": 5,
   "metadata": {},
   "outputs": [
    {
     "data": {
      "text/html": [
       "<div>\n",
       "<style scoped>\n",
       "    .dataframe tbody tr th:only-of-type {\n",
       "        vertical-align: middle;\n",
       "    }\n",
       "\n",
       "    .dataframe tbody tr th {\n",
       "        vertical-align: top;\n",
       "    }\n",
       "\n",
       "    .dataframe thead th {\n",
       "        text-align: right;\n",
       "    }\n",
       "</style>\n",
       "<table border=\"1\" class=\"dataframe\">\n",
       "  <thead>\n",
       "    <tr style=\"text-align: right;\">\n",
       "      <th></th>\n",
       "      <th>InvoiceNo</th>\n",
       "      <th>StockCode</th>\n",
       "      <th>Description</th>\n",
       "      <th>Quantity</th>\n",
       "      <th>InvoiceDate</th>\n",
       "      <th>UnitPrice</th>\n",
       "      <th>CustomerID</th>\n",
       "      <th>Country</th>\n",
       "    </tr>\n",
       "  </thead>\n",
       "  <tbody>\n",
       "    <tr>\n",
       "      <th>0</th>\n",
       "      <td>536365</td>\n",
       "      <td>85123A</td>\n",
       "      <td>WHITE HANGING HEART T-LIGHT HOLDER</td>\n",
       "      <td>6</td>\n",
       "      <td>2010-12-01 08:26:00</td>\n",
       "      <td>2.55</td>\n",
       "      <td>17850.0</td>\n",
       "      <td>United Kingdom</td>\n",
       "    </tr>\n",
       "    <tr>\n",
       "      <th>1</th>\n",
       "      <td>536365</td>\n",
       "      <td>71053</td>\n",
       "      <td>WHITE METAL LANTERN</td>\n",
       "      <td>6</td>\n",
       "      <td>2010-12-01 08:26:00</td>\n",
       "      <td>3.39</td>\n",
       "      <td>17850.0</td>\n",
       "      <td>United Kingdom</td>\n",
       "    </tr>\n",
       "    <tr>\n",
       "      <th>2</th>\n",
       "      <td>536365</td>\n",
       "      <td>84406B</td>\n",
       "      <td>CREAM CUPID HEARTS COAT HANGER</td>\n",
       "      <td>8</td>\n",
       "      <td>2010-12-01 08:26:00</td>\n",
       "      <td>2.75</td>\n",
       "      <td>17850.0</td>\n",
       "      <td>United Kingdom</td>\n",
       "    </tr>\n",
       "    <tr>\n",
       "      <th>3</th>\n",
       "      <td>536365</td>\n",
       "      <td>84029G</td>\n",
       "      <td>KNITTED UNION FLAG HOT WATER BOTTLE</td>\n",
       "      <td>6</td>\n",
       "      <td>2010-12-01 08:26:00</td>\n",
       "      <td>3.39</td>\n",
       "      <td>17850.0</td>\n",
       "      <td>United Kingdom</td>\n",
       "    </tr>\n",
       "    <tr>\n",
       "      <th>4</th>\n",
       "      <td>536365</td>\n",
       "      <td>84029E</td>\n",
       "      <td>RED WOOLLY HOTTIE WHITE HEART.</td>\n",
       "      <td>6</td>\n",
       "      <td>2010-12-01 08:26:00</td>\n",
       "      <td>3.39</td>\n",
       "      <td>17850.0</td>\n",
       "      <td>United Kingdom</td>\n",
       "    </tr>\n",
       "    <tr>\n",
       "      <th>...</th>\n",
       "      <td>...</td>\n",
       "      <td>...</td>\n",
       "      <td>...</td>\n",
       "      <td>...</td>\n",
       "      <td>...</td>\n",
       "      <td>...</td>\n",
       "      <td>...</td>\n",
       "      <td>...</td>\n",
       "    </tr>\n",
       "    <tr>\n",
       "      <th>541904</th>\n",
       "      <td>581587</td>\n",
       "      <td>22613</td>\n",
       "      <td>PACK OF 20 SPACEBOY NAPKINS</td>\n",
       "      <td>12</td>\n",
       "      <td>2011-12-09 12:50:00</td>\n",
       "      <td>0.85</td>\n",
       "      <td>12680.0</td>\n",
       "      <td>France</td>\n",
       "    </tr>\n",
       "    <tr>\n",
       "      <th>541905</th>\n",
       "      <td>581587</td>\n",
       "      <td>22899</td>\n",
       "      <td>CHILDREN'S APRON DOLLY GIRL</td>\n",
       "      <td>6</td>\n",
       "      <td>2011-12-09 12:50:00</td>\n",
       "      <td>2.10</td>\n",
       "      <td>12680.0</td>\n",
       "      <td>France</td>\n",
       "    </tr>\n",
       "    <tr>\n",
       "      <th>541906</th>\n",
       "      <td>581587</td>\n",
       "      <td>23254</td>\n",
       "      <td>CHILDRENS CUTLERY DOLLY GIRL</td>\n",
       "      <td>4</td>\n",
       "      <td>2011-12-09 12:50:00</td>\n",
       "      <td>4.15</td>\n",
       "      <td>12680.0</td>\n",
       "      <td>France</td>\n",
       "    </tr>\n",
       "    <tr>\n",
       "      <th>541907</th>\n",
       "      <td>581587</td>\n",
       "      <td>23255</td>\n",
       "      <td>CHILDRENS CUTLERY CIRCUS PARADE</td>\n",
       "      <td>4</td>\n",
       "      <td>2011-12-09 12:50:00</td>\n",
       "      <td>4.15</td>\n",
       "      <td>12680.0</td>\n",
       "      <td>France</td>\n",
       "    </tr>\n",
       "    <tr>\n",
       "      <th>541908</th>\n",
       "      <td>581587</td>\n",
       "      <td>22138</td>\n",
       "      <td>BAKING SET 9 PIECE RETROSPOT</td>\n",
       "      <td>3</td>\n",
       "      <td>2011-12-09 12:50:00</td>\n",
       "      <td>4.95</td>\n",
       "      <td>12680.0</td>\n",
       "      <td>France</td>\n",
       "    </tr>\n",
       "  </tbody>\n",
       "</table>\n",
       "<p>541909 rows × 8 columns</p>\n",
       "</div>"
      ],
      "text/plain": [
       "       InvoiceNo StockCode                          Description  Quantity  \\\n",
       "0         536365    85123A   WHITE HANGING HEART T-LIGHT HOLDER         6   \n",
       "1         536365     71053                  WHITE METAL LANTERN         6   \n",
       "2         536365    84406B       CREAM CUPID HEARTS COAT HANGER         8   \n",
       "3         536365    84029G  KNITTED UNION FLAG HOT WATER BOTTLE         6   \n",
       "4         536365    84029E       RED WOOLLY HOTTIE WHITE HEART.         6   \n",
       "...          ...       ...                                  ...       ...   \n",
       "541904    581587     22613          PACK OF 20 SPACEBOY NAPKINS        12   \n",
       "541905    581587     22899         CHILDREN'S APRON DOLLY GIRL          6   \n",
       "541906    581587     23254        CHILDRENS CUTLERY DOLLY GIRL          4   \n",
       "541907    581587     23255      CHILDRENS CUTLERY CIRCUS PARADE         4   \n",
       "541908    581587     22138        BAKING SET 9 PIECE RETROSPOT          3   \n",
       "\n",
       "                InvoiceDate  UnitPrice  CustomerID         Country  \n",
       "0       2010-12-01 08:26:00       2.55     17850.0  United Kingdom  \n",
       "1       2010-12-01 08:26:00       3.39     17850.0  United Kingdom  \n",
       "2       2010-12-01 08:26:00       2.75     17850.0  United Kingdom  \n",
       "3       2010-12-01 08:26:00       3.39     17850.0  United Kingdom  \n",
       "4       2010-12-01 08:26:00       3.39     17850.0  United Kingdom  \n",
       "...                     ...        ...         ...             ...  \n",
       "541904  2011-12-09 12:50:00       0.85     12680.0          France  \n",
       "541905  2011-12-09 12:50:00       2.10     12680.0          France  \n",
       "541906  2011-12-09 12:50:00       4.15     12680.0          France  \n",
       "541907  2011-12-09 12:50:00       4.15     12680.0          France  \n",
       "541908  2011-12-09 12:50:00       4.95     12680.0          France  \n",
       "\n",
       "[541909 rows x 8 columns]"
      ]
     },
     "execution_count": 5,
     "metadata": {},
     "output_type": "execute_result"
    }
   ],
   "source": [
    "df = pd.read_csv(r\"C:\\Users\\hp\\Documents\\DS LAB\\Online_Retail.csv\")\n",
    "df"
   ]
  },
  {
   "cell_type": "code",
   "execution_count": 6,
   "metadata": {},
   "outputs": [
    {
     "data": {
      "text/html": [
       "<div>\n",
       "<style scoped>\n",
       "    .dataframe tbody tr th:only-of-type {\n",
       "        vertical-align: middle;\n",
       "    }\n",
       "\n",
       "    .dataframe tbody tr th {\n",
       "        vertical-align: top;\n",
       "    }\n",
       "\n",
       "    .dataframe thead th {\n",
       "        text-align: right;\n",
       "    }\n",
       "</style>\n",
       "<table border=\"1\" class=\"dataframe\">\n",
       "  <thead>\n",
       "    <tr style=\"text-align: right;\">\n",
       "      <th></th>\n",
       "      <th>InvoiceNo</th>\n",
       "      <th>StockCode</th>\n",
       "      <th>Description</th>\n",
       "      <th>Quantity</th>\n",
       "      <th>InvoiceDate</th>\n",
       "      <th>UnitPrice</th>\n",
       "      <th>CustomerID</th>\n",
       "      <th>Country</th>\n",
       "    </tr>\n",
       "  </thead>\n",
       "  <tbody>\n",
       "    <tr>\n",
       "      <th>0</th>\n",
       "      <td>536365</td>\n",
       "      <td>85123A</td>\n",
       "      <td>WHITE HANGING HEART T-LIGHT HOLDER</td>\n",
       "      <td>6</td>\n",
       "      <td>2010-12-01 08:26:00</td>\n",
       "      <td>2.55</td>\n",
       "      <td>17850.0</td>\n",
       "      <td>United Kingdom</td>\n",
       "    </tr>\n",
       "    <tr>\n",
       "      <th>1</th>\n",
       "      <td>536365</td>\n",
       "      <td>71053</td>\n",
       "      <td>WHITE METAL LANTERN</td>\n",
       "      <td>6</td>\n",
       "      <td>2010-12-01 08:26:00</td>\n",
       "      <td>3.39</td>\n",
       "      <td>17850.0</td>\n",
       "      <td>United Kingdom</td>\n",
       "    </tr>\n",
       "    <tr>\n",
       "      <th>2</th>\n",
       "      <td>536365</td>\n",
       "      <td>84406B</td>\n",
       "      <td>CREAM CUPID HEARTS COAT HANGER</td>\n",
       "      <td>8</td>\n",
       "      <td>2010-12-01 08:26:00</td>\n",
       "      <td>2.75</td>\n",
       "      <td>17850.0</td>\n",
       "      <td>United Kingdom</td>\n",
       "    </tr>\n",
       "    <tr>\n",
       "      <th>3</th>\n",
       "      <td>536365</td>\n",
       "      <td>84029G</td>\n",
       "      <td>KNITTED UNION FLAG HOT WATER BOTTLE</td>\n",
       "      <td>6</td>\n",
       "      <td>2010-12-01 08:26:00</td>\n",
       "      <td>3.39</td>\n",
       "      <td>17850.0</td>\n",
       "      <td>United Kingdom</td>\n",
       "    </tr>\n",
       "    <tr>\n",
       "      <th>4</th>\n",
       "      <td>536365</td>\n",
       "      <td>84029E</td>\n",
       "      <td>RED WOOLLY HOTTIE WHITE HEART.</td>\n",
       "      <td>6</td>\n",
       "      <td>2010-12-01 08:26:00</td>\n",
       "      <td>3.39</td>\n",
       "      <td>17850.0</td>\n",
       "      <td>United Kingdom</td>\n",
       "    </tr>\n",
       "  </tbody>\n",
       "</table>\n",
       "</div>"
      ],
      "text/plain": [
       "  InvoiceNo StockCode                          Description  Quantity  \\\n",
       "0    536365    85123A   WHITE HANGING HEART T-LIGHT HOLDER         6   \n",
       "1    536365     71053                  WHITE METAL LANTERN         6   \n",
       "2    536365    84406B       CREAM CUPID HEARTS COAT HANGER         8   \n",
       "3    536365    84029G  KNITTED UNION FLAG HOT WATER BOTTLE         6   \n",
       "4    536365    84029E       RED WOOLLY HOTTIE WHITE HEART.         6   \n",
       "\n",
       "           InvoiceDate  UnitPrice  CustomerID         Country  \n",
       "0  2010-12-01 08:26:00       2.55     17850.0  United Kingdom  \n",
       "1  2010-12-01 08:26:00       3.39     17850.0  United Kingdom  \n",
       "2  2010-12-01 08:26:00       2.75     17850.0  United Kingdom  \n",
       "3  2010-12-01 08:26:00       3.39     17850.0  United Kingdom  \n",
       "4  2010-12-01 08:26:00       3.39     17850.0  United Kingdom  "
      ]
     },
     "execution_count": 6,
     "metadata": {},
     "output_type": "execute_result"
    }
   ],
   "source": [
    "df.head()"
   ]
  },
  {
   "cell_type": "code",
   "execution_count": 7,
   "metadata": {},
   "outputs": [
    {
     "data": {
      "text/plain": [
       "InvoiceNo       object\n",
       "StockCode       object\n",
       "Description     object\n",
       "Quantity         int64\n",
       "InvoiceDate     object\n",
       "UnitPrice      float64\n",
       "CustomerID     float64\n",
       "Country         object\n",
       "dtype: object"
      ]
     },
     "execution_count": 7,
     "metadata": {},
     "output_type": "execute_result"
    }
   ],
   "source": [
    "df.dtypes"
   ]
  },
  {
   "cell_type": "code",
   "execution_count": 8,
   "metadata": {},
   "outputs": [
    {
     "data": {
      "text/plain": [
       "(541909, 8)"
      ]
     },
     "execution_count": 8,
     "metadata": {},
     "output_type": "execute_result"
    }
   ],
   "source": [
    "df.shape"
   ]
  },
  {
   "cell_type": "markdown",
   "metadata": {},
   "source": [
    "## Group data in the dataframe by InvoiceNo and Invoice Date"
   ]
  },
  {
   "cell_type": "code",
   "execution_count": 9,
   "metadata": {},
   "outputs": [
    {
     "data": {
      "text/html": [
       "<div>\n",
       "<style scoped>\n",
       "    .dataframe tbody tr th:only-of-type {\n",
       "        vertical-align: middle;\n",
       "    }\n",
       "\n",
       "    .dataframe tbody tr th {\n",
       "        vertical-align: top;\n",
       "    }\n",
       "\n",
       "    .dataframe thead th {\n",
       "        text-align: right;\n",
       "    }\n",
       "</style>\n",
       "<table border=\"1\" class=\"dataframe\">\n",
       "  <thead>\n",
       "    <tr style=\"text-align: right;\">\n",
       "      <th></th>\n",
       "      <th></th>\n",
       "      <th>StockCode</th>\n",
       "      <th>Description</th>\n",
       "      <th>Quantity</th>\n",
       "      <th>UnitPrice</th>\n",
       "      <th>CustomerID</th>\n",
       "      <th>Country</th>\n",
       "    </tr>\n",
       "    <tr>\n",
       "      <th>InvoiceNo</th>\n",
       "      <th>InvoiceDate</th>\n",
       "      <th></th>\n",
       "      <th></th>\n",
       "      <th></th>\n",
       "      <th></th>\n",
       "      <th></th>\n",
       "      <th></th>\n",
       "    </tr>\n",
       "  </thead>\n",
       "  <tbody>\n",
       "    <tr>\n",
       "      <th>536365</th>\n",
       "      <th>2010-12-01 08:26:00</th>\n",
       "      <td>85123A</td>\n",
       "      <td>WHITE HANGING HEART T-LIGHT HOLDER</td>\n",
       "      <td>6</td>\n",
       "      <td>2.55</td>\n",
       "      <td>17850.0</td>\n",
       "      <td>United Kingdom</td>\n",
       "    </tr>\n",
       "    <tr>\n",
       "      <th>536366</th>\n",
       "      <th>2010-12-01 08:28:00</th>\n",
       "      <td>22633</td>\n",
       "      <td>HAND WARMER UNION JACK</td>\n",
       "      <td>6</td>\n",
       "      <td>1.85</td>\n",
       "      <td>17850.0</td>\n",
       "      <td>United Kingdom</td>\n",
       "    </tr>\n",
       "    <tr>\n",
       "      <th>536367</th>\n",
       "      <th>2010-12-01 08:34:00</th>\n",
       "      <td>84879</td>\n",
       "      <td>ASSORTED COLOUR BIRD ORNAMENT</td>\n",
       "      <td>32</td>\n",
       "      <td>1.69</td>\n",
       "      <td>13047.0</td>\n",
       "      <td>United Kingdom</td>\n",
       "    </tr>\n",
       "    <tr>\n",
       "      <th>536368</th>\n",
       "      <th>2010-12-01 08:34:00</th>\n",
       "      <td>22960</td>\n",
       "      <td>JAM MAKING SET WITH JARS</td>\n",
       "      <td>6</td>\n",
       "      <td>4.25</td>\n",
       "      <td>13047.0</td>\n",
       "      <td>United Kingdom</td>\n",
       "    </tr>\n",
       "    <tr>\n",
       "      <th>536369</th>\n",
       "      <th>2010-12-01 08:35:00</th>\n",
       "      <td>21756</td>\n",
       "      <td>BATH BUILDING BLOCK WORD</td>\n",
       "      <td>3</td>\n",
       "      <td>5.95</td>\n",
       "      <td>13047.0</td>\n",
       "      <td>United Kingdom</td>\n",
       "    </tr>\n",
       "    <tr>\n",
       "      <th>...</th>\n",
       "      <th>...</th>\n",
       "      <td>...</td>\n",
       "      <td>...</td>\n",
       "      <td>...</td>\n",
       "      <td>...</td>\n",
       "      <td>...</td>\n",
       "      <td>...</td>\n",
       "    </tr>\n",
       "    <tr>\n",
       "      <th>C581484</th>\n",
       "      <th>2011-12-09 09:27:00</th>\n",
       "      <td>23843</td>\n",
       "      <td>PAPER CRAFT , LITTLE BIRDIE</td>\n",
       "      <td>-80995</td>\n",
       "      <td>2.08</td>\n",
       "      <td>16446.0</td>\n",
       "      <td>United Kingdom</td>\n",
       "    </tr>\n",
       "    <tr>\n",
       "      <th>C581490</th>\n",
       "      <th>2011-12-09 09:57:00</th>\n",
       "      <td>22178</td>\n",
       "      <td>VICTORIAN GLASS HANGING T-LIGHT</td>\n",
       "      <td>-12</td>\n",
       "      <td>1.95</td>\n",
       "      <td>14397.0</td>\n",
       "      <td>United Kingdom</td>\n",
       "    </tr>\n",
       "    <tr>\n",
       "      <th>C581499</th>\n",
       "      <th>2011-12-09 10:28:00</th>\n",
       "      <td>M</td>\n",
       "      <td>Manual</td>\n",
       "      <td>-1</td>\n",
       "      <td>224.69</td>\n",
       "      <td>15498.0</td>\n",
       "      <td>United Kingdom</td>\n",
       "    </tr>\n",
       "    <tr>\n",
       "      <th>C581568</th>\n",
       "      <th>2011-12-09 11:57:00</th>\n",
       "      <td>21258</td>\n",
       "      <td>VICTORIAN SEWING BOX LARGE</td>\n",
       "      <td>-5</td>\n",
       "      <td>10.95</td>\n",
       "      <td>15311.0</td>\n",
       "      <td>United Kingdom</td>\n",
       "    </tr>\n",
       "    <tr>\n",
       "      <th>C581569</th>\n",
       "      <th>2011-12-09 11:58:00</th>\n",
       "      <td>84978</td>\n",
       "      <td>HANGING HEART JAR T-LIGHT HOLDER</td>\n",
       "      <td>-1</td>\n",
       "      <td>1.25</td>\n",
       "      <td>17315.0</td>\n",
       "      <td>United Kingdom</td>\n",
       "    </tr>\n",
       "  </tbody>\n",
       "</table>\n",
       "<p>25943 rows × 6 columns</p>\n",
       "</div>"
      ],
      "text/plain": [
       "                              StockCode                         Description  \\\n",
       "InvoiceNo InvoiceDate                                                         \n",
       "536365    2010-12-01 08:26:00    85123A  WHITE HANGING HEART T-LIGHT HOLDER   \n",
       "536366    2010-12-01 08:28:00     22633              HAND WARMER UNION JACK   \n",
       "536367    2010-12-01 08:34:00     84879       ASSORTED COLOUR BIRD ORNAMENT   \n",
       "536368    2010-12-01 08:34:00     22960            JAM MAKING SET WITH JARS   \n",
       "536369    2010-12-01 08:35:00     21756            BATH BUILDING BLOCK WORD   \n",
       "...                                 ...                                 ...   \n",
       "C581484   2011-12-09 09:27:00     23843         PAPER CRAFT , LITTLE BIRDIE   \n",
       "C581490   2011-12-09 09:57:00     22178     VICTORIAN GLASS HANGING T-LIGHT   \n",
       "C581499   2011-12-09 10:28:00         M                              Manual   \n",
       "C581568   2011-12-09 11:57:00     21258          VICTORIAN SEWING BOX LARGE   \n",
       "C581569   2011-12-09 11:58:00     84978    HANGING HEART JAR T-LIGHT HOLDER   \n",
       "\n",
       "                               Quantity  UnitPrice  CustomerID         Country  \n",
       "InvoiceNo InvoiceDate                                                           \n",
       "536365    2010-12-01 08:26:00         6       2.55     17850.0  United Kingdom  \n",
       "536366    2010-12-01 08:28:00         6       1.85     17850.0  United Kingdom  \n",
       "536367    2010-12-01 08:34:00        32       1.69     13047.0  United Kingdom  \n",
       "536368    2010-12-01 08:34:00         6       4.25     13047.0  United Kingdom  \n",
       "536369    2010-12-01 08:35:00         3       5.95     13047.0  United Kingdom  \n",
       "...                                 ...        ...         ...             ...  \n",
       "C581484   2011-12-09 09:27:00    -80995       2.08     16446.0  United Kingdom  \n",
       "C581490   2011-12-09 09:57:00       -12       1.95     14397.0  United Kingdom  \n",
       "C581499   2011-12-09 10:28:00        -1     224.69     15498.0  United Kingdom  \n",
       "C581568   2011-12-09 11:57:00        -5      10.95     15311.0  United Kingdom  \n",
       "C581569   2011-12-09 11:58:00        -1       1.25     17315.0  United Kingdom  \n",
       "\n",
       "[25943 rows x 6 columns]"
      ]
     },
     "execution_count": 9,
     "metadata": {},
     "output_type": "execute_result"
    }
   ],
   "source": [
    "df1 = df.groupby(['InvoiceNo','InvoiceDate'])\n",
    "df1.first()"
   ]
  },
  {
   "cell_type": "markdown",
   "metadata": {},
   "source": [
    "## Total number of Transactions and items of transaction data"
   ]
  },
  {
   "cell_type": "code",
   "execution_count": 10,
   "metadata": {},
   "outputs": [
    {
     "data": {
      "text/plain": [
       "25943"
      ]
     },
     "execution_count": 10,
     "metadata": {},
     "output_type": "execute_result"
    }
   ],
   "source": [
    "len(df1)"
   ]
  },
  {
   "cell_type": "code",
   "execution_count": 11,
   "metadata": {},
   "outputs": [
    {
     "data": {
      "text/plain": [
       "['85123A', '71053', '84406B', '84029G', '84029E', '22752', '21730']"
      ]
     },
     "execution_count": 11,
     "metadata": {},
     "output_type": "execute_result"
    }
   ],
   "source": [
    "transactions = []\n",
    "des = df['StockCode']\n",
    "for x, y in df1.groups.items():\n",
    "    y = list(y)\n",
    "    transactions.append([des[y[j]] for j in range(len(y))])\n",
    "transactions[0]"
   ]
  },
  {
   "cell_type": "markdown",
   "metadata": {},
   "source": [
    "## Total Number of Transactions with 1 item, 2 items , 3 items and 8 items"
   ]
  },
  {
   "cell_type": "code",
   "execution_count": 12,
   "metadata": {},
   "outputs": [
    {
     "name": "stdout",
     "output_type": "stream",
     "text": [
      "Transaction with 1 item : 5850\n",
      "Transaction with 2 item : 1617\n",
      "Transaction with 3 item : 1095\n",
      "Transaction with 8 item : 632\n"
     ]
    }
   ],
   "source": [
    "i1 = i2 = i3 = i8 = 0\n",
    "for i in transactions:\n",
    "    if len(i)==1:\n",
    "        i1 = i1 + 1\n",
    "    if len(i)==2:\n",
    "        i2 = i2 + 1\n",
    "    if len(i)==3:\n",
    "        i3 = i3 + 1\n",
    "    if len(i)==8:\n",
    "        i8 = i8 + 1\n",
    "print(\"Transaction with 1 item : \"+str(i1))\n",
    "print(\"Transaction with 2 item : \"+str(i2))\n",
    "print(\"Transaction with 3 item : \"+str(i3))\n",
    "print(\"Transaction with 8 item : \"+str(i8))"
   ]
  },
  {
   "cell_type": "markdown",
   "metadata": {},
   "source": [
    "## Number of items in the longest transaction"
   ]
  },
  {
   "cell_type": "code",
   "execution_count": 13,
   "metadata": {},
   "outputs": [
    {
     "name": "stdout",
     "output_type": "stream",
     "text": [
      "Number of items in longest transaction  1114\n"
     ]
    }
   ],
   "source": [
    "print(\"Number of items in longest transaction \",df1.count().max()[0])"
   ]
  },
  {
   "cell_type": "code",
   "execution_count": 14,
   "metadata": {},
   "outputs": [
    {
     "data": {
      "text/plain": [
       "['22633', '22632']"
      ]
     },
     "execution_count": 14,
     "metadata": {},
     "output_type": "execute_result"
    }
   ],
   "source": [
    "trans = []\n",
    "for i in range(10):\n",
    "    trans.append(transactions[i])\n",
    "trans[1]"
   ]
  },
  {
   "cell_type": "markdown",
   "metadata": {},
   "source": [
    "## Training the Apriori model on the dataset"
   ]
  },
  {
   "cell_type": "code",
   "execution_count": 15,
   "metadata": {},
   "outputs": [
    {
     "name": "stdout",
     "output_type": "stream",
     "text": [
      "There are 2307 RULES derived.\n",
      "RelationRecord(items=frozenset({'10002', '21035'}), support=0.1, ordered_statistics=[OrderedStatistic(items_base=frozenset({'10002'}), items_add=frozenset({'21035'}), confidence=1.0, lift=10.0), OrderedStatistic(items_base=frozenset({'21035'}), items_add=frozenset({'10002'}), confidence=1.0, lift=10.0)])\n",
      "RelationRecord(items=frozenset({'10002', '21724'}), support=0.1, ordered_statistics=[OrderedStatistic(items_base=frozenset({'10002'}), items_add=frozenset({'21724'}), confidence=1.0, lift=10.0), OrderedStatistic(items_base=frozenset({'21724'}), items_add=frozenset({'10002'}), confidence=1.0, lift=10.0)])\n",
      "RelationRecord(items=frozenset({'10002', '21731'}), support=0.1, ordered_statistics=[OrderedStatistic(items_base=frozenset({'10002'}), items_add=frozenset({'21731'}), confidence=1.0, lift=10.0), OrderedStatistic(items_base=frozenset({'21731'}), items_add=frozenset({'10002'}), confidence=1.0, lift=10.0)])\n",
      "RelationRecord(items=frozenset({'10002', '21791'}), support=0.1, ordered_statistics=[OrderedStatistic(items_base=frozenset({'10002'}), items_add=frozenset({'21791'}), confidence=1.0, lift=10.0), OrderedStatistic(items_base=frozenset({'21791'}), items_add=frozenset({'10002'}), confidence=1.0, lift=10.0)])\n",
      "RelationRecord(items=frozenset({'21883', '10002'}), support=0.1, ordered_statistics=[OrderedStatistic(items_base=frozenset({'10002'}), items_add=frozenset({'21883'}), confidence=1.0, lift=10.0), OrderedStatistic(items_base=frozenset({'21883'}), items_add=frozenset({'10002'}), confidence=1.0, lift=10.0)])\n",
      "RelationRecord(items=frozenset({'10002', '21913'}), support=0.1, ordered_statistics=[OrderedStatistic(items_base=frozenset({'10002'}), items_add=frozenset({'21913'}), confidence=1.0, lift=10.0), OrderedStatistic(items_base=frozenset({'21913'}), items_add=frozenset({'10002'}), confidence=1.0, lift=10.0)])\n",
      "RelationRecord(items=frozenset({'10002', '22326'}), support=0.1, ordered_statistics=[OrderedStatistic(items_base=frozenset({'10002'}), items_add=frozenset({'22326'}), confidence=1.0, lift=10.0), OrderedStatistic(items_base=frozenset({'22326'}), items_add=frozenset({'10002'}), confidence=1.0, lift=10.0)])\n",
      "RelationRecord(items=frozenset({'22492', '10002'}), support=0.1, ordered_statistics=[OrderedStatistic(items_base=frozenset({'10002'}), items_add=frozenset({'22492'}), confidence=1.0, lift=10.0), OrderedStatistic(items_base=frozenset({'22492'}), items_add=frozenset({'10002'}), confidence=1.0, lift=10.0)])\n",
      "RelationRecord(items=frozenset({'10002', '22540'}), support=0.1, ordered_statistics=[OrderedStatistic(items_base=frozenset({'10002'}), items_add=frozenset({'22540'}), confidence=1.0, lift=10.0), OrderedStatistic(items_base=frozenset({'22540'}), items_add=frozenset({'10002'}), confidence=1.0, lift=10.0)])\n",
      "RelationRecord(items=frozenset({'10002', '22544'}), support=0.1, ordered_statistics=[OrderedStatistic(items_base=frozenset({'10002'}), items_add=frozenset({'22544'}), confidence=1.0, lift=10.0), OrderedStatistic(items_base=frozenset({'22544'}), items_add=frozenset({'10002'}), confidence=1.0, lift=10.0)])\n",
      "RelationRecord(items=frozenset({'22629', '10002'}), support=0.1, ordered_statistics=[OrderedStatistic(items_base=frozenset({'10002'}), items_add=frozenset({'22629'}), confidence=1.0, lift=10.0), OrderedStatistic(items_base=frozenset({'22629'}), items_add=frozenset({'10002'}), confidence=1.0, lift=10.0)])\n",
      "RelationRecord(items=frozenset({'22631', '10002'}), support=0.1, ordered_statistics=[OrderedStatistic(items_base=frozenset({'10002'}), items_add=frozenset({'22631'}), confidence=1.0, lift=10.0), OrderedStatistic(items_base=frozenset({'22631'}), items_add=frozenset({'10002'}), confidence=1.0, lift=10.0)])\n",
      "RelationRecord(items=frozenset({'22659', '10002'}), support=0.1, ordered_statistics=[OrderedStatistic(items_base=frozenset({'10002'}), items_add=frozenset({'22659'}), confidence=1.0, lift=10.0), OrderedStatistic(items_base=frozenset({'22659'}), items_add=frozenset({'10002'}), confidence=1.0, lift=10.0)])\n",
      "RelationRecord(items=frozenset({'22661', '10002'}), support=0.1, ordered_statistics=[OrderedStatistic(items_base=frozenset({'10002'}), items_add=frozenset({'22661'}), confidence=1.0, lift=10.0), OrderedStatistic(items_base=frozenset({'22661'}), items_add=frozenset({'10002'}), confidence=1.0, lift=10.0)])\n",
      "RelationRecord(items=frozenset({'10002', '22726'}), support=0.1, ordered_statistics=[OrderedStatistic(items_base=frozenset({'10002'}), items_add=frozenset({'22726'}), confidence=1.0, lift=10.0), OrderedStatistic(items_base=frozenset({'22726'}), items_add=frozenset({'10002'}), confidence=1.0, lift=10.0)])\n",
      "RelationRecord(items=frozenset({'10002', '22727'}), support=0.1, ordered_statistics=[OrderedStatistic(items_base=frozenset({'10002'}), items_add=frozenset({'22727'}), confidence=1.0, lift=10.0), OrderedStatistic(items_base=frozenset({'22727'}), items_add=frozenset({'10002'}), confidence=1.0, lift=10.0)])\n",
      "RelationRecord(items=frozenset({'10002', '22728'}), support=0.1, ordered_statistics=[OrderedStatistic(items_base=frozenset({'10002'}), items_add=frozenset({'22728'}), confidence=1.0, lift=10.0), OrderedStatistic(items_base=frozenset({'22728'}), items_add=frozenset({'10002'}), confidence=1.0, lift=10.0)])\n",
      "RelationRecord(items=frozenset({'22900', '10002'}), support=0.1, ordered_statistics=[OrderedStatistic(items_base=frozenset({'10002'}), items_add=frozenset({'22900'}), confidence=1.0, lift=10.0), OrderedStatistic(items_base=frozenset({'22900'}), items_add=frozenset({'10002'}), confidence=1.0, lift=10.0)])\n",
      "RelationRecord(items=frozenset({'10002', 'POST'}), support=0.1, ordered_statistics=[OrderedStatistic(items_base=frozenset({'10002'}), items_add=frozenset({'POST'}), confidence=1.0, lift=10.0), OrderedStatistic(items_base=frozenset({'POST'}), items_add=frozenset({'10002'}), confidence=1.0, lift=10.0)])\n",
      "RelationRecord(items=frozenset({'20679', '21068'}), support=0.1, ordered_statistics=[OrderedStatistic(items_base=frozenset({'20679'}), items_add=frozenset({'21068'}), confidence=1.0, lift=10.0), OrderedStatistic(items_base=frozenset({'21068'}), items_add=frozenset({'20679'}), confidence=1.0, lift=10.0)])\n"
     ]
    }
   ],
   "source": [
    "from apyori import apriori\n",
    "rules = apriori(trans, min_support = 0.001, min_confidence = 0.8,max_length = 3)\n",
    "results = list(rules)\n",
    "print(\"There are {} RULES derived.\".format(len(results)))\n",
    "for i in range(20):\n",
    "  print(results[i])"
   ]
  },
  {
   "cell_type": "markdown",
   "metadata": {},
   "source": [
    "## Print only top 10 rules in following format"
   ]
  },
  {
   "cell_type": "code",
   "execution_count": 17,
   "metadata": {},
   "outputs": [
    {
     "name": "stdout",
     "output_type": "stream",
     "text": [
      "10002->21035\n",
      "Support: 0.1\n",
      "Confidence: 1.0\n",
      "Lift: 10.0\n",
      "===============================\n",
      "10002->21724\n",
      "Support: 0.1\n",
      "Confidence: 1.0\n",
      "Lift: 10.0\n",
      "===============================\n",
      "10002->21731\n",
      "Support: 0.1\n",
      "Confidence: 1.0\n",
      "Lift: 10.0\n",
      "===============================\n",
      "10002->21791\n",
      "Support: 0.1\n",
      "Confidence: 1.0\n",
      "Lift: 10.0\n",
      "===============================\n",
      "21883->10002\n",
      "Support: 0.1\n",
      "Confidence: 1.0\n",
      "Lift: 10.0\n",
      "===============================\n",
      "10002->21913\n",
      "Support: 0.1\n",
      "Confidence: 1.0\n",
      "Lift: 10.0\n",
      "===============================\n",
      "10002->22326\n",
      "Support: 0.1\n",
      "Confidence: 1.0\n",
      "Lift: 10.0\n",
      "===============================\n",
      "22492->10002\n",
      "Support: 0.1\n",
      "Confidence: 1.0\n",
      "Lift: 10.0\n",
      "===============================\n",
      "10002->22540\n",
      "Support: 0.1\n",
      "Confidence: 1.0\n",
      "Lift: 10.0\n",
      "===============================\n",
      "10002->22544\n",
      "Support: 0.1\n",
      "Confidence: 1.0\n",
      "Lift: 10.0\n",
      "===============================\n"
     ]
    }
   ],
   "source": [
    "i=0\n",
    "for item in results:\n",
    "  if i==10:\n",
    "    break\n",
    "  pair=item[0]\n",
    "  items=[x for x in pair]\n",
    "  print(items[0]+'->'+items[1])\n",
    "  print(\"Support: \" + str(item[1]))\n",
    "\n",
    "  print(\"Confidence: \" + str(item[2][0][2]))\n",
    "  print(\"Lift: \" + str(item[2][0][3]))\n",
    "  print(\"===============================\")\n",
    "  i=i+1"
   ]
  },
  {
   "cell_type": "markdown",
   "metadata": {},
   "source": [
    "## Get all rules with 100% confidence"
   ]
  },
  {
   "cell_type": "code",
   "execution_count": 18,
   "metadata": {},
   "outputs": [
    {
     "name": "stdout",
     "output_type": "stream",
     "text": [
      "10002->21035\n",
      "Support: 0.1\n",
      "Confidence: 1.0\n",
      "Lift: 10.0\n",
      "===============================\n",
      "10002->21724\n",
      "Support: 0.1\n",
      "Confidence: 1.0\n",
      "Lift: 10.0\n",
      "===============================\n",
      "10002->21731\n",
      "Support: 0.1\n",
      "Confidence: 1.0\n",
      "Lift: 10.0\n",
      "===============================\n",
      "10002->21791\n",
      "Support: 0.1\n",
      "Confidence: 1.0\n",
      "Lift: 10.0\n",
      "===============================\n",
      "21883->10002\n",
      "Support: 0.1\n",
      "Confidence: 1.0\n",
      "Lift: 10.0\n",
      "===============================\n",
      "10002->21913\n",
      "Support: 0.1\n",
      "Confidence: 1.0\n",
      "Lift: 10.0\n",
      "===============================\n",
      "10002->22326\n",
      "Support: 0.1\n",
      "Confidence: 1.0\n",
      "Lift: 10.0\n",
      "===============================\n",
      "22492->10002\n",
      "Support: 0.1\n",
      "Confidence: 1.0\n",
      "Lift: 10.0\n",
      "===============================\n",
      "10002->22540\n",
      "Support: 0.1\n",
      "Confidence: 1.0\n",
      "Lift: 10.0\n",
      "===============================\n",
      "10002->22544\n",
      "Support: 0.1\n",
      "Confidence: 1.0\n",
      "Lift: 10.0\n",
      "===============================\n"
     ]
    }
   ],
   "source": [
    "i=0\n",
    "for item in results:\n",
    "  if i==10:\n",
    "    break\n",
    "  pair=item[0]\n",
    "  items=[x for x in pair]\n",
    "  if item[2][0][2]==1:\n",
    "    print(items[0]+'->'+items[1])\n",
    "    print(\"Support: \" + str(item[1]))\n",
    "\n",
    "    print(\"Confidence: \" + str(item[2][0][2]))\n",
    "    print(\"Lift: \" + str(item[2][0][3]))\n",
    "    print(\"===============================\")\n",
    "    i=i+1"
   ]
  },
  {
   "cell_type": "markdown",
   "metadata": {},
   "source": [
    "## Visualizing the data"
   ]
  },
  {
   "cell_type": "code",
   "execution_count": 20,
   "metadata": {},
   "outputs": [
    {
     "data": {
      "text/html": [
       "<div>\n",
       "<style scoped>\n",
       "    .dataframe tbody tr th:only-of-type {\n",
       "        vertical-align: middle;\n",
       "    }\n",
       "\n",
       "    .dataframe tbody tr th {\n",
       "        vertical-align: top;\n",
       "    }\n",
       "\n",
       "    .dataframe thead th {\n",
       "        text-align: right;\n",
       "    }\n",
       "</style>\n",
       "<table border=\"1\" class=\"dataframe\">\n",
       "  <thead>\n",
       "    <tr style=\"text-align: right;\">\n",
       "      <th></th>\n",
       "      <th>Left Hand Side</th>\n",
       "      <th>Right Hand Side</th>\n",
       "      <th>Support</th>\n",
       "      <th>Confidence</th>\n",
       "      <th>Lift</th>\n",
       "    </tr>\n",
       "  </thead>\n",
       "  <tbody>\n",
       "    <tr>\n",
       "      <th>0</th>\n",
       "      <td>10002</td>\n",
       "      <td>21035</td>\n",
       "      <td>0.1</td>\n",
       "      <td>1.0</td>\n",
       "      <td>10.0</td>\n",
       "    </tr>\n",
       "    <tr>\n",
       "      <th>1</th>\n",
       "      <td>10002</td>\n",
       "      <td>21724</td>\n",
       "      <td>0.1</td>\n",
       "      <td>1.0</td>\n",
       "      <td>10.0</td>\n",
       "    </tr>\n",
       "    <tr>\n",
       "      <th>2</th>\n",
       "      <td>10002</td>\n",
       "      <td>21731</td>\n",
       "      <td>0.1</td>\n",
       "      <td>1.0</td>\n",
       "      <td>10.0</td>\n",
       "    </tr>\n",
       "    <tr>\n",
       "      <th>3</th>\n",
       "      <td>10002</td>\n",
       "      <td>21791</td>\n",
       "      <td>0.1</td>\n",
       "      <td>1.0</td>\n",
       "      <td>10.0</td>\n",
       "    </tr>\n",
       "    <tr>\n",
       "      <th>4</th>\n",
       "      <td>10002</td>\n",
       "      <td>21883</td>\n",
       "      <td>0.1</td>\n",
       "      <td>1.0</td>\n",
       "      <td>10.0</td>\n",
       "    </tr>\n",
       "    <tr>\n",
       "      <th>...</th>\n",
       "      <td>...</td>\n",
       "      <td>...</td>\n",
       "      <td>...</td>\n",
       "      <td>...</td>\n",
       "      <td>...</td>\n",
       "    </tr>\n",
       "    <tr>\n",
       "      <th>2302</th>\n",
       "      <td>82494L</td>\n",
       "      <td>85123A</td>\n",
       "      <td>0.1</td>\n",
       "      <td>1.0</td>\n",
       "      <td>5.0</td>\n",
       "    </tr>\n",
       "    <tr>\n",
       "      <th>2303</th>\n",
       "      <td>84029E</td>\n",
       "      <td>84029G</td>\n",
       "      <td>0.2</td>\n",
       "      <td>1.0</td>\n",
       "      <td>5.0</td>\n",
       "    </tr>\n",
       "    <tr>\n",
       "      <th>2304</th>\n",
       "      <td>84029E</td>\n",
       "      <td>84029G</td>\n",
       "      <td>0.2</td>\n",
       "      <td>1.0</td>\n",
       "      <td>5.0</td>\n",
       "    </tr>\n",
       "    <tr>\n",
       "      <th>2305</th>\n",
       "      <td>84029E</td>\n",
       "      <td>85123A</td>\n",
       "      <td>0.2</td>\n",
       "      <td>1.0</td>\n",
       "      <td>5.0</td>\n",
       "    </tr>\n",
       "    <tr>\n",
       "      <th>2306</th>\n",
       "      <td>84029G</td>\n",
       "      <td>85123A</td>\n",
       "      <td>0.2</td>\n",
       "      <td>1.0</td>\n",
       "      <td>5.0</td>\n",
       "    </tr>\n",
       "  </tbody>\n",
       "</table>\n",
       "<p>2307 rows × 5 columns</p>\n",
       "</div>"
      ],
      "text/plain": [
       "     Left Hand Side Right Hand Side  Support  Confidence  Lift\n",
       "0             10002           21035      0.1         1.0  10.0\n",
       "1             10002           21724      0.1         1.0  10.0\n",
       "2             10002           21731      0.1         1.0  10.0\n",
       "3             10002           21791      0.1         1.0  10.0\n",
       "4             10002           21883      0.1         1.0  10.0\n",
       "...             ...             ...      ...         ...   ...\n",
       "2302         82494L          85123A      0.1         1.0   5.0\n",
       "2303         84029E          84029G      0.2         1.0   5.0\n",
       "2304         84029E          84029G      0.2         1.0   5.0\n",
       "2305         84029E          85123A      0.2         1.0   5.0\n",
       "2306         84029G          85123A      0.2         1.0   5.0\n",
       "\n",
       "[2307 rows x 5 columns]"
      ]
     },
     "execution_count": 20,
     "metadata": {},
     "output_type": "execute_result"
    }
   ],
   "source": [
    "def inspect(results):\n",
    "    lhs         = [tuple(result[2][0][0])[0] for result in results]\n",
    "    rhs         = [tuple(result[2][0][1])[0] for result in results]\n",
    "    supports    = [result[1] for result in results]\n",
    "    confidences = [result[2][0][2] for result in results]\n",
    "    lifts       = [result[2][0][3] for result in results]\n",
    "    return list(zip(lhs, rhs, supports, confidences, lifts))\n",
    "resultsinDataFrame = pd.DataFrame(inspect(results), columns = ['Left Hand Side', 'Right Hand Side', 'Support', 'Confidence', 'Lift'])\n",
    "resultsinDataFrame"
   ]
  },
  {
   "cell_type": "markdown",
   "metadata": {},
   "source": [
    "# Thank You"
   ]
  },
  {
   "cell_type": "code",
   "execution_count": null,
   "metadata": {},
   "outputs": [],
   "source": []
  }
 ],
 "metadata": {
  "kernelspec": {
   "display_name": "Python 3",
   "language": "python",
   "name": "python3"
  },
  "language_info": {
   "codemirror_mode": {
    "name": "ipython",
    "version": 3
   },
   "file_extension": ".py",
   "mimetype": "text/x-python",
   "name": "python",
   "nbconvert_exporter": "python",
   "pygments_lexer": "ipython3",
   "version": "3.8.3"
  }
 },
 "nbformat": 4,
 "nbformat_minor": 4
}
