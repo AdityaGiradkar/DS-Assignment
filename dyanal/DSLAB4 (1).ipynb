{
 "cells": [
  {
   "cell_type": "markdown",
   "metadata": {},
   "source": [
    "# Name: Dnyanal Shelke\n",
    "# TY D  Roll no:22\n",
    "# Gr No:11810571"
   ]
  },
  {
   "cell_type": "markdown",
   "metadata": {},
   "source": [
    "## Assignment 4: Association Rules\n",
    "### Online-Retail Dataset"
   ]
  },
  {
   "cell_type": "code",
   "execution_count": 1,
   "metadata": {},
   "outputs": [
    {
     "data": {
      "application/javascript": [
       "IPython.notebook.set_autosave_interval(5000)"
      ]
     },
     "metadata": {},
     "output_type": "display_data"
    },
    {
     "name": "stdout",
     "output_type": "stream",
     "text": [
      "Autosaving every 5 seconds\n"
     ]
    }
   ],
   "source": [
    "%autosave 5 "
   ]
  },
  {
   "cell_type": "markdown",
   "metadata": {},
   "source": [
    "## Importing Libraries  "
   ]
  },
  {
   "cell_type": "code",
   "execution_count": 2,
   "metadata": {},
   "outputs": [],
   "source": [
    "import numpy as np\n",
    "import matplotlib.pyplot as plt\n",
    "import pandas as pd"
   ]
  },
  {
   "cell_type": "markdown",
   "metadata": {},
   "source": [
    "## Importing Dataset"
   ]
  },
  {
   "cell_type": "code",
   "execution_count": 3,
   "metadata": {},
   "outputs": [
    {
     "data": {
      "text/html": [
       "<div>\n",
       "<style scoped>\n",
       "    .dataframe tbody tr th:only-of-type {\n",
       "        vertical-align: middle;\n",
       "    }\n",
       "\n",
       "    .dataframe tbody tr th {\n",
       "        vertical-align: top;\n",
       "    }\n",
       "\n",
       "    .dataframe thead th {\n",
       "        text-align: right;\n",
       "    }\n",
       "</style>\n",
       "<table border=\"1\" class=\"dataframe\">\n",
       "  <thead>\n",
       "    <tr style=\"text-align: right;\">\n",
       "      <th></th>\n",
       "      <th>InvoiceNo</th>\n",
       "      <th>StockCode</th>\n",
       "      <th>Description</th>\n",
       "      <th>Quantity</th>\n",
       "      <th>InvoiceDate</th>\n",
       "      <th>UnitPrice</th>\n",
       "      <th>CustomerID</th>\n",
       "      <th>Country</th>\n",
       "    </tr>\n",
       "  </thead>\n",
       "  <tbody>\n",
       "    <tr>\n",
       "      <th>0</th>\n",
       "      <td>536365</td>\n",
       "      <td>85123A</td>\n",
       "      <td>WHITE HANGING HEART T-LIGHT HOLDER</td>\n",
       "      <td>6</td>\n",
       "      <td>2010-12-01 08:26:00</td>\n",
       "      <td>2.55</td>\n",
       "      <td>17850.0</td>\n",
       "      <td>United Kingdom</td>\n",
       "    </tr>\n",
       "    <tr>\n",
       "      <th>1</th>\n",
       "      <td>536365</td>\n",
       "      <td>71053</td>\n",
       "      <td>WHITE METAL LANTERN</td>\n",
       "      <td>6</td>\n",
       "      <td>2010-12-01 08:26:00</td>\n",
       "      <td>3.39</td>\n",
       "      <td>17850.0</td>\n",
       "      <td>United Kingdom</td>\n",
       "    </tr>\n",
       "    <tr>\n",
       "      <th>2</th>\n",
       "      <td>536365</td>\n",
       "      <td>84406B</td>\n",
       "      <td>CREAM CUPID HEARTS COAT HANGER</td>\n",
       "      <td>8</td>\n",
       "      <td>2010-12-01 08:26:00</td>\n",
       "      <td>2.75</td>\n",
       "      <td>17850.0</td>\n",
       "      <td>United Kingdom</td>\n",
       "    </tr>\n",
       "    <tr>\n",
       "      <th>3</th>\n",
       "      <td>536365</td>\n",
       "      <td>84029G</td>\n",
       "      <td>KNITTED UNION FLAG HOT WATER BOTTLE</td>\n",
       "      <td>6</td>\n",
       "      <td>2010-12-01 08:26:00</td>\n",
       "      <td>3.39</td>\n",
       "      <td>17850.0</td>\n",
       "      <td>United Kingdom</td>\n",
       "    </tr>\n",
       "    <tr>\n",
       "      <th>4</th>\n",
       "      <td>536365</td>\n",
       "      <td>84029E</td>\n",
       "      <td>RED WOOLLY HOTTIE WHITE HEART.</td>\n",
       "      <td>6</td>\n",
       "      <td>2010-12-01 08:26:00</td>\n",
       "      <td>3.39</td>\n",
       "      <td>17850.0</td>\n",
       "      <td>United Kingdom</td>\n",
       "    </tr>\n",
       "    <tr>\n",
       "      <th>...</th>\n",
       "      <td>...</td>\n",
       "      <td>...</td>\n",
       "      <td>...</td>\n",
       "      <td>...</td>\n",
       "      <td>...</td>\n",
       "      <td>...</td>\n",
       "      <td>...</td>\n",
       "      <td>...</td>\n",
       "    </tr>\n",
       "    <tr>\n",
       "      <th>541904</th>\n",
       "      <td>581587</td>\n",
       "      <td>22613</td>\n",
       "      <td>PACK OF 20 SPACEBOY NAPKINS</td>\n",
       "      <td>12</td>\n",
       "      <td>2011-12-09 12:50:00</td>\n",
       "      <td>0.85</td>\n",
       "      <td>12680.0</td>\n",
       "      <td>France</td>\n",
       "    </tr>\n",
       "    <tr>\n",
       "      <th>541905</th>\n",
       "      <td>581587</td>\n",
       "      <td>22899</td>\n",
       "      <td>CHILDREN'S APRON DOLLY GIRL</td>\n",
       "      <td>6</td>\n",
       "      <td>2011-12-09 12:50:00</td>\n",
       "      <td>2.10</td>\n",
       "      <td>12680.0</td>\n",
       "      <td>France</td>\n",
       "    </tr>\n",
       "    <tr>\n",
       "      <th>541906</th>\n",
       "      <td>581587</td>\n",
       "      <td>23254</td>\n",
       "      <td>CHILDRENS CUTLERY DOLLY GIRL</td>\n",
       "      <td>4</td>\n",
       "      <td>2011-12-09 12:50:00</td>\n",
       "      <td>4.15</td>\n",
       "      <td>12680.0</td>\n",
       "      <td>France</td>\n",
       "    </tr>\n",
       "    <tr>\n",
       "      <th>541907</th>\n",
       "      <td>581587</td>\n",
       "      <td>23255</td>\n",
       "      <td>CHILDRENS CUTLERY CIRCUS PARADE</td>\n",
       "      <td>4</td>\n",
       "      <td>2011-12-09 12:50:00</td>\n",
       "      <td>4.15</td>\n",
       "      <td>12680.0</td>\n",
       "      <td>France</td>\n",
       "    </tr>\n",
       "    <tr>\n",
       "      <th>541908</th>\n",
       "      <td>581587</td>\n",
       "      <td>22138</td>\n",
       "      <td>BAKING SET 9 PIECE RETROSPOT</td>\n",
       "      <td>3</td>\n",
       "      <td>2011-12-09 12:50:00</td>\n",
       "      <td>4.95</td>\n",
       "      <td>12680.0</td>\n",
       "      <td>France</td>\n",
       "    </tr>\n",
       "  </tbody>\n",
       "</table>\n",
       "<p>541909 rows × 8 columns</p>\n",
       "</div>"
      ],
      "text/plain": [
       "       InvoiceNo StockCode                          Description  Quantity  \\\n",
       "0         536365    85123A   WHITE HANGING HEART T-LIGHT HOLDER         6   \n",
       "1         536365     71053                  WHITE METAL LANTERN         6   \n",
       "2         536365    84406B       CREAM CUPID HEARTS COAT HANGER         8   \n",
       "3         536365    84029G  KNITTED UNION FLAG HOT WATER BOTTLE         6   \n",
       "4         536365    84029E       RED WOOLLY HOTTIE WHITE HEART.         6   \n",
       "...          ...       ...                                  ...       ...   \n",
       "541904    581587     22613          PACK OF 20 SPACEBOY NAPKINS        12   \n",
       "541905    581587     22899         CHILDREN'S APRON DOLLY GIRL          6   \n",
       "541906    581587     23254        CHILDRENS CUTLERY DOLLY GIRL          4   \n",
       "541907    581587     23255      CHILDRENS CUTLERY CIRCUS PARADE         4   \n",
       "541908    581587     22138        BAKING SET 9 PIECE RETROSPOT          3   \n",
       "\n",
       "                InvoiceDate  UnitPrice  CustomerID         Country  \n",
       "0       2010-12-01 08:26:00       2.55     17850.0  United Kingdom  \n",
       "1       2010-12-01 08:26:00       3.39     17850.0  United Kingdom  \n",
       "2       2010-12-01 08:26:00       2.75     17850.0  United Kingdom  \n",
       "3       2010-12-01 08:26:00       3.39     17850.0  United Kingdom  \n",
       "4       2010-12-01 08:26:00       3.39     17850.0  United Kingdom  \n",
       "...                     ...        ...         ...             ...  \n",
       "541904  2011-12-09 12:50:00       0.85     12680.0          France  \n",
       "541905  2011-12-09 12:50:00       2.10     12680.0          France  \n",
       "541906  2011-12-09 12:50:00       4.15     12680.0          France  \n",
       "541907  2011-12-09 12:50:00       4.15     12680.0          France  \n",
       "541908  2011-12-09 12:50:00       4.95     12680.0          France  \n",
       "\n",
       "[541909 rows x 8 columns]"
      ]
     },
     "execution_count": 3,
     "metadata": {},
     "output_type": "execute_result"
    }
   ],
   "source": [
    "df = pd.read_csv(r\"C:\\Users\\hp\\Documents\\DS LAB\\Online_Retail.csv\")\n",
    "df"
   ]
  },
  {
   "cell_type": "code",
   "execution_count": 4,
   "metadata": {},
   "outputs": [
    {
     "data": {
      "text/html": [
       "<div>\n",
       "<style scoped>\n",
       "    .dataframe tbody tr th:only-of-type {\n",
       "        vertical-align: middle;\n",
       "    }\n",
       "\n",
       "    .dataframe tbody tr th {\n",
       "        vertical-align: top;\n",
       "    }\n",
       "\n",
       "    .dataframe thead th {\n",
       "        text-align: right;\n",
       "    }\n",
       "</style>\n",
       "<table border=\"1\" class=\"dataframe\">\n",
       "  <thead>\n",
       "    <tr style=\"text-align: right;\">\n",
       "      <th></th>\n",
       "      <th>InvoiceNo</th>\n",
       "      <th>StockCode</th>\n",
       "      <th>Description</th>\n",
       "      <th>Quantity</th>\n",
       "      <th>InvoiceDate</th>\n",
       "      <th>UnitPrice</th>\n",
       "      <th>CustomerID</th>\n",
       "      <th>Country</th>\n",
       "    </tr>\n",
       "  </thead>\n",
       "  <tbody>\n",
       "    <tr>\n",
       "      <th>0</th>\n",
       "      <td>536365</td>\n",
       "      <td>85123A</td>\n",
       "      <td>WHITE HANGING HEART T-LIGHT HOLDER</td>\n",
       "      <td>6</td>\n",
       "      <td>2010-12-01 08:26:00</td>\n",
       "      <td>2.55</td>\n",
       "      <td>17850.0</td>\n",
       "      <td>United Kingdom</td>\n",
       "    </tr>\n",
       "    <tr>\n",
       "      <th>1</th>\n",
       "      <td>536365</td>\n",
       "      <td>71053</td>\n",
       "      <td>WHITE METAL LANTERN</td>\n",
       "      <td>6</td>\n",
       "      <td>2010-12-01 08:26:00</td>\n",
       "      <td>3.39</td>\n",
       "      <td>17850.0</td>\n",
       "      <td>United Kingdom</td>\n",
       "    </tr>\n",
       "    <tr>\n",
       "      <th>2</th>\n",
       "      <td>536365</td>\n",
       "      <td>84406B</td>\n",
       "      <td>CREAM CUPID HEARTS COAT HANGER</td>\n",
       "      <td>8</td>\n",
       "      <td>2010-12-01 08:26:00</td>\n",
       "      <td>2.75</td>\n",
       "      <td>17850.0</td>\n",
       "      <td>United Kingdom</td>\n",
       "    </tr>\n",
       "    <tr>\n",
       "      <th>3</th>\n",
       "      <td>536365</td>\n",
       "      <td>84029G</td>\n",
       "      <td>KNITTED UNION FLAG HOT WATER BOTTLE</td>\n",
       "      <td>6</td>\n",
       "      <td>2010-12-01 08:26:00</td>\n",
       "      <td>3.39</td>\n",
       "      <td>17850.0</td>\n",
       "      <td>United Kingdom</td>\n",
       "    </tr>\n",
       "    <tr>\n",
       "      <th>4</th>\n",
       "      <td>536365</td>\n",
       "      <td>84029E</td>\n",
       "      <td>RED WOOLLY HOTTIE WHITE HEART.</td>\n",
       "      <td>6</td>\n",
       "      <td>2010-12-01 08:26:00</td>\n",
       "      <td>3.39</td>\n",
       "      <td>17850.0</td>\n",
       "      <td>United Kingdom</td>\n",
       "    </tr>\n",
       "  </tbody>\n",
       "</table>\n",
       "</div>"
      ],
      "text/plain": [
       "  InvoiceNo StockCode                          Description  Quantity  \\\n",
       "0    536365    85123A   WHITE HANGING HEART T-LIGHT HOLDER         6   \n",
       "1    536365     71053                  WHITE METAL LANTERN         6   \n",
       "2    536365    84406B       CREAM CUPID HEARTS COAT HANGER         8   \n",
       "3    536365    84029G  KNITTED UNION FLAG HOT WATER BOTTLE         6   \n",
       "4    536365    84029E       RED WOOLLY HOTTIE WHITE HEART.         6   \n",
       "\n",
       "           InvoiceDate  UnitPrice  CustomerID         Country  \n",
       "0  2010-12-01 08:26:00       2.55     17850.0  United Kingdom  \n",
       "1  2010-12-01 08:26:00       3.39     17850.0  United Kingdom  \n",
       "2  2010-12-01 08:26:00       2.75     17850.0  United Kingdom  \n",
       "3  2010-12-01 08:26:00       3.39     17850.0  United Kingdom  \n",
       "4  2010-12-01 08:26:00       3.39     17850.0  United Kingdom  "
      ]
     },
     "execution_count": 4,
     "metadata": {},
     "output_type": "execute_result"
    }
   ],
   "source": [
    "df.head()"
   ]
  },
  {
   "cell_type": "code",
   "execution_count": 5,
   "metadata": {},
   "outputs": [
    {
     "data": {
      "text/plain": [
       "InvoiceNo       object\n",
       "StockCode       object\n",
       "Description     object\n",
       "Quantity         int64\n",
       "InvoiceDate     object\n",
       "UnitPrice      float64\n",
       "CustomerID     float64\n",
       "Country         object\n",
       "dtype: object"
      ]
     },
     "execution_count": 5,
     "metadata": {},
     "output_type": "execute_result"
    }
   ],
   "source": [
    "df.dtypes"
   ]
  },
  {
   "cell_type": "code",
   "execution_count": 6,
   "metadata": {},
   "outputs": [
    {
     "data": {
      "text/plain": [
       "(541909, 8)"
      ]
     },
     "execution_count": 6,
     "metadata": {},
     "output_type": "execute_result"
    }
   ],
   "source": [
    "df.shape"
   ]
  },
  {
   "cell_type": "markdown",
   "metadata": {},
   "source": [
    "## Group data in the dataframe by InvoiceNo and Invoice Date"
   ]
  },
  {
   "cell_type": "code",
   "execution_count": 7,
   "metadata": {},
   "outputs": [],
   "source": [
    "grps = df.groupby(['InvoiceNo','InvoiceDate'])"
   ]
  },
  {
   "cell_type": "markdown",
   "metadata": {},
   "source": [
    "## Total Number of Transactions with 1 item, 2 items , 3 items and 8 items"
   ]
  },
  {
   "cell_type": "code",
   "execution_count": 8,
   "metadata": {},
   "outputs": [],
   "source": [
    "transactions = []\n",
    "longest_count = 0\n",
    "one,two,three,eight = 0,0,0,0\n",
    "longest_invoice = 0\n",
    "longest = []\n",
    "for i,j in grps:\n",
    "    if(longest_count<len(j)):\n",
    "        longest_count = len(j)\n",
    "        longest_invoice = i\n",
    "        longest = list(j['Description'].map(str))\n",
    "    if(len(j)==1):\n",
    "        one+=1\n",
    "    elif(len(j)==2):\n",
    "        two+=1\n",
    "    elif(len(j)==3):\n",
    "        three+=1\n",
    "    elif(len(j)==8):\n",
    "        eight+=1\n",
    "    transactions.append(list(j['Description'].map(str)))"
   ]
  },
  {
   "cell_type": "code",
   "execution_count": 9,
   "metadata": {},
   "outputs": [
    {
     "name": "stdout",
     "output_type": "stream",
     "text": [
      "There are 5850 transactions with one item(s).\n",
      "There are 1617 transactions with two item(s).\n",
      "There are 1095 transactions with three item(s).\n",
      "There are 632 transactions with eight item(s).\n"
     ]
    }
   ],
   "source": [
    "print(\"There are {} transactions with {} item(s).\".format(one,\"one\"))\n",
    "print(\"There are {} transactions with {} item(s).\".format(two,\"two\"))\n",
    "print(\"There are {} transactions with {} item(s).\".format(three,\"three\"))\n",
    "print(\"There are {} transactions with {} item(s).\".format(eight,\"eight\"))"
   ]
  },
  {
   "cell_type": "markdown",
   "metadata": {},
   "source": [
    "## Get the number of items in the longest transaction"
   ]
  },
  {
   "cell_type": "code",
   "execution_count": 10,
   "metadata": {},
   "outputs": [
    {
     "name": "stdout",
     "output_type": "stream",
     "text": [
      "Longest transaction \n",
      "Invoice number: 573585\n",
      "Date: 2011-10-31 14:41:00\n",
      "Number of items: 1114\n"
     ]
    }
   ],
   "source": [
    "print(\"Longest transaction \\nInvoice number: {}\\nDate: {}\\nNumber of items: {}\".format(longest_invoice[0],longest_invoice[1],longest_count))"
   ]
  },
  {
   "cell_type": "code",
   "execution_count": 11,
   "metadata": {},
   "outputs": [
    {
     "name": "stdout",
     "output_type": "stream",
     "text": [
      "Longest transaction items:\n",
      "['ASSTD DESIGN RACING CAR PEN', 'ASSORTED COLOURS SILK FAN', 'SANDALWOOD FAN', 'EDWARDIAN PARASOL BLACK', 'EDWARDIAN PARASOL NATURAL', 'ICE CREAM DESIGN GARDEN PARASOL', 'FUNKY MONKEY GIFT BAG MEDIUM', 'HOUSE SHAPE PENCIL SHARPENER', 'RECYCLED PENCIL WITH RABBIT ERASER', 'KITTY PENCIL ERASERS', 'SLEEPING CAT ERASERS', 'PARTY TIME PENCIL ERASERS', 'BROCADE RING PURSE ', 'ORIGAMI JASMINE INCENSE/CANDLE SET', 'ORIGAMI LAVENDER INCENSE/CANDL SET ', 'ORIGAMI SANDLEWOOD INCENSE/CAND SET', 'BLUE GLASS GEMS IN BAG', 'WHITE TALL PORCELAIN T-LIGHT HOLDER', 'BLUE POLKADOT PASSPORT COVER', 'CHERRY BLOSSOM PASSPORT COVER', 'BLUE POLKADOT LUGGAGE TAG ', 'FIRST CLASS LUGGAGE TAG ', 'QUEEN OF SKIES LUGGAGE TAG', 'ECONOMY LUGGAGE TAG', 'RED RETROSPOT PURSE ', 'DISCO BALL CHRISTMAS DECORATION', 'RED HEART LUGGAGE TAG', 'BLUE POLKADOT BOWL', 'EDWARDIAN PARASOL RED', 'DOORMAT RED RETROSPOT', \"DOLLY MIXTURE CHILDREN'S UMBRELLA\", 'FLORAL SOFT CAR TOY', 'JUMBO BAG TOYS ', 'JUMBO BAG WOODLAND ANIMALS', 'JUMBO BAG OWLS', 'STRAWBERRY SHOPPER BAG', 'RED RETROSPOT SHOPPER BAG', 'WOODLAND CHARLOTTE BAG', 'STRAWBERRY CHARLOTTE BAG', 'RED RETROSPOT CHARLOTTE BAG', 'LUNCH BAG RED RETROSPOT', 'LUNCH BAG WOODLAND', 'LUNCH BAG  BLACK SKULL.', 'LUNCH BAG CARS BLUE', 'GOLD MINI TAPE MEASURE ', 'ASSORTED COLOUR MINI CASES', 'RED RETROSPOT MINI CASES', 'FUNKY WASHING UP GLOVES ASSORTED', 'DAISY NOTEBOOK ', 'CHRYSANTHEMUM NOTEBOOK', 'SMALL BLUE PROVENCAL CERAMIC BALL', 'SILVER TEDDY BEAR', 'FRENCH PAISLEY CUSHION COVER ', 'FRENCH FLORAL CUSHION COVER ', 'ZINC HEART LATTICE T-LIGHT HOLDER', 'BLUE ROSE FABRIC MIRROR', 'SET/5 RED RETROSPOT LID GLASS BOWLS', 'PORCELAIN T-LIGHT HOLDERS ASSORTED', 'STRAWBERRY BATH SPONGE ', 'APPLE BATH SPONGE', 'RED FLORAL FELTCRAFT SHOULDER BAG', 'PINK FLORAL FELTCRAFT SHOULDER BAG', 'PINK BLUE FELT CRAFT TRINKET BOX', 'PINK CREAM FELT CRAFT TRINKET BOX ', '12 PENCIL SMALL TUBE WOODLAND', '36 PENCILS TUBE SKULLS', '36 PENCILS TUBE RED RETROSPOT', '12 PENCILS TALL TUBE SKULLS', '12 PENCILS TALL TUBE RED RETROSPOT', 'HEART CALCULATOR', 'ROSE DU SUD CUSHION COVER ', 'ANTIQUE ALL GLASS CANDLESTICK', 'SWISS CHALET TREE DECORATION ', 'DARK BIRD HOUSE TREE DECORATION', 'SET/2 RED RETROSPOT TEA TOWELS ', 'TOOL BOX SOFT TOY ', 'PARTY INVITES BALLOON GIRL', 'BOOM BOX SPEAKER BOYS', 'BOOM BOX SPEAKER GIRLS', 'VINTAGE BILLBOARD DRINK ME MUG', 'SET/20 RED RETROSPOT PAPER NAPKINS ', 'SET/6 RED SPOTTY PAPER CUPS', 'SET/6 COLLAGE PAPER PLATES', 'SET/6 RED SPOTTY PAPER PLATES', 'CREAM SLICE FLANNEL PINK SPOT ', 'OWL DOORSTOP', 'SET/10 IVORY POLKADOT PARTY CANDLES', 'SET 6 FOOTBALL CELEBRATION CANDLES', 'SET OF 6 GIRLS CELEBRATION CANDLES', 'GOLD STANDING GNOME', 'JINGLE BELLS TREE DECORATION', 'RED RETROSPOT OVEN GLOVE ', 'RED RETROSPOT PEG BAG', 'MOODY GIRL DOOR HANGER ', 'HOME SWEET HOME METAL SIGN ', 'BEWARE OF THE CAT METAL SIGN ', 'COOK WITH WINE METAL SIGN ', 'PARTY METAL SIGN ', 'POTTERING IN THE SHED METAL SIGN', 'GIN + TONIC DIET METAL SIGN', 'PLEASE ONE PERSON METAL SIGN', 'WHITE BELL HONEYCOMB PAPER ', 'MULTICOLOUR  CONFETTI IN TUBE', 'SET OF 72 RETROSPOT PAPER  DOILIES', 'PACK OF 72 RETROSPOT CAKE CASES', 'PACK OF 72 SKULL CAKE CASES', 'SET 3 RETROSPOT TEA,COFFEE,SUGAR', 'RED RETROSPOT ROUND CAKE TINS', 'SET/4 BADGES DOGS', 'SET/4 BADGES CUTE CREATURES', 'SET/4 SKULL BADGES', 'SWEETHEART CERAMIC TRINKET BOX', 'STRAWBERRY CERAMIC TRINKET POT', 'RED RETROSPOT PLATE ', 'DOOR HANGER  MUM + DADS ROOM', 'WOODLAND  HEIGHT CHART STICKERS ', 'VICTORIAN SEWING BOX MEDIUM', 'VICTORIAN SEWING BOX LARGE', 'FIRST AID TIN', 'STRIPEY CHOCOLATE NESTING BOXES', 'GLASS HEART T-LIGHT HOLDER ', 'SMALL GLASS HEART TRINKET POT', 'AGED GLASS SILVER T-LIGHT HOLDER', 'BALLOONS  WRITING SET ', 'DINOSAURS  WRITING SET ', 'EUCALYPTUS & PINECONE  WREATH', 'TOAST ITS - FAIRY FLOWER', 'TOAST ITS - HAPPY BIRTHDAY', 'MIRRORED WALL ART PHOTO FRAMES', 'SMALL CAMPHOR WOOD FIELD  MUSHROOM', 'SMALL TALL CAMPHOR WOOD TOADSTOOL', 'CAMPHOR WOOD PORTOBELLO MUSHROOM', 'WOODEN HAPPY BIRTHDAY GARLAND', 'MINI WOODEN HAPPY BIRTHDAY GARLAND', 'IVORY HANGING DECORATION  HEART', 'RED PUDDING SPOON', 'BLUE PUDDING SPOON', 'BLUE EGG  SPOON', 'BROWN CHECK CAT DOORSTOP ', 'SPOTTY PINK DUCK DOORSTOP', 'COCKLE SHELL DISH', 'SET3 BOOK BOX GREEN GINGHAM FLOWER ', 'RED GINGHAM ROSE JEWELLERY BOX', 'SET/3 RED GINGHAM ROSE STORAGE BOX', 'BASKET OF TOADSTOOLS', '12 RED ROSE PEG PLACE SETTINGS', 'TOADSTOOL MONEY BOX', 'STRAWBERRY RAFFIA FOOD COVER', 'WHITE SKULL HOT WATER BOTTLE ', 'CHICK GREY HOT WATER BOTTLE', 'RETROSPOT HEART HOT WATER BOTTLE', 'ROTATING LEAVES T-LIGHT HOLDER', 'SKULLS GREETING CARD', 'FANCY FONT BIRTHDAY CARD, ', 'ELEPHANT BIRTHDAY CARD ', 'COWBOYS AND INDIANS BIRTHDAY CARD ', 'DOORMAT FANCY FONT HOME SWEET HOME', 'SKULL LUNCH BOX WITH CUTLERY ', 'STRAWBERRY LUNCH BOX WITH CUTLERY', 'DINOSAUR LUNCH BOX WITH CUTLERY', 'RED HEART SHAPE LOVE BUCKET ', 'SAVE THE PLANET COTTON TOTE BAG', '4 LAVENDER BOTANICAL DINNER CANDLES', '4 PEAR BOTANICAL DINNER CANDLES', '4 WILDFLOWER BOTANICAL CANDLES', '4 VANILLA BOTANICAL CANDLES', 'SET OF 4 ROSE BOTANICAL CANDLES', 'VINTAGE UNION JACK APRON', 'VINTAGE UNION JACK PENNANT', 'SQUARE FLOOR CUSHION VINTAGE RED', 'ASSORTED TUTTI FRUTTI  FOB NOTEBOOK', 'ASSORTED TUTTI FRUTTI SMALL PURSE', 'ASSORTED TUTTI FRUTTI BRACELET', 'BLUE SPOT CERAMIC DRAWER KNOB', 'WHITE SPOT RED CERAMIC DRAWER KNOB', 'WHITE SPOT BLUE CERAMIC DRAWER KNOB', 'FLOWERS  STICKERS', 'PAISLEY PATTERN  STICKERS', 'WOODLAND  STICKERS', 'MOCK LOBSTER FRIDGE MAGNET', 'BAG 125g SWIRLY MARBLES', 'BAG 250g SWIRLY MARBLES', 'GIRLS VINTAGE TIN SEASIDE BUCKET', 'BOYS VINTAGE TIN SEASIDE BUCKET', 'RED METAL BEACH SPADE ', 'SWEET PUDDING STICKER SHEET', 'ALPHABET HEARTS STICKER SHEET', 'PANDA AND BUNNIES STICKER SHEET', 'GLASS STAR FROSTED T-LIGHT HOLDER', 'RED TOADSTOOL LED NIGHT LIGHT', 'COSY SLIPPER SHOES SMALL GREEN', 'SNOWFLAKE PORTABLE TABLE LIGHT ', 'SMALL RED RETROSPOT WINDMILL', 'SMALL SKULL WINDMILL', 'HOME BUILDING BLOCK WORD', 'VINTAGE SHELLS PRINT', 'DECORATIVE CATS BATHROOM BOTTLE', 'VINTAGE SNAP CARDS', 'VINTAGE HEADS AND TAILS CARD GAME ', 'CLASSIC FRENCH STYLE BASKET BROWN', 'CHRISTMAS TREE HEART DECORATION', 'CHRISTMAS TREE STAR DECORATION', 'WHITE CHRISTMAS GARLAND STARS TREES', 'CHRISTMAS GARLAND STARS,TREES', 'CHRISTMAS HANGING STAR WITH BELL', 'HANGING HEART WITH BELL', 'GARLAND WITH HEARTS AND BELLS', 'GARLAND WITH STARS AND BELLS', 'GLITTER CHRISTMAS TREE', 'GLITTER CHRISTMAS STAR ', 'GLITTER STAR GARLAND WITH BELLS ', 'GLITTER CHRISTMAS TREE WITH BELLS', 'PAINTED METAL HEART WITH HOLLY BELL', 'PAINTED METAL STAR WITH HOLLY BELLS', 'CAMOUFLAGE LED TORCH', 'RED RETROSPOT MUG', 'PINK DIAMANTE PEN IN GIFT BOX', 'UNION JACK FLAG LUGGAGE TAG', 'PINK UNION JACK  LUGGAGE TAG', 'SAVE THE PLANET MUG', 'GIN AND TONIC MUG', 'KINGS CHOICE MUG', 'CAKES AND BOWS GIFT  TAPE', 'WOODEN BOX OF DOMINOES', 'TRADITIONAL WOODEN SKIPPING ROPE', 'TRADITIONAL WOODEN CATCH CUP GAME ', 'GARAGE KEY FOB', 'KEY FOB , SHED', 'PHARMACIE FIRST AID TIN', 'CHOCOLATE THIS WAY METAL SIGN', 'VINTAGE SNAKES & LADDERS', 'RED  HARMONICA IN BOX ', 'SET 12 RETRO WHITE CHALK STICKS', 'SET 12 KIDS COLOUR  CHALK STICKS', 'JUMBO BAG SCANDINAVIAN BLUE PAISLEY', 'JUMBO BAG PINK VINTAGE PAISLEY', 'JUMBO STORAGE BAG SUKI', 'SCANDINAVIAN PAISLEY PICNIC BAG', 'PINK VINTAGE PAISLEY PICNIC BAG', 'SKULL SHOULDER BAG', 'SUKI  SHOULDER BAG', 'RED RETROSPOT PICNIC BAG', 'SKULLS DESIGN FLANNEL', 'KITTENS DESIGN FLANNEL', 'STRAWBERRIES  DESIGN FLANNEL ', 'SET OF 6 CAKE CHOPSTICKS', 'PACK OF 12 SKULL TISSUES', 'SET OF 36 PAISLEY FLOWER DOILIES', 'PACK OF 60 DINOSAUR CAKE CASES', 'PACK OF 60 MUSHROOM CAKE CASES', 'PACK OF 60 PINK PAISLEY CAKE CASES', 'PACK OF 12 RED RETROSPOT TISSUES ', 'PACK OF 12 WOODLAND TISSUES ', 'PACK OF 12 SUKI TISSUES ', 'PACK OF 12 PINK PAISLEY TISSUES ', 'PACK OF 12 PINK POLKADOT TISSUES', 'MODERN FLORAL STATIONERY SET', 'BOHEMIAN COLLAGE STATIONERY SET', 'VINTAGE PAISLEY STATIONERY SET', 'FLORAL FOLK STATIONERY SET', 'RAINY LADIES BIRTHDAY CARD', 'RING OF ROSES BIRTHDAY CARD', 'BANQUET BIRTHDAY  CARD  ', 'TEA PARTY BIRTHDAY CARD', 'PENNY FARTHING BIRTHDAY CARD', 'SPACEBOY BIRTHDAY CARD', 'VINTAGE CARAVAN GREETING CARD ', 'PINK DOUGHNUT TRINKET POT ', 'CHRISTMAS PUDDING TRINKET POT ', 'CHOC TRUFFLE GOLD TRINKET POT ', 'BLACK PIRATE TREASURE CHEST', '6 RIBBONS SHIMMERING PINKS ', '6 RIBBONS ELEGANT CHRISTMAS ', '6 RIBBONS EMPIRE  ', '6 RIBBONS RUSTIC CHARM', 'RIBBON REEL LACE DESIGN ', 'RIBBON REEL HEARTS DESIGN ', 'RIBBON REEL FLORA + FAUNA ', 'PAPER CHAIN KIT RETROSPOT', \"PAPER CHAIN KIT 50'S CHRISTMAS \", 'PAPER BUNTING RETROSPOT', 'EMPIRE TISSUE BOX', 'LADS ONLY TISSUE BOX', 'SWALLOW SQUARE TISSUE BOX', 'MIRROR MOSAIC CANDLE PLATE', 'MIRROR MOSAIC HURRICANE LAMP ', 'PIZZA PLATE IN BOX', 'PING! MICROWAVE PLATE', 'FULL ENGLISH BREAKFAST PLATE', 'BIRD HOUSE HOT WATER BOTTLE', 'SCOTTIE DOG HOT WATER BOTTLE', 'CHOCOLATE HOT WATER BOTTLE', 'HOT WATER BOTTLE TEA AND SYMPATHY', 'METAL SIGN EMPIRE TEA', 'METAL SIGN HIS DINNER IS SERVED', 'JOY WOODEN BLOCK LETTERS', 'PING MICROWAVE APRON', 'PARTY CONES CANDY DECORATION', 'RED LOVE HEART SHAPE CUP', 'MINI LADLE LOVE HEART PINK', 'BAKING SET 9 PIECE RETROSPOT ', 'RETROSPOT TEA SET CERAMIC 11 PC ', 'CHRISTMAS CRAFT TREE TOP ANGEL', 'CHRISTMAS CRAFT LITTLE FRIENDS', 'FELTCRAFT BUTTERFLY HEARTS', '3 STRIPEY MICE FELTCRAFT', 'PLACE SETTING WHITE STAR', 'ANGEL DECORATION STARS ON DRESS', 'ANGEL DECORATION 3 BUTTONS ', 'STAR DECORATION RUSTIC', 'HEART DECORATION WITH PEARLS ', '3 HEARTS HANGING DECORATION RUSTIC', 'HEART DECORATION RUSTIC HANGING ', 'HEART GARLAND RUSTIC PADDED', 'HEART STRING MEMO HOLDER HANGING', 'DIAMANTE HEART SHAPED WALL MIRROR, ', 'WALL MIRROR RECTANGLE DIAMANTE PINK', ' OVAL WALL MIRROR DIAMANTE ', 'FAMILY ALBUM WHITE PICTURE FRAME', '3 HOOK PHOTO SHELF ANTIQUE WHITE', 'METAL 4 HOOK HANGER FRENCH CHATEAU', 'PHOTO CUBE', 'VICTORIAN GLASS HANGING T-LIGHT', 'SET 10 NIGHT OWL LIGHTS', 'SNOWSTORM PHOTO FRAME FRIDGE MAGNET', 'SLATE TILE NATURAL HANGING', 'RED STAR CARD HOLDER', 'GREEN CHRISTMAS TREE CARD HOLDER', 'CREAM HEART CARD HOLDER', 'LOCAL CAFE MUG', 'IVORY DINER WALL CLOCK', 'BLUE DINER WALL CLOCK', 'LARGE HEART MEASURING SPOONS', 'SMALL HEART MEASURING SPOONS', 'POPCORN HOLDER', 'FRYING PAN UNION FLAG', 'WOOD STAMP SET FLOWERS', 'CAKE STAND WHITE TWO TIER LACE', 'LOVEBIRD HANGING DECORATION WHITE ', 'CAKE STAND LOVEBIRD 2 TIER WHITE', 'CAKE STAND LOVEBIRD 2 TIER PINK', 'MAGIC GARDEN FELT GARLAND ', 'BIRDHOUSE DECORATION MAGIC GARDEN', 'FELT EGG COSY BLUE RABBIT ', 'FELT EGG COSY WHITE RABBIT ', 'FELT EGG COSY CHICKEN', 'FELT EGG COSY LADYBIRD ', 'FELTCRAFT DOLL MOLLY', 'POCKET BAG BLUE PAISLEY RED SPOT', 'POCKET BAG PINK PAISELY BROWN SPOT', '12 EGG HOUSE PAINTED WOOD', 'HEN HOUSE DECORATION', 'HEART FILIGREE DOVE  SMALL', 'HEART IVORY TRELLIS SMALL', 'TEA COSY BLUE STRIPE', 'TEA COSY RED  STRIPE', 'IVORY KNITTED MUG COSY ', '200 BENDY SKULL STRAWS', 'BIRD DECORATION RED RETROSPOT', 'ROUND SNACK BOXES SET OF4 WOODLAND ', 'ROUND SNACK BOXES SET OF 4 SKULLS', 'ROUND SNACK BOXES SET OF 4 FRUITS ', 'ROUND CONTAINER SET OF 5 RETROSPOT', 'HEART DECORATION PAINTED ZINC ', 'ANGEL DECORATION PAINTED ZINC ', 'STAR DECORATION PAINTED ZINC ', 'CHRISTMAS TREE PAINTED ZINC ', 'NOEL GARLAND PAINTED ZINC ', 'TEA BAG PLATE RED RETROSPOT', 'DOG BOWL CHASING BALL DESIGN', 'ILLUSTRATED CAT BOWL ', 'LUNCH BOX WITH CUTLERY RETROSPOT ', 'RETROSPOT PADDED SEAT CUSHION', 'CHARLOTTE BAG SUKI DESIGN', 'CHARLOTTE BAG PINK POLKADOT', 'KINGS CHOICE BISCUIT TIN', 'GLASS JAR PEACOCK BATH SALTS', 'GLASS JAR MARMALADE ', 'GLASS JAR DIGESTIVE BISCUITS', 'CHILDRENS APRON SPACEBOY DESIGN', 'AIRLINE BAG VINTAGE TOKYO 78', 'AIRLINE BAG VINTAGE WORLD CHAMPION ', 'BOTTLE BAG RETROSPOT ', 'WALL TIDY RETROSPOT ', 'RECYCLING BAG RETROSPOT ', 'TOY TIDY SPACEBOY  ', 'TOY TIDY PINK POLKADOT', 'LUNCH BAG SPACEBOY DESIGN ', 'LUNCH BAG SUKI DESIGN ', 'LUNCH BAG PINK POLKADOT', 'JUMBO BAG SPACEBOY DESIGN', 'JUMBO BAG PINK POLKADOT', 'PAPERWEIGHT HOME SWEET HOME', 'PAPERWEIGHT VINTAGE COLLAGE', 'MAGNETS PACK OF 4 RETRO PHOTO', 'MAGNETS PACK OF 4 CHILDHOOD MEMORY', 'MAGNETS PACK OF 4 VINTAGE LABELS ', 'MONEY BOX POCKET MONEY DESIGN', 'JUMBO SHOPPER VINTAGE RED PAISLEY', 'METAL SIGN TAKE IT OR LEAVE IT ', '10 COLOUR SPACEBOY PEN', 'LIPSTICK PEN RED', 'LIPSTICK PEN FUSCHIA', 'TOOTHPASTE TUBE PEN', 'REGENCY CAKESTAND 3 TIER', 'ENAMEL BREAD BIN CREAM', 'ENAMEL MEASURING JUG CREAM', '6 ROCKET BALLOONS ', 'GROW YOUR OWN BASIL IN ENAMEL MUG', 'PIN CUSHION BABUSHKA PINK', 'MEASURING TAPE BABUSHKA PINK', 'MEASURING TAPE BABUSHKA BLUE', 'NATURAL SLATE HEART CHALKBOARD ', 'EMBOSSED GLASS TEALIGHT HOLDER', 'HANGING METAL HEART LANTERN', 'HANGING METAL STAR LANTERN', 'FAIRY TALE COTTAGE NIGHT LIGHT', 'GUMBALL COAT RACK', 'BABUSHKA LIGHTS STRING OF 10', 'HEART OF WICKER SMALL', 'HEART OF WICKER LARGE', 'TV DINNER TRAY DOLLY GIRL', 'SPACEBOY TV DINNER TRAY', 'WATERING CAN GARDEN MARKER', 'BIRDHOUSE GARDEN MARKER ', 'DAISY GARDEN MARKER', 'BLACK TEA TOWEL CLASSIC DESIGN', 'RED GINGHAM TEDDY BEAR ', 'NATURAL SLATE RECTANGLE CHALKBOARD', 'PACK OF 12 TRADITIONAL CRAYONS', 'EMERGENCY FIRST AID TIN ', 'SET OF 2 ROUND TINS CAMEMBERT ', 'MEMO BOARD COTTAGE DESIGN', 'MINI JIGSAW DOLLY GIRL', 'MINI JIGSAW SPACEBOY', 'MINI JIGSAW PURDEY', 'HEADS AND TAILS SPORTING FUN', 'PICTURE DOMINOES', 'HOLIDAY FUN LUDO', 'PLASTERS IN TIN SPACEBOY', 'PLASTERS IN TIN SKULLS', 'PLASTERS IN TIN WOODLAND ANIMALS', 'PLASTERS IN TIN STRONGMAN', 'PLASTERS IN TIN CIRCUS PARADE ', 'PLASTERS IN TIN VINTAGE PAISLEY ', 'CLOTHES PEGS RETROSPOT PACK 24 ', 'WOODEN SCHOOL COLOURING SET', 'MONSTERS STENCIL CRAFT', '20 DOLLY PEGS RETROSPOT', 'FELTCRAFT CUSHION OWL', 'ROCKING HORSE RED CHRISTMAS ', 'ROCKING HORSE GREEN CHRISTMAS ', 'STAR WOODEN CHRISTMAS DECORATION', 'HEART WOODEN CHRISTMAS DECORATION', 'METAL MERRY CHRISTMAS WREATH', 'SWALLOW WOODEN CHRISTMAS DECORATION', 'WOODEN HEART CHRISTMAS SCANDINAVIAN', 'WOODEN STAR CHRISTMAS SCANDINAVIAN', 'WOODEN TREE CHRISTMAS SCANDINAVIAN', 'ADVENT CALENDAR GINGHAM SACK', 'WOOD STOCKING CHRISTMAS SCANDISPOT', 'WOOD STOCKING CHRISTMAS SCANDISPOT', 'PACK OF 6 SWEETIE GIFT BOXES', 'PACK OF 6 HANDBAG GIFT BOXES', 'PACK OF 6 PANNETONE GIFT BOXES', 'PACK OF 6 BIRDY GIFT TAGS', 'FELTCRAFT HAIRBAND RED AND BLUE', 'CARD HOLDER GINGHAM HEART', 'CARDHOLDER GINGHAM STAR', 'CARDHOLDER HOLLY WREATH METAL', 'CHRISTMAS GINGHAM STAR', 'CHRISTMAS GINGHAM TREE', 'GINGHAM HEART DECORATION', 'CHRISTMAS STAR WISH LIST CHALKBOARD', 'MUSICAL ZINC HEART DECORATION ', 'CHRISTMAS MUSICAL ZINC TREE', 'CHRISTMAS MUSICAL ZINC STAR', 'CHRISTMAS RETROSPOT STAR WOOD', 'CHRISTMAS RETROSPOT ANGEL WOOD', 'RETROSPOT WOODEN HEART DECORATION', 'CHRISTMAS RETROSPOT TREE WOOD', 'WOODEN CROQUET GARDEN SET', 'PACK OF 12 SPACEBOY TISSUES', 'PACK OF 12 CIRCUS PARADE TISSUES ', 'PACK OF 12 LONDON TISSUES ', 'BAKING SET SPACEBOY DESIGN', 'SET OF 6 SOLDIER SKITTLES', '4 TRADITIONAL SPINNING TOPS', 'TRADITIONAL KNITTING NANCY', 'MINT KITCHEN SCALES', 'PICNIC BOXES SET OF 3 RETROSPOT ', 'SPACEBOY LUNCH BOX ', 'DOLLY GIRL LUNCH BOX', 'CIRCUS PARADE LUNCH BOX ', 'CHILDS BREAKFAST SET CIRCUS PARADE', 'SET OF 4 NAPKIN CHARMS HEARTS', 'CERAMIC CHERRY CAKE MONEY BANK', 'CERAMIC HEART FAIRY CAKE MONEY BANK', 'CERAMIC STRAWBERRY CAKE MONEY BANK', 'CERAMIC PIRATE CHEST MONEY BANK', 'GENTLEMAN SHIRT REPAIR KIT ', 'BUTTON BOX ', 'DELUXE SEWING KIT ', 'LUNCH BOX I LOVE LONDON', 'DOORMAT I LOVE LONDON', 'CHARLOTTE BAG DOLLY GIRL DESIGN', 'LUNCH BAG DOLLY GIRL DESIGN', 'JUMBO BAG DOLLY GIRL DESIGN', 'TOY TIDY DOLLY GIRL DESIGN', 'RECIPE BOX BLUE SKETCHBOOK DESIGN', 'RECIPE BOX PANTRY YELLOW DESIGN', 'PINK BABY BUNTING', 'RED BABY BUNTING ', 'FRENCH WC SIGN BLUE METAL', 'FRENCH GARDEN SIGN BLUE METAL', 'FRENCH BLUE METAL DOOR SIGN 3', 'DOORMAT MERRY CHRISTMAS RED ', 'DOORMAT WELCOME TO OUR HOME', 'GROW A FLYTRAP OR SUNFLOWER IN TIN', 'WICKER STAR ', 'WICKER WREATH SMALL', 'GREEN REGENCY TEACUP AND SAUCER', 'PINK REGENCY TEACUP AND SAUCER', 'ROSES REGENCY TEACUP AND SAUCER ', 'PINK DOG BOWL', 'PINK CAT BOWL', 'CARD DOLLY GIRL ', 'CARD I LOVE LONDON ', 'CARD BIRTHDAY COWBOY', 'CARD CAT AND TREE ', 'SET OF 3 CAKE TINS PANTRY DESIGN ', 'SET OF 6 SPICE TINS PANTRY DESIGN', 'ALARM CLOCK BAKELIKE CHOCOLATE', 'ALARM CLOCK BAKELIKE GREEN', 'ALARM CLOCK BAKELIKE RED ', 'ALARM CLOCK BAKELIKE PINK', 'ALARM CLOCK BAKELIKE IVORY', '3D VINTAGE CHRISTMAS STICKERS ', 'SET OF 6 RIBBONS VINTAGE CHRISTMAS', 'RIBBON REEL SOCKS AND MITTENS', 'RIBBON REEL MAKING SNOWMEN ', 'RIBBON REEL CHRISTMAS PRESENT ', 'RIBBON REEL SNOWY VILLAGE', 'RIBBON REEL CHRISTMAS SOCK BAUBLE', 'FUNKY DIVA PEN', 'MAKE YOUR OWN PLAYTIME CARD KIT', 'MAKE YOUR OWN FLOWERPOWER CARD KIT', \"POPPY'S PLAYHOUSE BEDROOM \", \"POPPY'S PLAYHOUSE LIVINGROOM \", \"POPPY'S PLAYHOUSE KITCHEN\", 'FELTCRAFT PRINCESS CHARLOTTE DOLL', 'FELTCRAFT PRINCESS LOLA DOLL', 'FELTCRAFT PRINCESS OLIVIA DOLL', 'SET 7 BABUSHKA NESTING BOXES', 'SMALL YELLOW BABUSHKA NOTEBOOK ', 'SMALL RED BABUSHKA NOTEBOOK ', 'SMALL PURPLE BABUSHKA NOTEBOOK ', 'LARGE YELLOW BABUSHKA NOTEBOOK ', 'LARGE RED BABUSHKA NOTEBOOK ', 'LARGE PURPLE BABUSHKA NOTEBOOK  ', 'SET OF 3 NOTEBOOKS IN PARCEL', 'FAMILY PHOTO FRAME CORNICE', 'CLEAR DRAWER KNOB ACRYLIC EDWARDIAN', 'RED DRAWER KNOB ACRYLIC EDWARDIAN', 'GUMBALL MAGAZINE RACK', 'LANTERN CREAM GAZEBO ', 'T-LIGHT GLASS FLUTED ANTIQUE', 'FLUTED ANTIQUE CANDLE HOLDER', 'SWEETHEART RECIPE BOOK STAND', 'ANTIQUE GLASS DRESSING TABLE POT', 'ANTIQUE TALL SWIRLGLASS TRINKET POT', 'ANTIQUE GLASS PEDESTAL BOWL', 'PINK HANGING HEART T-LIGHT HOLDER', 'BLUE DRAWER KNOB ACRYLIC EDWARDIAN', 'SET OF 6 T-LIGHTS TOADSTOOLS', 'SET OF 6 T-LIGHTS EASTER CHICKS', 'SET OF 6 T-LIGHTS SANTA', 'SET OF 6 T-LIGHTS SNOWMEN', 'CARD PARTY GAMES ', 'CARD PSYCHEDELIC APPLES', 'CARD MOTORBIKE SANTA', 'CARD SUKI BIRTHDAY', 'CARD CHRISTMAS VILLAGE', 'BIRTHDAY CARD, RETRO SPOT', 'GIFT BAG PSYCHEDELIC APPLES', 'BROCANTE SHELF WITH HOOKS', 'HAND WARMER BABUSHKA DESIGN', 'HOT WATER BOTTLE I AM SO POORLY', 'ROUND CAKE TIN VINTAGE GREEN', 'BISCUIT TIN VINTAGE RED', 'VINTAGE CREAM DOG FOOD CONTAINER', 'SET 20 NAPKINS FAIRY CAKES DESIGN ', 'HAND WARMER OWL DESIGN', 'HAND WARMER SCOTTY DOG DESIGN', 'HAND WARMER BIRD DESIGN', 'NUMBER TILE VINTAGE FONT 3', 'MINI CAKE STAND T-LIGHT HOLDER', 'SET OF 2 TEA TOWELS APPLE AND PEARS', 'PEG BAG APPLES DESIGN', 'OVEN MITT APPLES DESIGN', \"CHILDREN'S APRON DOLLY GIRL \", 'CALENDAR FAMILY FAVOURITES', 'CALENDAR PAPER CUT DESIGN', 'CALENDAR IN SEASON DESIGN', 'PACK OF 20 NAPKINS PANTRY DESIGN', 'PACK OF 20 NAPKINS RED APPLES', 'SET OF 20 VINTAGE CHRISTMAS NAPKINS', 'PAPER CHAIN KIT VINTAGE CHRISTMAS', 'BLUE COAT RACK PARIS FASHION', 'ASSORTED BOTTLE TOP  MAGNETS ', 'HERB MARKER THYME', 'HERB MARKER ROSEMARY', 'HERB MARKER PARSLEY', 'HERB MARKER MINT', 'HERB MARKER CHIVES ', 'YELLOW GIANT GARDEN THERMOMETER', 'BAKING MOULD HEART WHITE CHOCOLATE', 'BAKING MOULD TOFFEE CUP CHOCOLATE', 'BAKING MOULD ROSE WHITE CHOCOLATE', 'BAKING MOULD CHOCOLATE CUPCAKES', 'CUPCAKE LACE PAPER SET 6', 'CHRISTMAS LIGHTS 10 REINDEER', 'CHRISTMAS LIGHTS 10 VINTAGE BAUBLES', 'CHRISTMAS METAL POSTCARD WITH BELLS', 'CHRISTMAS METAL TAGS ASSORTED ', 'METAL DECORATION NAUGHTY CHILDREN ', 'SET OF 36 VINTAGE CHRISTMAS DOILIES', '60 CAKE CASES DOLLY GIRL DESIGN', '60 CAKE CASES VINTAGE CHRISTMAS', '36 FOIL STAR CAKE CASES ', 'JAM MAKING SET WITH JARS', 'JAM MAKING SET PRINTED', 'JAM JAR WITH PINK LID', 'JAM JAR WITH GREEN LID', '3 TRADITIONAl BISCUIT CUTTERS  SET', 'GINGERBREAD MAN COOKIE CUTTER', 'HOMEMADE JAM SCENTED CANDLES', \"CHILDREN'S SPACEBOY MUG\", \"CHILDREN'S CIRCUS PARADE MUG\", 'CIRCUS PARADE CHILDRENS EGG CUP ', 'PANTRY WASHING UP BRUSH', 'PANTRY SCRUBBING BRUSH', 'PANTRY PASTRY BRUSH', 'CARD BILLBOARD FONT', 'CARD GINGHAM ROSE ', 'SOLDIERS EGG CUP ', 'SET 2 PANTRY DESIGN TEA TOWELS', 'REVOLVER WOODEN RULER ', 'SET OF 4 PANTRY JELLY MOULDS', 'TRAVEL CARD WALLET RETROSPOT', 'TRAVEL CARD WALLET SUKI', 'TRAVEL CARD WALLET VINTAGE TICKET', 'TRAVEL CARD WALLET UNION JACK', 'TRAVEL CARD WALLET KEEP CALM', 'TRAVEL CARD WALLET KEEP CALM', 'TRAVEL CARD WALLET VINTAGE LEAF', 'TRAVEL CARD WALLET TRANSPORT', 'TRAVEL CARD WALLET SKULLS', 'TRAVEL CARD WALLET PANTRY', 'TRAVEL CARD WALLET I LOVE LONDON', 'TRAVEL CARD WALLET FLOWER MEADOW', ' SPACEBOY BABY GIFT SET', 'I LOVE LONDON BABY GIFT SET', 'CIRCUS PARADE BABY GIFT SET', 'GLASS APOTHECARY BOTTLE PERFUME', 'GLASS APOTHECARY BOTTLE TONIC', 'GLASS APOTHECARY BOTTLE ELIXIR', 'DRAWER KNOB CRACKLE GLAZE PINK', 'DRAWER KNOB CERAMIC BLACK', 'RECYCLED ACAPULCO MAT RED', 'VINTAGE EMBOSSED HEART', 'HANGING ENGRAVED METAL HEART', 'ALUMINIUM STAMPED HEART', 'EDWARDIAN HEART PHOTO FRAME', 'EMBOSSED HEART TRINKET BOX', 'ICE CREAM PEN LIP GLOSS ', 'RED METAL BOX TOP SECRET', 'GREEN METAL BOX ARMY SUPPLIES', 'SET 6 PAPER TABLE LANTERN HEARTS ', 'SET 6 PAPER TABLE LANTERN STARS ', 'RABBIT NIGHT LIGHT', 'ZINC  STAR T-LIGHT HOLDER ', 'ZINC  HEART T-LIGHT HOLDER', 'GLASS BON BON JAR', 'VINTAGE GLASS T-LIGHT HOLDER', 'PETIT TRAY CHIC', 'SILVER BELLS TABLE DECORATION', 'SILVER STARS TABLE DECORATION', 'SILVER HEARTS TABLE DECORATION', 'JINGLE BELL HEART DECORATION', 'WHITE HEARTS WIRE PLANT POT HOLDER', 'PACK OF SIX LED TEA LIGHTS', 'PARISIENNE CURIO CABINET', 'VINTAGE LEAF CHOPPING BOARD  ', 'PARISIENNE JEWELLERY DRAWER ', 'PACK OF 6 LARGE FRUIT STRAWS ', 'PACK OF 6 COCKTAIL PARASOL STRAWS', 'PARTY CHARMS 50 PIECES', 'COCKTAIL SWORDS 50 PIECES', '18PC WOODEN CUTLERY SET DISPOSABLE', 'MISTLETOE HEART WREATH GREEN', 'SET OF 4 JAM JAR MAGNETS', 'KNICKERBOCKERGLORY MAGNET ASSORTED ', 'SET OF 6 NATIVITY MAGNETS ', 'SET OF 5 LUCKY CAT MAGNETS ', 'LARGE CERAMIC TOP STORAGE JAR', 'MEDIUM CERAMIC TOP STORAGE JAR', 'SMALL CERAMIC TOP STORAGE JAR ', 'CLASSIC CAFE SUGAR DISPENSER', 'CLASSIC GLASS COOKIE JAR', 'REGENCY TEA PLATE ROSES ', 'REGENCY TEA PLATE GREEN ', 'REGENCY TEA PLATE PINK', 'REGENCY TEAPOT ROSES ', 'REGENCY MILK JUG PINK ', 'ABC TREASURE BOOK BOX ', 'TREASURE ISLAND BOOK BOX', 'TOILET SIGN OCCUPIED OR VACANT', 'BULL DOG BOTTLE OPENER', 'VINTAGE  2 METRE FOLDING RULER', 'SET OF 12 FORK CANDLES', 'BUNDLE OF 3 RETRO NOTE BOOKS', 'GYMKHANA TREASURE BOOK BOX', 'VINTAGE LEAF MAGNETIC NOTEPAD', 'SKETCHBOOK MAGNETIC SHOPPING LIST', 'PANTRY MAGNETIC  SHOPPING LIST', 'JUMBO BAG APPLES', 'JUMBO BAG PEARS', 'JUMBO BAG ALPHABET', 'JUMBO BAG VINTAGE LEAF', 'JUMBO BAG VINTAGE DOILY ', 'CHARLOTTE BAG APPLES DESIGN', 'CHARLOTTE BAG VINTAGE ALPHABET ', 'LUNCH BAG APPLE DESIGN', 'LUNCH BAG ALPHABET DESIGN', 'LUNCH BAG VINTAGE LEAF DESIGN', 'LUNCH BAG VINTAGE DOILY ', 'WHITE ROCKING HORSE HAND PAINTED', 'RED ROCKING HORSE HAND PAINTED', 'HEART WREATH DECORATION WITH BELL', 'STAR WREATH DECORATION WITH BELL', 'JINGLE BELL HEART ANTIQUE GOLD', 'LAUREL STAR ANTIQUE GOLD', 'LAUREL STAR ANTIQUE SILVER ', 'REINDEER HEART DECORATION GOLD', 'REINDEER HEART DECORATION SILVER', 'CHRISTMAS TREE HANGING GOLD', 'CHRISTMAS TREE HANGING SILVER ', 'CHERUB HEART DECORATION SILVER ', 'FILIGREE HEART DAISY WHITE', 'FILIGREE HEART BIRD WHITE ', 'BISCUIT TIN VINTAGE CHRISTMAS', 'STORAGE TIN VINTAGE DOILY ', 'SET OF 4 KNICK KNACK TINS DOILY ', 'TREASURE TIN GYMKHANA DESIGN', 'SET OF TEA COFFEE SUGAR TINS PANTRY', 'ROUND STORAGE TIN VINTAGE LEAF', 'SET OF 3 REGENCY CAKE TINS', \"BISCUIT TIN 50'S CHRISTMAS\", 'CHILDRENS CUTLERY SPACEBOY ', 'SET OF 3 WOODEN HEART DECORATIONS', 'SET OF 3 WOODEN SLEIGH DECORATIONS', 'SET OF 3 WOODEN TREE DECORATIONS', 'SET OF 3 WOODEN STOCKING DECORATION', 'SET OF 4 SANTA PLACE SETTINGS', 'SET OF 2 CERAMIC CHRISTMAS TREES', 'CHRISTMAS TABLE SILVER CANDLE SPIKE', 'TREE T-LIGHT HOLDER WILLIE WINKIE', 'SET OF 3 HANGING OWLS OLLIE BEAK', 'FOLDING BUTTERFLY MIRROR HOT PINK ', 'FOLDING BUTTERFLY MIRROR RED  ', 'FOLDING BUTTERFLY MIRROR IVORY ', 'DOORMAT VINTAGE LEAF', 'DOORMAT KEEP CALM AND COME IN', 'PINK VINTAGE SPOT BEAKER', 'BLUE VINTAGE SPOT BEAKER', 'RED VINTAGE SPOT BEAKER', 'GREEN VINTAGE SPOT BEAKER', 'DOLLY GIRL CHILDRENS BOWL', 'SPACEBOY CHILDRENS BOWL', 'DOLLY GIRL CHILDRENS CUP', 'SPACEBOY CHILDRENS CUP', 'SET OF 12 FAIRY CAKE BAKING CASES', 'SET OF 6 SNACK LOAF BAKING CASES', 'SET OF 12 MINI LOAF BAKING CASES', 'SPOTTY BUNTING', 'GARDENERS KNEELING PAD CUP OF TEA ', 'GARDENERS KNEELING PAD KEEP CALM ', 'KNEELING MAT HOUSEWORK  DESIGN', 'SET OF 36 PANTRY PAPER DOILIES', 'SET OF 60 PANTRY DESIGN CAKE CASES ', 'SET OF 60 VINTAGE LEAF CAKE CASES ', 'SET OF 60 I LOVE LONDON CAKE CASES ', 'VINTAGE CHRISTMAS STOCKING ', 'VINTAGE CHRISTMAS GIFT SACK', 'VINTAGE CHRISTMAS BUNTING', 'VINTAGE CHRISTMAS TABLECLOTH', 'RED REFECTORY CLOCK ', 'BOX OF 6 MINI VINTAGE CRACKERS', \"BOX OF 6 MINI 50'S CRACKERS\", 'SMALL WHITE HEART OF WICKER', 'LARGE WHITE HEART OF WICKER', 'LARGE WHITE HEART OF WICKER', 'WHITE WICKER STAR ', 'SET 6 SCHOOL MILK BOTTLES IN CRATE', 'DECORATIVE WICKER HEART LARGE', 'DECORATIVE WICKER HEART SMALL', 'IVORY WICKER HEART SMALL', 'EGG FRYING PAN RED ', 'VINTAGE CHRISTMAS CAKE FRILL', 'PINK DINER WALL CLOCK', 'JUMBO BAG VINTAGE CHRISTMAS ', \"JUMBO BAG 50'S CHRISTMAS \", ' DOLLY GIRL BEAKER', 'SPACEBOY BEAKER', 'I LOVE LONDON BEAKER', 'CHILDRENS TOY COOKING UTENSIL SET', 'ROLL WRAP VINTAGE CHRISTMAS', 'ROLL WRAP VINTAGE SPOT ', \"ROLL WRAP 50'S CHRISTMAS\", \"ROLL WRAP 50'S RED CHRISTMAS \", '6 GIFT TAGS VINTAGE CHRISTMAS ', \"6 GIFT TAGS 50'S CHRISTMAS \", 'LOVE HOT WATER BOTTLE', 'HOT STUFF HOT WATER BOTTLE', 'SET 12 COLOUR PENCILS LOVE LONDON', 'SET 12 COLOURING PENCILS DOILY', 'SET 12 COLOUR PENCILS SPACEBOY ', 'SET 12 COLOUR PENCILS DOLLY GIRL ', 'SET 36 COLOURING PENCILS DOILY', 'SET 36 COLOUR PENCILS SPACEBOY ', 'SET 36 COLOUR PENCILS DOLLY GIRL', 'VINTAGE CHRISTMAS PAPER GIFT BAG', \"50'S CHRISTMAS PAPER GIFT BAG\", 'PACK OF 12 VINTAGE CHRISTMAS TISSUE', 'PACK OF 12 DOLLY GIRL TISSUES', \"PACK OF 12 50'S CHRISTMAS TISSUES\", 'PACK OF 12 RED APPLE TISSUES', 'PACK OF 12 VINTAGE DOILY TISSUES', 'PACK OF 12 VINTAGE LEAF TISSUES ', 'BOX OF 6 CHRISTMAS CAKE DECORATIONS', 'WOODLAND MINI BACKPACK', 'SPACEBOY MINI BACKPACK', ' I LOVE LONDON MINI BACKPACK', 'SPACEBOY ROCKET LOLLY MAKERS', 'HOME SWEET HOME CUSHION COVER ', 'POSTE FRANCE CUSHION COVER', 'BELLE JARDINIERE CUSHION COVER', 'LE JARDIN BOTANIQUE CUSHION COVER', 'HOME SWEET HOME HANGING HEART', 'LETTER HOLDER HOME SWEET HOME', 'HOME SWEET HOME BLACKBOARD', 'SET OF 2 TRAYS HOME SWEET HOME', ' TRELLIS COAT RACK', 'BATHROOM HOOK', 'LAVENDER TOILETTE BOTTLE', 'HOME SWEET HOME BOTTLE ', 'PANTRY HOOK BALLOON WHISK ', 'GINGHAM RECIPE BOOK BOX', 'METAL SIGN DROP YOUR PANTS', 'STOOL HOME SWEET HOME ', \"3 RAFFIA RIBBONS 50'S CHRISTMAS \", '3 RAFFIA RIBBONS VINTAGE CHRISTMAS', 'VINTAGE CHRISTMAS GIFT BAG LARGE ', ' RED SPOT GIFT BAG LARGE', 'SWEETHEART BIRD HOUSE', 'WOODLAND SMALL RED FELT HEART', 'WOODLAND SMALL BLUE FELT HEART', 'WOODLAND SMALL PINK FELT HEART', 'WOODLAND LARGE RED FELT HEART', 'WOODLAND LARGE BLUE FELT HEART', 'WOODLAND LARGE PINK FELT HEART', 'MINI LIGHTS WOODLAND MUSHROOMS', 'PEARLISED IVORY HEART LARGE ', 'HANGING  BUTTERFLY T-LIGHT HOLDER', 'SWEET HEART CAKE CARRIER', 'VINTAGE BELLS GARLAND', 'T-LIGHT HOLDER HANGING LOVE BIRD', 'VINTAGE DOILY TRAVEL SEWING KIT', 'VINTAGE DOILY DELUXE SEWING KIT ', 'SET 12 VINTAGE DOILY CHALK ', 'KEY RING BASEBALL BOOT UNION JACK', 'PLAYING CARDS I LOVE LONDON ', 'MINI PLAYING CARDS SPACEBOY ', 'MINI PLAYING CARDS DOLLY GIRL ', 'EMBROIDERED RIBBON REEL REBECCA ', 'WALL ART CAT AND BIRD ', 'WALL ART DOG AND BALL ', 'WALL ART HORSE & PONY ', 'WALL ART BUFFALO BILL ', 'WALL ART DOG LICENCE ', 'WALL ART SPACEBOY', 'WALL ART DOLLY GIRL ', 'WALL ART GARDEN HAVEN ', 'WALL ART STOP FOR TEA ', 'WALL ART BICYCLE SAFETY', \"WALL ART LOVES' SECRET \", 'WALL ART CLASSIC PUDDINGS ', \"WALL ART 70'S ALPHABET \", 'PACK OF 12 PAISLEY PARK TISSUES ', 'LANDMARK FRAME OXFORD STREET', 'WOODLAND BUNNIES LOLLY MAKERS', 'EGG CUP MILKMAID INGRID', 'EGG CUP MILKMAID HELGA ', 'EGG CUP MILKMAID HEIDI', 'EGG CUP HENRIETTA HEN PINK', 'EGG CUP HENRIETTA HEN CREAM ', 'TRADTIONAL ALPHABET STAMP SET', 'TRADITIONAL PICK UP STICKS GAME ', 'TRADITIONAL NAUGHTS & CROSSES', 'JUMBO BAG PAISLEY PARK', 'VINTAGE DOILY JUMBO BAG RED ', 'LUNCH BAG PAISLEY PARK  ', 'SET 10 CARDS HATS & STOCKINGS 17081', 'SET 10 CARDS 12 DAYS WRAP  17058', 'SET 6 CARDS SPARKLY REINDEER 17262', 'SET 10 CARDS DINKY TREE 17076', 'SET 10 CARDS TRIANGLE ICONS  17220', 'SET 10 CARDS WORLD CHILDREN 17067', 'SET 10 CARDS XMAS CHOIR 17068', 'SET 10 CARDS MAGICAL TREE 17086', 'SET 10 CARDS SCOTTIE DOG 17211', 'SET 10 CARDS CHRISTMAS BAUBLE 16954', 'MILK MAIDS MUG ', 'BLUE VICTORIAN FABRIC OVAL BOX', 'SET OF 3 BIRD LIGHT PINK FEATHER ', 'VINTAGE BEAD PINK EVENING BAG', 'VINTAGE BEAD PINK PURSE ', 'VINTAGE BEAD COSMETIC BAG ', 'HANGING FAIRY CAKE DECORATION', 'FOLKART STAR CHRISTMAS DECORATIONS', 'FOLKART ZINC HEART CHRISTMAS DEC', 'FOLKART CLIP ON STARS', 'FOLK ART METAL STAR T-LIGHT HOLDER', 'ZINC FOLKART SLEIGH BELLS', 'YELLOW/PINK CERAMIC CANDLE HOLDER', 'WOVEN BUBBLE GUM CUSHION COVER', 'WOVEN BERRIES CUSHION COVER ', 'WOVEN FROST CUSHION COVER', 'WOVEN CANDY CUSHION COVER ', 'WOVEN ROSE GARDEN CUSHION COVER ', 'SMALL POP BOX FUNKY MONKEY', 'BLUE GREEN EMBROIDERY COSMETIC BAG', 'HANGING PHOTO CLIP ROPE LADDER', 'ENGLISH ROSE SPIRIT LEVEL ', 'RETRO LONGBOARD IRONING BOARD COVER', 'PARTY BUNTING', 'BLUE HAPPY BIRTHDAY BUNTING', 'PINK FAIRY CAKE CHILDRENS APRON', 'SCOTTIE DOGS BABY BIB', 'DOORMAT 3 SMILEY CATS', 'DOORMAT TOPIARY', 'DOORMAT FAIRY CAKE', 'DOORMAT NEW ENGLAND', 'DOORMAT WELCOME PUPPIES', 'FEATHER PEN,HOT PINK', 'FEATHER PEN,COAL BLACK', 'FEATHER PEN,LIGHT PINK', 'HI TEC ALPINE HAND WARMER', 'WHITE METAL LANTERN', 'PINK GLASS CANDLEHOLDER', 'HANGING JAM JAR T-LIGHT HOLDERS', 'COLOUR GLASS. STAR T-LIGHT HOLDER', 'COFFEE SCENT PILLAR CANDLE', 'SET/6 PURPLE BUTTERFLY T-LIGHTS', 'SET/6 PINK  BUTTERFLY T-LIGHTS', 'SET OF 6 HALLOWEEN GHOST T-LIGHTS', 'SET/12 TAPER CANDLES', 'IVORY PILLAR CANDLE SILVER FLOCK', 'SET/3 VANILLA SCENTED CANDLE IN BOX', 'SET OF 2 CHRISTMAS DECOUPAGE CANDLE', \"RETRO PLASTIC 70'S TRAY\", 'RETRO PLASTIC POLKA TRAY', 'RETRO PLASTIC DAISY TRAY', 'CHILLI LIGHTS', 'WOODEN PICTURE FRAME WHITE FINISH', 'WOODEN FRAME ANTIQUE WHITE ', 'LAUNDRY 15C METAL SIGN', 'WASHROOM METAL SIGN', 'AIRLINE LOUNGE,METAL SIGN', 'KITCHEN METAL SIGN', 'BATHROOM METAL SIGN', 'METAL SIGN,CUPCAKE SINGLE HOOK', 'METAL SIGN CUPCAKE SINGLE HOOK', 'FRAPPUCINO SCARF KNITTING KIT', 'KNITTED UNION FLAG HOT WATER BOTTLE', 'ENGLISH ROSE HOT WATER BOTTLE', 'CHARLIE+LOLA RED HOT WATER BOTTLE ', 'CHARLIE+LOLA RED HOT WATER BOTTLE ', 'CHARLIE LOLA BLUE HOT WATER BOTTLE ', 'CHARLIE LOLA BLUE HOT WATER BOTTLE ', 'CHARLIE+LOLA PINK HOT WATER BOTTLE', 'CHARLIE + LOLA RED HOT WATER BOTTLE', 'PINK HEART SHAPE EGG FRYING PAN', 'PINK/PURPLE RETRO RADIO', 'GREETING CARD, OVERCROWDED POOL.', 'ROTATING SILVER ANGELS T-LIGHT HLDR', 'SET OF 20 KIDS COOKIE CUTTERS', 'SET OF 3 HEART COOKIE CUTTERS', 'SET OF 3 BUTTERFLY COOKIE CUTTERS', 'SET OF 4 ENGLISH ROSE PLACEMATS', 'ENGLISH ROSE NOTEBOOK A7 SIZE', 'FAIRY CAKES NOTEBOOK A7 SIZE', 'GIRLS ALPHABET IRON ON PATCHES ', 'CROCHET ROSE PURSE WITH SUEDE BACK', 'SMALL DOLLY MIX DESIGN ORANGE BOWL', 'SMALL MARSHMALLOWS PINK BOWL', 'SMALL CHOCOLATES PINK BOWL', 'PINK SQUARE TABLE CLOCK', 'FLYING PIG WATERING CAN', 'BOX OF 24 COCKTAIL PARASOLS', 'SILVER JEWELLED MIRROR TRINKET TRAY', 'ENCHANTED BIRD COATHANGER 5 HOOK', 'JUNGLE POPSICLES ICE LOLLY MOULDS', 'ZINC WILLIE WINKIE  CANDLE STICK', 'HELLO SAILOR BLUE SOAP HOLDER', 'SILVER DISCO HANDBAG', 'GREEN WIRE STANDING CANDLE HOLDER', 'GREEN ROSE WASHBAG', 'PINK BUTTERFLY HANDBAG W BOBBLES', 'MULTI COLOUR SILVER T-LIGHT HOLDER', 'ANTIQUE SILVER T-LIGHT GLASS', 'ANTIQUE SILVER TEA GLASS ENGRAVED', 'SET OF 4 PISTACHIO LOVEBIRD COASTER', 'SINGLE HEART ZINC T-LIGHT HOLDER', 'HANGING HEART ZINC T-LIGHT HOLDER', 'SMALL HEART FLOWERS HOOK ', 'HANGING HEART JAR T-LIGHT HOLDER', 'SET OF 36 TEATIME PAPER DOILIES', 'SET OF 72 PINK HEART PAPER DOILIES', '60 TEATIME FAIRY CAKE CASES', '72 SWEETHEART FAIRY CAKE CASES', 'CHILDRENS CUTLERY RETROSPOT RED ', 'RED RETROSPOT UMBRELLA', 'ENVELOPE 50 BLOSSOM IMAGES', 'BLOSSOM  IMAGES NOTEBOOK SET', 'ROMANTIC IMAGES GIFT WRAP SET', 'BLOSSOM IMAGES GIFT WRAP SET', 'CURIOUS IMAGES GIFT WRAP SET', 'GARDENIA 1 WICK MORRIS BOXED CANDLE', 'SET/4 RED MINI ROSE CANDLE IN BOWL', 'S/4 IVORY MINI ROSE CANDLE IN BOWL', 'S/4 PINK FLOWER CANDLES IN BOWL', 'TRADITIONAL CHRISTMAS RIBBONS', 'ROMANTIC PINKS RIBBONS ', 'SCANDINAVIAN REDS RIBBONS', 'URBAN BLACK RIBBONS ', 'FRENCH ENAMEL POT W LID', 'FRENCH ENAMEL WATER BASIN', 'WHITE JEWELLED HEART DECORATION', 'RED CHARLIE+LOLA PERSONAL DOORSIGN', 'SCANDINAVIAN 3 HEARTS NAPKIN RING', 'CANDY SPOT EGG WARMER HARE', 'CANDY SPOT EGG WARMER RABBIT', 'JUMBO BAG RED RETROSPOT', 'JUMBO  BAG BAROQUE BLACK WHITE', 'JUMBO BAG STRAWBERRY', 'SILVER GLITTER FLOWER VOTIVE HOLDER', 'BLACK ENCHANTED FOREST PLACEMAT', 'IVORY ENCHANTED FOREST PLACEMAT', 'WHITE HANGING HEART T-LIGHT HOLDER', 'BEADED CRYSTAL HEART PINK SMALL', 'BEADED CRYSTAL HEART GREEN ON STICK', 'BEADED CRYSTAL HEART PINK ON STICK', 'LADIES & GENTLEMEN METAL SIGN', 'BLACK BAROQUE CARRIAGE CLOCK', 'BLACK LOVE BIRD CANDLE', 'PINK LOVE BIRD CANDLE', 'SET/6 EAU DE NIL BIRD T-LIGHTS', 'SET/6 FROG PRINCE T-LIGHT CANDLES', 'S/4 CACTI CANDLES', 'SEWING SUSAN 21 NEEDLE SET', 'GREEN BITTY LIGHT CHAIN', 'PINK BITTY LIGHT CHAIN', 'SET 4 VALENTINE DECOUPAGE HEART BOX', 'LARGE HANGING IVORY & RED WOOD BIRD', 'SMALL HANGING IVORY/RED WOOD BIRD', 'SET OF 6 3D KIT CARDS FOR KIDS', 'SET/3 DECOUPAGE STACKING TINS', 'ANTIQUE RASPBERRY FLOWER EARRINGS', 'MIDNIGHT BLUE PAIR HEART HAIR SLIDE', 'GREEN VINTAGE EARRINGS ', \"NEW BAROQUE B'FLY NECKLACE CRYSTAL\", 'RUBY DROP CHANDELIER EARRINGS', 'BLUE BLOSSOM HAIR CLIP', 'SUMMER DAISIES BAG CHARM', 'BLUE MURANO TWIST BRACELET', 'WHITE HEART OF GLASS BRACELET', 'GREEN STONE/CRYSTAL EARRINGS', 'OLD ROSE COMBO BEAD NECKLACE', \"COTE D'AZURE NECKLACE\", 'ANT COPPER PINK BOUDICCA BRACELET', 'WHITE ROSEBUD & PEARL NECKLACE', 'WHITE  ROSEBUD PEARL BRACELET', 'WHITE ROSEBUD  PEARL EARRINGS', 'DAISY HAIR COMB', 'AMETHYST GLASS/SHELL/PEARL NECKLACE', 'AMBER 3 BEAD DROP EARRINGS', 'BLACK 3 BEAD DROP EARRINGS', 'AMETHYST DROP EARRINGS W LONG BEADS', 'BLACK DROP EARRINGS W LONG BEADS', 'BLACK CHUNKY BEAD BRACELET W STRAP', 'BLACK DIAMANTE EXPANDABLE RING', 'JADE DROP EARRINGS W FILIGREE', 'BLACK GLASS BRACELET W HEART CHARMS', 'VINTAGE ROSE BEAD BRACELET BLACK', 'BLACK SWEETHEART BRACELET', 'BLACK ENAMEL FLOWER RING', 'WHITE ENAMEL FLOWER HAIR TIE', 'PINK ENAMEL+GLASS HAIR COMB', 'LETTER \"S\" BLING KEY RING', 'DOTCOM POSTAGE', 'Dotcomgiftshop Gift Voucher £20.00', \"WALL ART LOVES' SECRET \"]\n"
     ]
    }
   ],
   "source": [
    "print(\"Longest transaction items:\")\n",
    "print(longest)"
   ]
  },
  {
   "cell_type": "markdown",
   "metadata": {},
   "source": [
    "## Store (only items) transaction data into a .csv file"
   ]
  },
  {
   "cell_type": "code",
   "execution_count": 12,
   "metadata": {},
   "outputs": [
    {
     "data": {
      "text/html": [
       "<div>\n",
       "<style scoped>\n",
       "    .dataframe tbody tr th:only-of-type {\n",
       "        vertical-align: middle;\n",
       "    }\n",
       "\n",
       "    .dataframe tbody tr th {\n",
       "        vertical-align: top;\n",
       "    }\n",
       "\n",
       "    .dataframe thead th {\n",
       "        text-align: right;\n",
       "    }\n",
       "</style>\n",
       "<table border=\"1\" class=\"dataframe\">\n",
       "  <thead>\n",
       "    <tr style=\"text-align: right;\">\n",
       "      <th></th>\n",
       "      <th>0</th>\n",
       "      <th>1</th>\n",
       "      <th>2</th>\n",
       "      <th>3</th>\n",
       "      <th>4</th>\n",
       "      <th>5</th>\n",
       "      <th>6</th>\n",
       "      <th>7</th>\n",
       "      <th>8</th>\n",
       "      <th>9</th>\n",
       "      <th>...</th>\n",
       "      <th>1104</th>\n",
       "      <th>1105</th>\n",
       "      <th>1106</th>\n",
       "      <th>1107</th>\n",
       "      <th>1108</th>\n",
       "      <th>1109</th>\n",
       "      <th>1110</th>\n",
       "      <th>1111</th>\n",
       "      <th>1112</th>\n",
       "      <th>1113</th>\n",
       "    </tr>\n",
       "  </thead>\n",
       "  <tbody>\n",
       "    <tr>\n",
       "      <th>0</th>\n",
       "      <td>WHITE HANGING HEART T-LIGHT HOLDER</td>\n",
       "      <td>WHITE METAL LANTERN</td>\n",
       "      <td>CREAM CUPID HEARTS COAT HANGER</td>\n",
       "      <td>KNITTED UNION FLAG HOT WATER BOTTLE</td>\n",
       "      <td>RED WOOLLY HOTTIE WHITE HEART.</td>\n",
       "      <td>SET 7 BABUSHKA NESTING BOXES</td>\n",
       "      <td>GLASS STAR FROSTED T-LIGHT HOLDER</td>\n",
       "      <td>None</td>\n",
       "      <td>None</td>\n",
       "      <td>None</td>\n",
       "      <td>...</td>\n",
       "      <td>None</td>\n",
       "      <td>None</td>\n",
       "      <td>None</td>\n",
       "      <td>None</td>\n",
       "      <td>None</td>\n",
       "      <td>None</td>\n",
       "      <td>None</td>\n",
       "      <td>None</td>\n",
       "      <td>None</td>\n",
       "      <td>None</td>\n",
       "    </tr>\n",
       "    <tr>\n",
       "      <th>1</th>\n",
       "      <td>HAND WARMER UNION JACK</td>\n",
       "      <td>HAND WARMER RED POLKA DOT</td>\n",
       "      <td>None</td>\n",
       "      <td>None</td>\n",
       "      <td>None</td>\n",
       "      <td>None</td>\n",
       "      <td>None</td>\n",
       "      <td>None</td>\n",
       "      <td>None</td>\n",
       "      <td>None</td>\n",
       "      <td>...</td>\n",
       "      <td>None</td>\n",
       "      <td>None</td>\n",
       "      <td>None</td>\n",
       "      <td>None</td>\n",
       "      <td>None</td>\n",
       "      <td>None</td>\n",
       "      <td>None</td>\n",
       "      <td>None</td>\n",
       "      <td>None</td>\n",
       "      <td>None</td>\n",
       "    </tr>\n",
       "    <tr>\n",
       "      <th>2</th>\n",
       "      <td>ASSORTED COLOUR BIRD ORNAMENT</td>\n",
       "      <td>POPPY'S PLAYHOUSE BEDROOM</td>\n",
       "      <td>POPPY'S PLAYHOUSE KITCHEN</td>\n",
       "      <td>FELTCRAFT PRINCESS CHARLOTTE DOLL</td>\n",
       "      <td>IVORY KNITTED MUG COSY</td>\n",
       "      <td>BOX OF 6 ASSORTED COLOUR TEASPOONS</td>\n",
       "      <td>BOX OF VINTAGE JIGSAW BLOCKS</td>\n",
       "      <td>BOX OF VINTAGE ALPHABET BLOCKS</td>\n",
       "      <td>HOME BUILDING BLOCK WORD</td>\n",
       "      <td>LOVE BUILDING BLOCK WORD</td>\n",
       "      <td>...</td>\n",
       "      <td>None</td>\n",
       "      <td>None</td>\n",
       "      <td>None</td>\n",
       "      <td>None</td>\n",
       "      <td>None</td>\n",
       "      <td>None</td>\n",
       "      <td>None</td>\n",
       "      <td>None</td>\n",
       "      <td>None</td>\n",
       "      <td>None</td>\n",
       "    </tr>\n",
       "    <tr>\n",
       "      <th>3</th>\n",
       "      <td>JAM MAKING SET WITH JARS</td>\n",
       "      <td>RED COAT RACK PARIS FASHION</td>\n",
       "      <td>YELLOW COAT RACK PARIS FASHION</td>\n",
       "      <td>BLUE COAT RACK PARIS FASHION</td>\n",
       "      <td>None</td>\n",
       "      <td>None</td>\n",
       "      <td>None</td>\n",
       "      <td>None</td>\n",
       "      <td>None</td>\n",
       "      <td>None</td>\n",
       "      <td>...</td>\n",
       "      <td>None</td>\n",
       "      <td>None</td>\n",
       "      <td>None</td>\n",
       "      <td>None</td>\n",
       "      <td>None</td>\n",
       "      <td>None</td>\n",
       "      <td>None</td>\n",
       "      <td>None</td>\n",
       "      <td>None</td>\n",
       "      <td>None</td>\n",
       "    </tr>\n",
       "    <tr>\n",
       "      <th>4</th>\n",
       "      <td>BATH BUILDING BLOCK WORD</td>\n",
       "      <td>None</td>\n",
       "      <td>None</td>\n",
       "      <td>None</td>\n",
       "      <td>None</td>\n",
       "      <td>None</td>\n",
       "      <td>None</td>\n",
       "      <td>None</td>\n",
       "      <td>None</td>\n",
       "      <td>None</td>\n",
       "      <td>...</td>\n",
       "      <td>None</td>\n",
       "      <td>None</td>\n",
       "      <td>None</td>\n",
       "      <td>None</td>\n",
       "      <td>None</td>\n",
       "      <td>None</td>\n",
       "      <td>None</td>\n",
       "      <td>None</td>\n",
       "      <td>None</td>\n",
       "      <td>None</td>\n",
       "    </tr>\n",
       "  </tbody>\n",
       "</table>\n",
       "<p>5 rows × 1114 columns</p>\n",
       "</div>"
      ],
      "text/plain": [
       "                                 0                            1     \\\n",
       "0  WHITE HANGING HEART T-LIGHT HOLDER          WHITE METAL LANTERN   \n",
       "1              HAND WARMER UNION JACK    HAND WARMER RED POLKA DOT   \n",
       "2       ASSORTED COLOUR BIRD ORNAMENT   POPPY'S PLAYHOUSE BEDROOM    \n",
       "3            JAM MAKING SET WITH JARS  RED COAT RACK PARIS FASHION   \n",
       "4            BATH BUILDING BLOCK WORD                         None   \n",
       "\n",
       "                             2                                    3     \\\n",
       "0  CREAM CUPID HEARTS COAT HANGER  KNITTED UNION FLAG HOT WATER BOTTLE   \n",
       "1                            None                                 None   \n",
       "2       POPPY'S PLAYHOUSE KITCHEN    FELTCRAFT PRINCESS CHARLOTTE DOLL   \n",
       "3  YELLOW COAT RACK PARIS FASHION         BLUE COAT RACK PARIS FASHION   \n",
       "4                            None                                 None   \n",
       "\n",
       "                             4                                   5     \\\n",
       "0  RED WOOLLY HOTTIE WHITE HEART.        SET 7 BABUSHKA NESTING BOXES   \n",
       "1                            None                                None   \n",
       "2         IVORY KNITTED MUG COSY   BOX OF 6 ASSORTED COLOUR TEASPOONS   \n",
       "3                            None                                None   \n",
       "4                            None                                None   \n",
       "\n",
       "                                6                               7     \\\n",
       "0  GLASS STAR FROSTED T-LIGHT HOLDER                            None   \n",
       "1                               None                            None   \n",
       "2      BOX OF VINTAGE JIGSAW BLOCKS   BOX OF VINTAGE ALPHABET BLOCKS   \n",
       "3                               None                            None   \n",
       "4                               None                            None   \n",
       "\n",
       "                       8                         9     ...  1104  1105  1106  \\\n",
       "0                      None                      None  ...  None  None  None   \n",
       "1                      None                      None  ...  None  None  None   \n",
       "2  HOME BUILDING BLOCK WORD  LOVE BUILDING BLOCK WORD  ...  None  None  None   \n",
       "3                      None                      None  ...  None  None  None   \n",
       "4                      None                      None  ...  None  None  None   \n",
       "\n",
       "   1107  1108  1109  1110  1111  1112  1113  \n",
       "0  None  None  None  None  None  None  None  \n",
       "1  None  None  None  None  None  None  None  \n",
       "2  None  None  None  None  None  None  None  \n",
       "3  None  None  None  None  None  None  None  \n",
       "4  None  None  None  None  None  None  None  \n",
       "\n",
       "[5 rows x 1114 columns]"
      ]
     },
     "execution_count": 12,
     "metadata": {},
     "output_type": "execute_result"
    }
   ],
   "source": [
    "df2 = pd.DataFrame(transactions)\n",
    "df2.to_csv('transactions.csv')\n",
    "df2.head()"
   ]
  },
  {
   "cell_type": "markdown",
   "metadata": {},
   "source": [
    "## Display total number of transactions and items of transaction data."
   ]
  },
  {
   "cell_type": "code",
   "execution_count": 14,
   "metadata": {},
   "outputs": [
    {
     "name": "stdout",
     "output_type": "stream",
     "text": [
      "Number of transactions: 25943\n",
      "Number of itmes: 541909\n"
     ]
    }
   ],
   "source": [
    "print(\"Number of transactions: {}\\nNumber of itmes: {}\".format(len(df2),len(df)))"
   ]
  },
  {
   "cell_type": "markdown",
   "metadata": {},
   "source": [
    "## Min Support as 0.001, confidence as 0.8 and max length of 10"
   ]
  },
  {
   "cell_type": "code",
   "execution_count": 15,
   "metadata": {},
   "outputs": [
    {
     "data": {
      "text/plain": [
       "[RelationRecord(items=frozenset({'GREEN REGENCY TEACUP AND SAUCER', 'PINK REGENCY TEACUP AND SAUCER'}), support=0.024823651852137377, ordered_statistics=[OrderedStatistic(items_base=frozenset({'PINK REGENCY TEACUP AND SAUCER'}), items_add=frozenset({'GREEN REGENCY TEACUP AND SAUCER'}), confidence=0.8039950062421972, lift=19.733247348099642)]),\n",
       " RelationRecord(items=frozenset({'REGENCY TEA PLATE GREEN ', 'REGENCY TEA PLATE PINK'}), support=0.010869984196122269, ordered_statistics=[OrderedStatistic(items_base=frozenset({'REGENCY TEA PLATE PINK'}), items_add=frozenset({'REGENCY TEA PLATE GREEN '}), confidence=0.8980891719745224, lift=60.36043364905449)]),\n",
       " RelationRecord(items=frozenset({'REGENCY TEA PLATE GREEN ', 'REGENCY TEA PLATE ROSES '}), support=0.012411825926068688, ordered_statistics=[OrderedStatistic(items_base=frozenset({'REGENCY TEA PLATE GREEN '}), items_add=frozenset({'REGENCY TEA PLATE ROSES '}), confidence=0.8341968911917098, lift=47.355732928198094)]),\n",
       " RelationRecord(items=frozenset({'REGENCY TEA PLATE ROSES ', 'REGENCY TEA PLATE PINK'}), support=0.010484523763635662, ordered_statistics=[OrderedStatistic(items_base=frozenset({'REGENCY TEA PLATE PINK'}), items_add=frozenset({'REGENCY TEA PLATE ROSES '}), confidence=0.8662420382165605, lift=49.17487351740095)]),\n",
       " RelationRecord(items=frozenset({'SET/6 RED SPOTTY PAPER PLATES', 'SET/6 RED SPOTTY PAPER CUPS'}), support=0.013491115137031183, ordered_statistics=[OrderedStatistic(items_base=frozenset({'SET/6 RED SPOTTY PAPER CUPS'}), items_add=frozenset({'SET/6 RED SPOTTY PAPER PLATES'}), confidence=0.8177570093457943, lift=40.180056995185495)]),\n",
       " RelationRecord(items=frozenset({'WOODEN STAR CHRISTMAS SCANDINAVIAN', 'WOODEN TREE CHRISTMAS SCANDINAVIAN'}), support=0.010869984196122269, ordered_statistics=[OrderedStatistic(items_base=frozenset({'WOODEN TREE CHRISTMAS SCANDINAVIAN'}), items_add=frozenset({'WOODEN STAR CHRISTMAS SCANDINAVIAN'}), confidence=0.8318584070796461, lift=41.90466534925681)]),\n",
       " RelationRecord(items=frozenset({'STRAWBERRY CHARLOTTE BAG', 'CHARLOTTE BAG PINK POLKADOT', 'RED RETROSPOT CHARLOTTE BAG'}), support=0.012566010099063331, ordered_statistics=[OrderedStatistic(items_base=frozenset({'STRAWBERRY CHARLOTTE BAG', 'CHARLOTTE BAG PINK POLKADOT'}), items_add=frozenset({'RED RETROSPOT CHARLOTTE BAG'}), confidence=0.8578947368421053, lift=21.19653634085213)]),\n",
       " RelationRecord(items=frozenset({'CHARLOTTE BAG PINK POLKADOT', 'RED RETROSPOT CHARLOTTE BAG', 'WOODLAND CHARLOTTE BAG'}), support=0.01248891801256601, ordered_statistics=[OrderedStatistic(items_base=frozenset({'CHARLOTTE BAG PINK POLKADOT', 'WOODLAND CHARLOTTE BAG'}), items_add=frozenset({'RED RETROSPOT CHARLOTTE BAG'}), confidence=0.8202531645569621, lift=20.266502712477397)]),\n",
       " RelationRecord(items=frozenset({'STRAWBERRY CHARLOTTE BAG', 'RED RETROSPOT CHARLOTTE BAG', 'CHARLOTTE BAG SUKI DESIGN'}), support=0.012874378445052615, ordered_statistics=[OrderedStatistic(items_base=frozenset({'STRAWBERRY CHARLOTTE BAG', 'CHARLOTTE BAG SUKI DESIGN'}), items_add=frozenset({'RED RETROSPOT CHARLOTTE BAG'}), confidence=0.8028846153846154, lift=19.83736721611722)]),\n",
       " RelationRecord(items=frozenset({'DOTCOM POSTAGE', 'JUMBO BAG RED RETROSPOT', 'JUMBO BAG PINK POLKADOT'}), support=0.010677253979878966, ordered_statistics=[OrderedStatistic(items_base=frozenset({'DOTCOM POSTAGE', 'JUMBO BAG PINK POLKADOT'}), items_add=frozenset({'JUMBO BAG RED RETROSPOT'}), confidence=0.8028985507246377, lift=9.75625156976547)]),\n",
       " RelationRecord(items=frozenset({'GREEN REGENCY TEACUP AND SAUCER', 'PINK REGENCY TEACUP AND SAUCER', 'REGENCY CAKESTAND 3 TIER'}), support=0.013336930964036542, ordered_statistics=[OrderedStatistic(items_base=frozenset({'PINK REGENCY TEACUP AND SAUCER', 'REGENCY CAKESTAND 3 TIER'}), items_add=frozenset({'GREEN REGENCY TEACUP AND SAUCER'}), confidence=0.8606965174129353, lift=21.124928809123727)]),\n",
       " RelationRecord(items=frozenset({'GREEN REGENCY TEACUP AND SAUCER', 'ROSES REGENCY TEACUP AND SAUCER ', 'PINK REGENCY TEACUP AND SAUCER'}), support=0.021161777743514628, ordered_statistics=[OrderedStatistic(items_base=frozenset({'GREEN REGENCY TEACUP AND SAUCER', 'PINK REGENCY TEACUP AND SAUCER'}), items_add=frozenset({'ROSES REGENCY TEACUP AND SAUCER '}), confidence=0.8524844720496895, lift=19.746432730700977), OrderedStatistic(items_base=frozenset({'ROSES REGENCY TEACUP AND SAUCER ', 'PINK REGENCY TEACUP AND SAUCER'}), items_add=frozenset({'GREEN REGENCY TEACUP AND SAUCER'}), confidence=0.8941368078175896, lift=21.945687043719705)]),\n",
       " RelationRecord(items=frozenset({'JUMBO BAG SCANDINAVIAN BLUE PAISLEY', 'JUMBO BAG RED RETROSPOT', 'JUMBO BAG PINK POLKADOT'}), support=0.010368885633889682, ordered_statistics=[OrderedStatistic(items_base=frozenset({'JUMBO BAG SCANDINAVIAN BLUE PAISLEY', 'JUMBO BAG PINK POLKADOT'}), items_add=frozenset({'JUMBO BAG RED RETROSPOT'}), confidence=0.8406250000000001, lift=10.214676522248245)]),\n",
       " RelationRecord(items=frozenset({'JUMBO BAG RED RETROSPOT', 'JUMBO BAG PINK POLKADOT', 'JUMBO BAG STRAWBERRY'}), support=0.010792892109624946, ordered_statistics=[OrderedStatistic(items_base=frozenset({'JUMBO BAG PINK POLKADOT', 'JUMBO BAG STRAWBERRY'}), items_add=frozenset({'JUMBO BAG RED RETROSPOT'}), confidence=0.8022922636103151, lift=9.74888440039457)]),\n",
       " RelationRecord(items=frozenset({'JUMBO BAG RED RETROSPOT', 'JUMBO SHOPPER VINTAGE RED PAISLEY', 'JUMBO BAG PINK POLKADOT'}), support=0.014647496434491, ordered_statistics=[OrderedStatistic(items_base=frozenset({'JUMBO SHOPPER VINTAGE RED PAISLEY', 'JUMBO BAG PINK POLKADOT'}), items_add=frozenset({'JUMBO BAG RED RETROSPOT'}), confidence=0.8050847457627119, lift=9.782816655420158)]),\n",
       " RelationRecord(items=frozenset({'JUMBO BAG RED RETROSPOT', 'JUMBO BAG PINK POLKADOT', 'JUMBO STORAGE BAG SUKI'}), support=0.015958061904945458, ordered_statistics=[OrderedStatistic(items_base=frozenset({'JUMBO BAG PINK POLKADOT', 'JUMBO STORAGE BAG SUKI'}), items_add=frozenset({'JUMBO BAG RED RETROSPOT'}), confidence=0.8007736943907157, lift=9.730431828373929)]),\n",
       " RelationRecord(items=frozenset({'ROSES REGENCY TEACUP AND SAUCER ', 'PINK REGENCY TEACUP AND SAUCER', 'REGENCY CAKESTAND 3 TIER'}), support=0.012990016574798598, ordered_statistics=[OrderedStatistic(items_base=frozenset({'PINK REGENCY TEACUP AND SAUCER', 'REGENCY CAKESTAND 3 TIER'}), items_add=frozenset({'ROSES REGENCY TEACUP AND SAUCER '}), confidence=0.8383084577114428, lift=19.41806814143568)]),\n",
       " RelationRecord(items=frozenset({'STRAWBERRY CHARLOTTE BAG', 'RED RETROSPOT CHARLOTTE BAG', 'WOODLAND CHARLOTTE BAG'}), support=0.012643102185560652, ordered_statistics=[OrderedStatistic(items_base=frozenset({'STRAWBERRY CHARLOTTE BAG', 'WOODLAND CHARLOTTE BAG'}), items_add=frozenset({'RED RETROSPOT CHARLOTTE BAG'}), confidence=0.803921568627451, lift=19.862987861811394)]),\n",
       " RelationRecord(items=frozenset({'SET/20 RED RETROSPOT PAPER NAPKINS ', 'SET/6 RED SPOTTY PAPER PLATES', 'SET/6 RED SPOTTY PAPER CUPS'}), support=0.010214701460895039, ordered_statistics=[OrderedStatistic(items_base=frozenset({'SET/20 RED RETROSPOT PAPER NAPKINS ', 'SET/6 RED SPOTTY PAPER CUPS'}), items_add=frozenset({'SET/6 RED SPOTTY PAPER PLATES'}), confidence=0.8952702702702702, lift=43.98862996519246)]),\n",
       " RelationRecord(items=frozenset({'GREEN REGENCY TEACUP AND SAUCER', 'ROSES REGENCY TEACUP AND SAUCER ', 'PINK REGENCY TEACUP AND SAUCER', 'REGENCY CAKESTAND 3 TIER'}), support=0.01167945110434414, ordered_statistics=[OrderedStatistic(items_base=frozenset({'GREEN REGENCY TEACUP AND SAUCER', 'PINK REGENCY TEACUP AND SAUCER', 'REGENCY CAKESTAND 3 TIER'}), items_add=frozenset({'ROSES REGENCY TEACUP AND SAUCER '}), confidence=0.8757225433526011, lift=20.28470530553262), OrderedStatistic(items_base=frozenset({'ROSES REGENCY TEACUP AND SAUCER ', 'PINK REGENCY TEACUP AND SAUCER', 'REGENCY CAKESTAND 3 TIER'}), items_add=frozenset({'GREEN REGENCY TEACUP AND SAUCER'}), confidence=0.8991097922848664, lift=22.067743936846064)]),\n",
       " RelationRecord(items=frozenset({'JUMBO BAG RED RETROSPOT', 'JUMBO SHOPPER VINTAGE RED PAISLEY', 'JUMBO BAG PINK POLKADOT', 'JUMBO STORAGE BAG SUKI'}), support=0.010368885633889682, ordered_statistics=[OrderedStatistic(items_base=frozenset({'JUMBO SHOPPER VINTAGE RED PAISLEY', 'JUMBO BAG PINK POLKADOT', 'JUMBO STORAGE BAG SUKI'}), items_add=frozenset({'JUMBO BAG RED RETROSPOT'}), confidence=0.8677419354838709, lift=10.544182216514315)])]"
      ]
     },
     "execution_count": 15,
     "metadata": {},
     "output_type": "execute_result"
    }
   ],
   "source": [
    "from apyori import apriori\n",
    "rules = apriori( transactions , min_support = 0.01, min_confidence = 0.8, max_length = 10)\n",
    "results = list(rules)\n",
    "results"
   ]
  },
  {
   "cell_type": "code",
   "execution_count": 16,
   "metadata": {},
   "outputs": [
    {
     "name": "stdout",
     "output_type": "stream",
     "text": [
      "There are 21 RULES derived.\n"
     ]
    }
   ],
   "source": [
    "print(\"There are {} RULES derived.\".format(len(results)))"
   ]
  },
  {
   "cell_type": "markdown",
   "metadata": {},
   "source": [
    "## Print only top 10 rules in following format"
   ]
  },
  {
   "cell_type": "code",
   "execution_count": 19,
   "metadata": {},
   "outputs": [
    {
     "name": "stdout",
     "output_type": "stream",
     "text": [
      "============== 1 =================\n",
      "GREEN REGENCY TEACUP AND SAUCER->PINK REGENCY TEACUP AND SAUCER\n",
      "Support: 0.024823651852137377\n",
      "Confidence: 0.8039950062421972\n",
      "Lift: 19.733247348099642\n",
      "============== 2 =================\n",
      "REGENCY TEA PLATE GREEN ->REGENCY TEA PLATE PINK\n",
      "Support: 0.010869984196122269\n",
      "Confidence: 0.8980891719745224\n",
      "Lift: 60.36043364905449\n",
      "============== 3 =================\n",
      "REGENCY TEA PLATE GREEN ->REGENCY TEA PLATE ROSES \n",
      "Support: 0.012411825926068688\n",
      "Confidence: 0.8341968911917098\n",
      "Lift: 47.355732928198094\n",
      "============== 4 =================\n",
      "REGENCY TEA PLATE ROSES ->REGENCY TEA PLATE PINK\n",
      "Support: 0.010484523763635662\n",
      "Confidence: 0.8662420382165605\n",
      "Lift: 49.17487351740095\n",
      "============== 5 =================\n",
      "SET/6 RED SPOTTY PAPER PLATES->SET/6 RED SPOTTY PAPER CUPS\n",
      "Support: 0.013491115137031183\n",
      "Confidence: 0.8177570093457943\n",
      "Lift: 40.180056995185495\n",
      "============== 6 =================\n",
      "WOODEN STAR CHRISTMAS SCANDINAVIAN->WOODEN TREE CHRISTMAS SCANDINAVIAN\n",
      "Support: 0.010869984196122269\n",
      "Confidence: 0.8318584070796461\n",
      "Lift: 41.90466534925681\n",
      "============== 7 =================\n",
      "STRAWBERRY CHARLOTTE BAG->CHARLOTTE BAG PINK POLKADOT\n",
      "Support: 0.012566010099063331\n",
      "Confidence: 0.8578947368421053\n",
      "Lift: 21.19653634085213\n",
      "============== 8 =================\n",
      "CHARLOTTE BAG PINK POLKADOT->RED RETROSPOT CHARLOTTE BAG\n",
      "Support: 0.01248891801256601\n",
      "Confidence: 0.8202531645569621\n",
      "Lift: 20.266502712477397\n",
      "============== 9 =================\n",
      "STRAWBERRY CHARLOTTE BAG->RED RETROSPOT CHARLOTTE BAG\n",
      "Support: 0.012874378445052615\n",
      "Confidence: 0.8028846153846154\n",
      "Lift: 19.83736721611722\n",
      "============== 10 =================\n",
      "DOTCOM POSTAGE->JUMBO BAG RED RETROSPOT\n",
      "Support: 0.010677253979878966\n",
      "Confidence: 0.8028985507246377\n",
      "Lift: 9.75625156976547\n"
     ]
    }
   ],
   "source": [
    "for i in  range(10):\n",
    "  item = results[i] \n",
    "  pair=item[0]\n",
    "  print(\"==============\",i+1,\"=================\")\n",
    "  #print(pair)\n",
    "  items=[x for x in pair]\n",
    "  #print (items)\n",
    "  print(items[0]+'->'+items[1])\n",
    "  # second index of the inner list\n",
    "  print(\"Support: \" + str(item[1]))\n",
    "  # third index of the list located at 0th\n",
    "  # of the third index of the inner list\n",
    "\n",
    "  print(\"Confidence: \" + str(item[2][0][2]))\n",
    "  print(\"Lift: \" + str(item[2][0][3]))"
   ]
  },
  {
   "cell_type": "markdown",
   "metadata": {},
   "source": [
    "## Get all rules with 100% confidence"
   ]
  },
  {
   "cell_type": "code",
   "execution_count": 21,
   "metadata": {},
   "outputs": [
    {
     "name": "stdout",
     "output_type": "stream",
     "text": [
      "There are 0 RULES derived.\n"
     ]
    }
   ],
   "source": [
    "rules = apriori( transactions ,  min_confidence = 1)\n",
    "results = list(rules)\n",
    "print(\"There are {} RULES derived.\".format(len(results)))"
   ]
  },
  {
   "cell_type": "markdown",
   "metadata": {},
   "source": [
    "## Get rules with max length of 3"
   ]
  },
  {
   "cell_type": "code",
   "execution_count": 22,
   "metadata": {},
   "outputs": [
    {
     "name": "stdout",
     "output_type": "stream",
     "text": [
      "There are 0 RULES derived.\n"
     ]
    }
   ],
   "source": [
    "rules = apriori( transactions , max_length = 3)\n",
    "results = list(rules)\n",
    "print(\"There are {} RULES derived.\".format(len(results)))"
   ]
  },
  {
   "cell_type": "code",
   "execution_count": 23,
   "metadata": {},
   "outputs": [],
   "source": [
    "def inspect(results):\n",
    "    lhs = [tuple(result[2][0][0])[0] for result in results]\n",
    "    rhs = [tuple(result[2][0][1])[0] for result in results]\n",
    "    supports = [result[1] for result in results]\n",
    "    confidences = [result[2][0][2] for result in results]\n",
    "    lifts = [result[2][0][3] for result in results]\n",
    "    return list(zip(lhs, rhs, supports, confidences, lifts))"
   ]
  },
  {
   "cell_type": "code",
   "execution_count": 24,
   "metadata": {},
   "outputs": [
    {
     "data": {
      "text/plain": [
       "[RelationRecord(items=frozenset({'GREEN REGENCY TEACUP AND SAUCER', 'PINK REGENCY TEACUP AND SAUCER'}), support=0.024823651852137377, ordered_statistics=[OrderedStatistic(items_base=frozenset({'PINK REGENCY TEACUP AND SAUCER'}), items_add=frozenset({'GREEN REGENCY TEACUP AND SAUCER'}), confidence=0.8039950062421972, lift=19.733247348099642)]),\n",
       " RelationRecord(items=frozenset({'REGENCY TEA PLATE GREEN ', 'REGENCY TEA PLATE PINK'}), support=0.010869984196122269, ordered_statistics=[OrderedStatistic(items_base=frozenset({'REGENCY TEA PLATE PINK'}), items_add=frozenset({'REGENCY TEA PLATE GREEN '}), confidence=0.8980891719745224, lift=60.36043364905449)]),\n",
       " RelationRecord(items=frozenset({'REGENCY TEA PLATE GREEN ', 'REGENCY TEA PLATE ROSES '}), support=0.012411825926068688, ordered_statistics=[OrderedStatistic(items_base=frozenset({'REGENCY TEA PLATE GREEN '}), items_add=frozenset({'REGENCY TEA PLATE ROSES '}), confidence=0.8341968911917098, lift=47.355732928198094)]),\n",
       " RelationRecord(items=frozenset({'REGENCY TEA PLATE ROSES ', 'REGENCY TEA PLATE PINK'}), support=0.010484523763635662, ordered_statistics=[OrderedStatistic(items_base=frozenset({'REGENCY TEA PLATE PINK'}), items_add=frozenset({'REGENCY TEA PLATE ROSES '}), confidence=0.8662420382165605, lift=49.17487351740095)]),\n",
       " RelationRecord(items=frozenset({'SET/6 RED SPOTTY PAPER PLATES', 'SET/6 RED SPOTTY PAPER CUPS'}), support=0.013491115137031183, ordered_statistics=[OrderedStatistic(items_base=frozenset({'SET/6 RED SPOTTY PAPER CUPS'}), items_add=frozenset({'SET/6 RED SPOTTY PAPER PLATES'}), confidence=0.8177570093457943, lift=40.180056995185495)]),\n",
       " RelationRecord(items=frozenset({'WOODEN STAR CHRISTMAS SCANDINAVIAN', 'WOODEN TREE CHRISTMAS SCANDINAVIAN'}), support=0.010869984196122269, ordered_statistics=[OrderedStatistic(items_base=frozenset({'WOODEN TREE CHRISTMAS SCANDINAVIAN'}), items_add=frozenset({'WOODEN STAR CHRISTMAS SCANDINAVIAN'}), confidence=0.8318584070796461, lift=41.90466534925681)]),\n",
       " RelationRecord(items=frozenset({'STRAWBERRY CHARLOTTE BAG', 'CHARLOTTE BAG PINK POLKADOT', 'RED RETROSPOT CHARLOTTE BAG'}), support=0.012566010099063331, ordered_statistics=[OrderedStatistic(items_base=frozenset({'STRAWBERRY CHARLOTTE BAG', 'CHARLOTTE BAG PINK POLKADOT'}), items_add=frozenset({'RED RETROSPOT CHARLOTTE BAG'}), confidence=0.8578947368421053, lift=21.19653634085213)]),\n",
       " RelationRecord(items=frozenset({'CHARLOTTE BAG PINK POLKADOT', 'RED RETROSPOT CHARLOTTE BAG', 'WOODLAND CHARLOTTE BAG'}), support=0.01248891801256601, ordered_statistics=[OrderedStatistic(items_base=frozenset({'CHARLOTTE BAG PINK POLKADOT', 'WOODLAND CHARLOTTE BAG'}), items_add=frozenset({'RED RETROSPOT CHARLOTTE BAG'}), confidence=0.8202531645569621, lift=20.266502712477397)]),\n",
       " RelationRecord(items=frozenset({'STRAWBERRY CHARLOTTE BAG', 'RED RETROSPOT CHARLOTTE BAG', 'CHARLOTTE BAG SUKI DESIGN'}), support=0.012874378445052615, ordered_statistics=[OrderedStatistic(items_base=frozenset({'STRAWBERRY CHARLOTTE BAG', 'CHARLOTTE BAG SUKI DESIGN'}), items_add=frozenset({'RED RETROSPOT CHARLOTTE BAG'}), confidence=0.8028846153846154, lift=19.83736721611722)]),\n",
       " RelationRecord(items=frozenset({'DOTCOM POSTAGE', 'JUMBO BAG RED RETROSPOT', 'JUMBO BAG PINK POLKADOT'}), support=0.010677253979878966, ordered_statistics=[OrderedStatistic(items_base=frozenset({'DOTCOM POSTAGE', 'JUMBO BAG PINK POLKADOT'}), items_add=frozenset({'JUMBO BAG RED RETROSPOT'}), confidence=0.8028985507246377, lift=9.75625156976547)]),\n",
       " RelationRecord(items=frozenset({'GREEN REGENCY TEACUP AND SAUCER', 'PINK REGENCY TEACUP AND SAUCER', 'REGENCY CAKESTAND 3 TIER'}), support=0.013336930964036542, ordered_statistics=[OrderedStatistic(items_base=frozenset({'PINK REGENCY TEACUP AND SAUCER', 'REGENCY CAKESTAND 3 TIER'}), items_add=frozenset({'GREEN REGENCY TEACUP AND SAUCER'}), confidence=0.8606965174129353, lift=21.124928809123727)]),\n",
       " RelationRecord(items=frozenset({'GREEN REGENCY TEACUP AND SAUCER', 'ROSES REGENCY TEACUP AND SAUCER ', 'PINK REGENCY TEACUP AND SAUCER'}), support=0.021161777743514628, ordered_statistics=[OrderedStatistic(items_base=frozenset({'GREEN REGENCY TEACUP AND SAUCER', 'PINK REGENCY TEACUP AND SAUCER'}), items_add=frozenset({'ROSES REGENCY TEACUP AND SAUCER '}), confidence=0.8524844720496895, lift=19.746432730700977), OrderedStatistic(items_base=frozenset({'ROSES REGENCY TEACUP AND SAUCER ', 'PINK REGENCY TEACUP AND SAUCER'}), items_add=frozenset({'GREEN REGENCY TEACUP AND SAUCER'}), confidence=0.8941368078175896, lift=21.945687043719705)]),\n",
       " RelationRecord(items=frozenset({'JUMBO BAG SCANDINAVIAN BLUE PAISLEY', 'JUMBO BAG RED RETROSPOT', 'JUMBO BAG PINK POLKADOT'}), support=0.010368885633889682, ordered_statistics=[OrderedStatistic(items_base=frozenset({'JUMBO BAG SCANDINAVIAN BLUE PAISLEY', 'JUMBO BAG PINK POLKADOT'}), items_add=frozenset({'JUMBO BAG RED RETROSPOT'}), confidence=0.8406250000000001, lift=10.214676522248245)]),\n",
       " RelationRecord(items=frozenset({'JUMBO BAG RED RETROSPOT', 'JUMBO BAG PINK POLKADOT', 'JUMBO BAG STRAWBERRY'}), support=0.010792892109624946, ordered_statistics=[OrderedStatistic(items_base=frozenset({'JUMBO BAG PINK POLKADOT', 'JUMBO BAG STRAWBERRY'}), items_add=frozenset({'JUMBO BAG RED RETROSPOT'}), confidence=0.8022922636103151, lift=9.74888440039457)]),\n",
       " RelationRecord(items=frozenset({'JUMBO BAG RED RETROSPOT', 'JUMBO SHOPPER VINTAGE RED PAISLEY', 'JUMBO BAG PINK POLKADOT'}), support=0.014647496434491, ordered_statistics=[OrderedStatistic(items_base=frozenset({'JUMBO SHOPPER VINTAGE RED PAISLEY', 'JUMBO BAG PINK POLKADOT'}), items_add=frozenset({'JUMBO BAG RED RETROSPOT'}), confidence=0.8050847457627119, lift=9.782816655420158)]),\n",
       " RelationRecord(items=frozenset({'JUMBO BAG RED RETROSPOT', 'JUMBO BAG PINK POLKADOT', 'JUMBO STORAGE BAG SUKI'}), support=0.015958061904945458, ordered_statistics=[OrderedStatistic(items_base=frozenset({'JUMBO BAG PINK POLKADOT', 'JUMBO STORAGE BAG SUKI'}), items_add=frozenset({'JUMBO BAG RED RETROSPOT'}), confidence=0.8007736943907157, lift=9.730431828373929)]),\n",
       " RelationRecord(items=frozenset({'ROSES REGENCY TEACUP AND SAUCER ', 'PINK REGENCY TEACUP AND SAUCER', 'REGENCY CAKESTAND 3 TIER'}), support=0.012990016574798598, ordered_statistics=[OrderedStatistic(items_base=frozenset({'PINK REGENCY TEACUP AND SAUCER', 'REGENCY CAKESTAND 3 TIER'}), items_add=frozenset({'ROSES REGENCY TEACUP AND SAUCER '}), confidence=0.8383084577114428, lift=19.41806814143568)]),\n",
       " RelationRecord(items=frozenset({'STRAWBERRY CHARLOTTE BAG', 'RED RETROSPOT CHARLOTTE BAG', 'WOODLAND CHARLOTTE BAG'}), support=0.012643102185560652, ordered_statistics=[OrderedStatistic(items_base=frozenset({'STRAWBERRY CHARLOTTE BAG', 'WOODLAND CHARLOTTE BAG'}), items_add=frozenset({'RED RETROSPOT CHARLOTTE BAG'}), confidence=0.803921568627451, lift=19.862987861811394)]),\n",
       " RelationRecord(items=frozenset({'SET/20 RED RETROSPOT PAPER NAPKINS ', 'SET/6 RED SPOTTY PAPER PLATES', 'SET/6 RED SPOTTY PAPER CUPS'}), support=0.010214701460895039, ordered_statistics=[OrderedStatistic(items_base=frozenset({'SET/20 RED RETROSPOT PAPER NAPKINS ', 'SET/6 RED SPOTTY PAPER CUPS'}), items_add=frozenset({'SET/6 RED SPOTTY PAPER PLATES'}), confidence=0.8952702702702702, lift=43.98862996519246)]),\n",
       " RelationRecord(items=frozenset({'GREEN REGENCY TEACUP AND SAUCER', 'ROSES REGENCY TEACUP AND SAUCER ', 'PINK REGENCY TEACUP AND SAUCER', 'REGENCY CAKESTAND 3 TIER'}), support=0.01167945110434414, ordered_statistics=[OrderedStatistic(items_base=frozenset({'GREEN REGENCY TEACUP AND SAUCER', 'PINK REGENCY TEACUP AND SAUCER', 'REGENCY CAKESTAND 3 TIER'}), items_add=frozenset({'ROSES REGENCY TEACUP AND SAUCER '}), confidence=0.8757225433526011, lift=20.28470530553262), OrderedStatistic(items_base=frozenset({'ROSES REGENCY TEACUP AND SAUCER ', 'PINK REGENCY TEACUP AND SAUCER', 'REGENCY CAKESTAND 3 TIER'}), items_add=frozenset({'GREEN REGENCY TEACUP AND SAUCER'}), confidence=0.8991097922848664, lift=22.067743936846064)]),\n",
       " RelationRecord(items=frozenset({'JUMBO BAG RED RETROSPOT', 'JUMBO SHOPPER VINTAGE RED PAISLEY', 'JUMBO BAG PINK POLKADOT', 'JUMBO STORAGE BAG SUKI'}), support=0.010368885633889682, ordered_statistics=[OrderedStatistic(items_base=frozenset({'JUMBO SHOPPER VINTAGE RED PAISLEY', 'JUMBO BAG PINK POLKADOT', 'JUMBO STORAGE BAG SUKI'}), items_add=frozenset({'JUMBO BAG RED RETROSPOT'}), confidence=0.8677419354838709, lift=10.544182216514315)])]"
      ]
     },
     "execution_count": 24,
     "metadata": {},
     "output_type": "execute_result"
    }
   ],
   "source": [
    "from apyori import apriori\n",
    "rules = apriori( transactions , min_support = 0.01, min_confidence = 0.8, max_length = 10)\n",
    "results = list(rules)\n",
    "results"
   ]
  },
  {
   "cell_type": "markdown",
   "metadata": {},
   "source": [
    "## Find what customers buy before buying 'METAL'"
   ]
  },
  {
   "cell_type": "code",
   "execution_count": 25,
   "metadata": {},
   "outputs": [
    {
     "data": {
      "text/html": [
       "<div>\n",
       "<style scoped>\n",
       "    .dataframe tbody tr th:only-of-type {\n",
       "        vertical-align: middle;\n",
       "    }\n",
       "\n",
       "    .dataframe tbody tr th {\n",
       "        vertical-align: top;\n",
       "    }\n",
       "\n",
       "    .dataframe thead th {\n",
       "        text-align: right;\n",
       "    }\n",
       "</style>\n",
       "<table border=\"1\" class=\"dataframe\">\n",
       "  <thead>\n",
       "    <tr style=\"text-align: right;\">\n",
       "      <th></th>\n",
       "      <th>Left Hand Side</th>\n",
       "      <th>Right Hand Side</th>\n",
       "      <th>Support</th>\n",
       "      <th>Confidence</th>\n",
       "      <th>Lift</th>\n",
       "    </tr>\n",
       "  </thead>\n",
       "  <tbody>\n",
       "  </tbody>\n",
       "</table>\n",
       "</div>"
      ],
      "text/plain": [
       "Empty DataFrame\n",
       "Columns: [Left Hand Side, Right Hand Side, Support, Confidence, Lift]\n",
       "Index: []"
      ]
     },
     "execution_count": 25,
     "metadata": {},
     "output_type": "execute_result"
    }
   ],
   "source": [
    "resultsinDataFrame = pd.DataFrame(inspect(results), columns =['Left Hand Side', 'Right Hand Side', 'Support', 'Confidence','Lift'])\n",
    "\"\"\"## Displaying the results non sorted\"\"\"\n",
    "resultsinDataFrame[resultsinDataFrame['Left Hand Side']=='METAL']"
   ]
  },
  {
   "cell_type": "markdown",
   "metadata": {},
   "source": [
    "## Find the answer to the question Customers who bought METAL also bought"
   ]
  },
  {
   "cell_type": "code",
   "execution_count": 26,
   "metadata": {},
   "outputs": [
    {
     "data": {
      "text/html": [
       "<div>\n",
       "<style scoped>\n",
       "    .dataframe tbody tr th:only-of-type {\n",
       "        vertical-align: middle;\n",
       "    }\n",
       "\n",
       "    .dataframe tbody tr th {\n",
       "        vertical-align: top;\n",
       "    }\n",
       "\n",
       "    .dataframe thead th {\n",
       "        text-align: right;\n",
       "    }\n",
       "</style>\n",
       "<table border=\"1\" class=\"dataframe\">\n",
       "  <thead>\n",
       "    <tr style=\"text-align: right;\">\n",
       "      <th></th>\n",
       "      <th>Left Hand Side</th>\n",
       "      <th>Right Hand Side</th>\n",
       "      <th>Support</th>\n",
       "      <th>Confidence</th>\n",
       "      <th>Lift</th>\n",
       "    </tr>\n",
       "  </thead>\n",
       "  <tbody>\n",
       "  </tbody>\n",
       "</table>\n",
       "</div>"
      ],
      "text/plain": [
       "Empty DataFrame\n",
       "Columns: [Left Hand Side, Right Hand Side, Support, Confidence, Lift]\n",
       "Index: []"
      ]
     },
     "execution_count": 26,
     "metadata": {},
     "output_type": "execute_result"
    }
   ],
   "source": [
    "resultsinDataFrame[resultsinDataFrame['Right Hand Side'].str.contains('METAL')]"
   ]
  },
  {
   "cell_type": "code",
   "execution_count": 27,
   "metadata": {},
   "outputs": [
    {
     "data": {
      "text/html": [
       "<div>\n",
       "<style scoped>\n",
       "    .dataframe tbody tr th:only-of-type {\n",
       "        vertical-align: middle;\n",
       "    }\n",
       "\n",
       "    .dataframe tbody tr th {\n",
       "        vertical-align: top;\n",
       "    }\n",
       "\n",
       "    .dataframe thead th {\n",
       "        text-align: right;\n",
       "    }\n",
       "</style>\n",
       "<table border=\"1\" class=\"dataframe\">\n",
       "  <thead>\n",
       "    <tr style=\"text-align: right;\">\n",
       "      <th></th>\n",
       "      <th>Left Hand Side</th>\n",
       "      <th>Right Hand Side</th>\n",
       "      <th>Support</th>\n",
       "      <th>Confidence</th>\n",
       "      <th>Lift</th>\n",
       "    </tr>\n",
       "  </thead>\n",
       "  <tbody>\n",
       "    <tr>\n",
       "      <th>0</th>\n",
       "      <td>PINK REGENCY TEACUP AND SAUCER</td>\n",
       "      <td>GREEN REGENCY TEACUP AND SAUCER</td>\n",
       "      <td>0.024824</td>\n",
       "      <td>0.803995</td>\n",
       "      <td>19.733247</td>\n",
       "    </tr>\n",
       "    <tr>\n",
       "      <th>1</th>\n",
       "      <td>REGENCY TEA PLATE PINK</td>\n",
       "      <td>REGENCY TEA PLATE GREEN</td>\n",
       "      <td>0.010870</td>\n",
       "      <td>0.898089</td>\n",
       "      <td>60.360434</td>\n",
       "    </tr>\n",
       "    <tr>\n",
       "      <th>2</th>\n",
       "      <td>REGENCY TEA PLATE GREEN</td>\n",
       "      <td>REGENCY TEA PLATE ROSES</td>\n",
       "      <td>0.012412</td>\n",
       "      <td>0.834197</td>\n",
       "      <td>47.355733</td>\n",
       "    </tr>\n",
       "    <tr>\n",
       "      <th>3</th>\n",
       "      <td>REGENCY TEA PLATE PINK</td>\n",
       "      <td>REGENCY TEA PLATE ROSES</td>\n",
       "      <td>0.010485</td>\n",
       "      <td>0.866242</td>\n",
       "      <td>49.174874</td>\n",
       "    </tr>\n",
       "    <tr>\n",
       "      <th>4</th>\n",
       "      <td>SET/6 RED SPOTTY PAPER CUPS</td>\n",
       "      <td>SET/6 RED SPOTTY PAPER PLATES</td>\n",
       "      <td>0.013491</td>\n",
       "      <td>0.817757</td>\n",
       "      <td>40.180057</td>\n",
       "    </tr>\n",
       "    <tr>\n",
       "      <th>5</th>\n",
       "      <td>WOODEN TREE CHRISTMAS SCANDINAVIAN</td>\n",
       "      <td>WOODEN STAR CHRISTMAS SCANDINAVIAN</td>\n",
       "      <td>0.010870</td>\n",
       "      <td>0.831858</td>\n",
       "      <td>41.904665</td>\n",
       "    </tr>\n",
       "    <tr>\n",
       "      <th>6</th>\n",
       "      <td>STRAWBERRY CHARLOTTE BAG</td>\n",
       "      <td>RED RETROSPOT CHARLOTTE BAG</td>\n",
       "      <td>0.012566</td>\n",
       "      <td>0.857895</td>\n",
       "      <td>21.196536</td>\n",
       "    </tr>\n",
       "    <tr>\n",
       "      <th>7</th>\n",
       "      <td>CHARLOTTE BAG PINK POLKADOT</td>\n",
       "      <td>RED RETROSPOT CHARLOTTE BAG</td>\n",
       "      <td>0.012489</td>\n",
       "      <td>0.820253</td>\n",
       "      <td>20.266503</td>\n",
       "    </tr>\n",
       "    <tr>\n",
       "      <th>8</th>\n",
       "      <td>STRAWBERRY CHARLOTTE BAG</td>\n",
       "      <td>RED RETROSPOT CHARLOTTE BAG</td>\n",
       "      <td>0.012874</td>\n",
       "      <td>0.802885</td>\n",
       "      <td>19.837367</td>\n",
       "    </tr>\n",
       "    <tr>\n",
       "      <th>9</th>\n",
       "      <td>DOTCOM POSTAGE</td>\n",
       "      <td>JUMBO BAG RED RETROSPOT</td>\n",
       "      <td>0.010677</td>\n",
       "      <td>0.802899</td>\n",
       "      <td>9.756252</td>\n",
       "    </tr>\n",
       "    <tr>\n",
       "      <th>10</th>\n",
       "      <td>PINK REGENCY TEACUP AND SAUCER</td>\n",
       "      <td>GREEN REGENCY TEACUP AND SAUCER</td>\n",
       "      <td>0.013337</td>\n",
       "      <td>0.860697</td>\n",
       "      <td>21.124929</td>\n",
       "    </tr>\n",
       "    <tr>\n",
       "      <th>11</th>\n",
       "      <td>GREEN REGENCY TEACUP AND SAUCER</td>\n",
       "      <td>ROSES REGENCY TEACUP AND SAUCER</td>\n",
       "      <td>0.021162</td>\n",
       "      <td>0.852484</td>\n",
       "      <td>19.746433</td>\n",
       "    </tr>\n",
       "    <tr>\n",
       "      <th>12</th>\n",
       "      <td>JUMBO BAG SCANDINAVIAN BLUE PAISLEY</td>\n",
       "      <td>JUMBO BAG RED RETROSPOT</td>\n",
       "      <td>0.010369</td>\n",
       "      <td>0.840625</td>\n",
       "      <td>10.214677</td>\n",
       "    </tr>\n",
       "    <tr>\n",
       "      <th>13</th>\n",
       "      <td>JUMBO BAG PINK POLKADOT</td>\n",
       "      <td>JUMBO BAG RED RETROSPOT</td>\n",
       "      <td>0.010793</td>\n",
       "      <td>0.802292</td>\n",
       "      <td>9.748884</td>\n",
       "    </tr>\n",
       "    <tr>\n",
       "      <th>14</th>\n",
       "      <td>JUMBO SHOPPER VINTAGE RED PAISLEY</td>\n",
       "      <td>JUMBO BAG RED RETROSPOT</td>\n",
       "      <td>0.014647</td>\n",
       "      <td>0.805085</td>\n",
       "      <td>9.782817</td>\n",
       "    </tr>\n",
       "    <tr>\n",
       "      <th>15</th>\n",
       "      <td>JUMBO BAG PINK POLKADOT</td>\n",
       "      <td>JUMBO BAG RED RETROSPOT</td>\n",
       "      <td>0.015958</td>\n",
       "      <td>0.800774</td>\n",
       "      <td>9.730432</td>\n",
       "    </tr>\n",
       "    <tr>\n",
       "      <th>16</th>\n",
       "      <td>PINK REGENCY TEACUP AND SAUCER</td>\n",
       "      <td>ROSES REGENCY TEACUP AND SAUCER</td>\n",
       "      <td>0.012990</td>\n",
       "      <td>0.838308</td>\n",
       "      <td>19.418068</td>\n",
       "    </tr>\n",
       "    <tr>\n",
       "      <th>17</th>\n",
       "      <td>STRAWBERRY CHARLOTTE BAG</td>\n",
       "      <td>RED RETROSPOT CHARLOTTE BAG</td>\n",
       "      <td>0.012643</td>\n",
       "      <td>0.803922</td>\n",
       "      <td>19.862988</td>\n",
       "    </tr>\n",
       "    <tr>\n",
       "      <th>18</th>\n",
       "      <td>SET/20 RED RETROSPOT PAPER NAPKINS</td>\n",
       "      <td>SET/6 RED SPOTTY PAPER PLATES</td>\n",
       "      <td>0.010215</td>\n",
       "      <td>0.895270</td>\n",
       "      <td>43.988630</td>\n",
       "    </tr>\n",
       "    <tr>\n",
       "      <th>19</th>\n",
       "      <td>GREEN REGENCY TEACUP AND SAUCER</td>\n",
       "      <td>ROSES REGENCY TEACUP AND SAUCER</td>\n",
       "      <td>0.011679</td>\n",
       "      <td>0.875723</td>\n",
       "      <td>20.284705</td>\n",
       "    </tr>\n",
       "    <tr>\n",
       "      <th>20</th>\n",
       "      <td>JUMBO SHOPPER VINTAGE RED PAISLEY</td>\n",
       "      <td>JUMBO BAG RED RETROSPOT</td>\n",
       "      <td>0.010369</td>\n",
       "      <td>0.867742</td>\n",
       "      <td>10.544182</td>\n",
       "    </tr>\n",
       "  </tbody>\n",
       "</table>\n",
       "</div>"
      ],
      "text/plain": [
       "                         Left Hand Side                     Right Hand Side  \\\n",
       "0        PINK REGENCY TEACUP AND SAUCER     GREEN REGENCY TEACUP AND SAUCER   \n",
       "1                REGENCY TEA PLATE PINK            REGENCY TEA PLATE GREEN    \n",
       "2              REGENCY TEA PLATE GREEN             REGENCY TEA PLATE ROSES    \n",
       "3                REGENCY TEA PLATE PINK            REGENCY TEA PLATE ROSES    \n",
       "4           SET/6 RED SPOTTY PAPER CUPS       SET/6 RED SPOTTY PAPER PLATES   \n",
       "5    WOODEN TREE CHRISTMAS SCANDINAVIAN  WOODEN STAR CHRISTMAS SCANDINAVIAN   \n",
       "6              STRAWBERRY CHARLOTTE BAG         RED RETROSPOT CHARLOTTE BAG   \n",
       "7           CHARLOTTE BAG PINK POLKADOT         RED RETROSPOT CHARLOTTE BAG   \n",
       "8              STRAWBERRY CHARLOTTE BAG         RED RETROSPOT CHARLOTTE BAG   \n",
       "9                        DOTCOM POSTAGE             JUMBO BAG RED RETROSPOT   \n",
       "10       PINK REGENCY TEACUP AND SAUCER     GREEN REGENCY TEACUP AND SAUCER   \n",
       "11      GREEN REGENCY TEACUP AND SAUCER    ROSES REGENCY TEACUP AND SAUCER    \n",
       "12  JUMBO BAG SCANDINAVIAN BLUE PAISLEY             JUMBO BAG RED RETROSPOT   \n",
       "13              JUMBO BAG PINK POLKADOT             JUMBO BAG RED RETROSPOT   \n",
       "14    JUMBO SHOPPER VINTAGE RED PAISLEY             JUMBO BAG RED RETROSPOT   \n",
       "15              JUMBO BAG PINK POLKADOT             JUMBO BAG RED RETROSPOT   \n",
       "16       PINK REGENCY TEACUP AND SAUCER    ROSES REGENCY TEACUP AND SAUCER    \n",
       "17             STRAWBERRY CHARLOTTE BAG         RED RETROSPOT CHARLOTTE BAG   \n",
       "18  SET/20 RED RETROSPOT PAPER NAPKINS        SET/6 RED SPOTTY PAPER PLATES   \n",
       "19      GREEN REGENCY TEACUP AND SAUCER    ROSES REGENCY TEACUP AND SAUCER    \n",
       "20    JUMBO SHOPPER VINTAGE RED PAISLEY             JUMBO BAG RED RETROSPOT   \n",
       "\n",
       "     Support  Confidence       Lift  \n",
       "0   0.024824    0.803995  19.733247  \n",
       "1   0.010870    0.898089  60.360434  \n",
       "2   0.012412    0.834197  47.355733  \n",
       "3   0.010485    0.866242  49.174874  \n",
       "4   0.013491    0.817757  40.180057  \n",
       "5   0.010870    0.831858  41.904665  \n",
       "6   0.012566    0.857895  21.196536  \n",
       "7   0.012489    0.820253  20.266503  \n",
       "8   0.012874    0.802885  19.837367  \n",
       "9   0.010677    0.802899   9.756252  \n",
       "10  0.013337    0.860697  21.124929  \n",
       "11  0.021162    0.852484  19.746433  \n",
       "12  0.010369    0.840625  10.214677  \n",
       "13  0.010793    0.802292   9.748884  \n",
       "14  0.014647    0.805085   9.782817  \n",
       "15  0.015958    0.800774   9.730432  \n",
       "16  0.012990    0.838308  19.418068  \n",
       "17  0.012643    0.803922  19.862988  \n",
       "18  0.010215    0.895270  43.988630  \n",
       "19  0.011679    0.875723  20.284705  \n",
       "20  0.010369    0.867742  10.544182  "
      ]
     },
     "execution_count": 27,
     "metadata": {},
     "output_type": "execute_result"
    }
   ],
   "source": [
    "resultsinDataFrame"
   ]
  },
  {
   "cell_type": "markdown",
   "metadata": {},
   "source": [
    "# Thank You"
   ]
  }
 ],
 "metadata": {
  "kernelspec": {
   "display_name": "Python 3",
   "language": "python",
   "name": "python3"
  },
  "language_info": {
   "codemirror_mode": {
    "name": "ipython",
    "version": 3
   },
   "file_extension": ".py",
   "mimetype": "text/x-python",
   "name": "python",
   "nbconvert_exporter": "python",
   "pygments_lexer": "ipython3",
   "version": "3.8.3"
  }
 },
 "nbformat": 4,
 "nbformat_minor": 4
}
