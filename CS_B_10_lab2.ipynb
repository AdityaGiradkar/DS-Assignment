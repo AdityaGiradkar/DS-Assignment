{
  "nbformat": 4,
  "nbformat_minor": 0,
  "metadata": {
    "colab": {
      "name": "CS_B_10_lab2.ipynb",
      "provenance": [],
      "collapsed_sections": []
    },
    "kernelspec": {
      "name": "python3",
      "display_name": "Python 3"
    }
  },
  "cells": [
    {
      "cell_type": "code",
      "metadata": {
        "id": "uh5y-UWm2nbj"
      },
      "source": [
        "import pandas as pd\n",
        "import matplotlib.pyplot as plt\n",
        "import seaborn as sns"
      ],
      "execution_count": null,
      "outputs": []
    },
    {
      "cell_type": "code",
      "metadata": {
        "colab": {
          "base_uri": "https://localhost:8080/"
        },
        "id": "oNhVqUgF20Mw",
        "outputId": "374ecd2a-2914-4341-ce43-f818e4b6cdb2"
      },
      "source": [
        "df = pd.read_csv('Final_Dataframe.csv')\n",
        "df.shape"
      ],
      "execution_count": null,
      "outputs": [
        {
          "output_type": "execute_result",
          "data": {
            "text/plain": [
              "(205, 9)"
            ]
          },
          "metadata": {
            "tags": []
          },
          "execution_count": 46
        }
      ]
    },
    {
      "cell_type": "code",
      "metadata": {
        "colab": {
          "base_uri": "https://localhost:8080/"
        },
        "id": "jo1VKH0YGB3i",
        "outputId": "145af99d-c8e6-4767-e350-9136a039bc47"
      },
      "source": [
        "df.info()"
      ],
      "execution_count": null,
      "outputs": [
        {
          "output_type": "stream",
          "text": [
            "<class 'pandas.core.frame.DataFrame'>\n",
            "RangeIndex: 205 entries, 0 to 204\n",
            "Data columns (total 9 columns):\n",
            " #   Column          Non-Null Count  Dtype  \n",
            "---  ------          --------------  -----  \n",
            " 0   brand           205 non-null    object \n",
            " 1   laptop_name     204 non-null    object \n",
            " 2   display_size    205 non-null    float64\n",
            " 3   processor_type  205 non-null    object \n",
            " 4   graphics_card   205 non-null    object \n",
            " 5   disk_space      205 non-null    object \n",
            " 6   discount_price  205 non-null    float64\n",
            " 7   old_price       205 non-null    float64\n",
            " 8   discount        205 non-null    float64\n",
            "dtypes: float64(4), object(5)\n",
            "memory usage: 14.5+ KB\n"
          ],
          "name": "stdout"
        }
      ]
    },
    {
      "cell_type": "code",
      "metadata": {
        "id": "JvJeNGVyVAFG"
      },
      "source": [
        ""
      ],
      "execution_count": null,
      "outputs": []
    },
    {
      "cell_type": "code",
      "metadata": {
        "colab": {
          "base_uri": "https://localhost:8080/",
          "height": 668
        },
        "id": "lT_jNaDP4NaB",
        "outputId": "2fa01bcb-4777-4963-b564-b05b4219ef16"
      },
      "source": [
        "df.sample(10)"
      ],
      "execution_count": null,
      "outputs": [
        {
          "output_type": "execute_result",
          "data": {
            "text/html": [
              "<div>\n",
              "<style scoped>\n",
              "    .dataframe tbody tr th:only-of-type {\n",
              "        vertical-align: middle;\n",
              "    }\n",
              "\n",
              "    .dataframe tbody tr th {\n",
              "        vertical-align: top;\n",
              "    }\n",
              "\n",
              "    .dataframe thead th {\n",
              "        text-align: right;\n",
              "    }\n",
              "</style>\n",
              "<table border=\"1\" class=\"dataframe\">\n",
              "  <thead>\n",
              "    <tr style=\"text-align: right;\">\n",
              "      <th></th>\n",
              "      <th>brand</th>\n",
              "      <th>laptop_name</th>\n",
              "      <th>display_size</th>\n",
              "      <th>processor_type</th>\n",
              "      <th>graphics_card</th>\n",
              "      <th>disk_space</th>\n",
              "      <th>discount_price</th>\n",
              "      <th>old_price</th>\n",
              "      <th>ratings_5max</th>\n",
              "    </tr>\n",
              "  </thead>\n",
              "  <tbody>\n",
              "    <tr>\n",
              "      <th>151</th>\n",
              "      <td>HP</td>\n",
              "      <td>Pavilion 15-cs0000nx</td>\n",
              "      <td>15.6</td>\n",
              "      <td>Intel Core i5-8250U</td>\n",
              "      <td>NVIDIA GeForce MX130 (2 GB)</td>\n",
              "      <td>16 GB (Optane)/1 TB HDD</td>\n",
              "      <td>2409.0</td>\n",
              "      <td>3049.0</td>\n",
              "      <td>0 / 5</td>\n",
              "    </tr>\n",
              "    <tr>\n",
              "      <th>189</th>\n",
              "      <td>Asus</td>\n",
              "      <td>ZenBook UX430UN Ultrabook</td>\n",
              "      <td>14.0</td>\n",
              "      <td>Intel Core i5-8250U</td>\n",
              "      <td>NVIDIA GeForce MX150 (2 GB)</td>\n",
              "      <td>256 GB SSD</td>\n",
              "      <td>3779.0</td>\n",
              "      <td>3779.0</td>\n",
              "      <td>0 / 5</td>\n",
              "    </tr>\n",
              "    <tr>\n",
              "      <th>150</th>\n",
              "      <td>HP</td>\n",
              "      <td>Pavilion 15-cs0001nx</td>\n",
              "      <td>15.6</td>\n",
              "      <td>Intel Core i5-8250U</td>\n",
              "      <td>NVIDIA GeForce MX130 (2 GB)</td>\n",
              "      <td>16 GB (Optane)/1 TB HDD</td>\n",
              "      <td>2409.0</td>\n",
              "      <td>3049.0</td>\n",
              "      <td>0 / 5</td>\n",
              "    </tr>\n",
              "    <tr>\n",
              "      <th>172</th>\n",
              "      <td>HP</td>\n",
              "      <td>ENVY 13-ad004nx</td>\n",
              "      <td>13.3</td>\n",
              "      <td>Intel Core i7-7500U</td>\n",
              "      <td>NVIDIA GeForce MX150 (2 GB)</td>\n",
              "      <td>1 TB PCIe NVMe M.2 SSD</td>\n",
              "      <td>6609.0</td>\n",
              "      <td>6609.0</td>\n",
              "      <td>0 / 5</td>\n",
              "    </tr>\n",
              "    <tr>\n",
              "      <th>108</th>\n",
              "      <td>Acer</td>\n",
              "      <td>Aspire 1 A114-31-C6WP</td>\n",
              "      <td>14.0</td>\n",
              "      <td>Intel Celeron N3350</td>\n",
              "      <td>Intel HD Graphics 505</td>\n",
              "      <td>64 GB (eMMC)</td>\n",
              "      <td>999.0</td>\n",
              "      <td>999.0</td>\n",
              "      <td>0 / 5</td>\n",
              "    </tr>\n",
              "    <tr>\n",
              "      <th>19</th>\n",
              "      <td>Apple</td>\n",
              "      <td>MacBook Air (Retina)</td>\n",
              "      <td>13.3</td>\n",
              "      <td>Intel Core i5 Dual Core</td>\n",
              "      <td>Intel UHD Graphics 617</td>\n",
              "      <td>256 GB (PCIe SSD)</td>\n",
              "      <td>5399.0</td>\n",
              "      <td>6099.0</td>\n",
              "      <td>3.9 / 5</td>\n",
              "    </tr>\n",
              "    <tr>\n",
              "      <th>144</th>\n",
              "      <td>Apple</td>\n",
              "      <td>MacBook Pro (Retina + Touch Bar)</td>\n",
              "      <td>15.4</td>\n",
              "      <td>Intel Core i7 6 Core</td>\n",
              "      <td>Radeon Pro 560X GDDR5 (4 GB)</td>\n",
              "      <td>512 GB SSD</td>\n",
              "      <td>10699.0</td>\n",
              "      <td>11899.0</td>\n",
              "      <td>4.4 / 5</td>\n",
              "    </tr>\n",
              "    <tr>\n",
              "      <th>95</th>\n",
              "      <td>HP</td>\n",
              "      <td>Pavilion 15-cs2011nx</td>\n",
              "      <td>15.6</td>\n",
              "      <td>Intel Core i5-8265U</td>\n",
              "      <td>NVIDIA GeForce MX130 (2 GB)</td>\n",
              "      <td>1 TB HDD</td>\n",
              "      <td>2799.0</td>\n",
              "      <td>2799.0</td>\n",
              "      <td>0 / 5</td>\n",
              "    </tr>\n",
              "    <tr>\n",
              "      <th>1</th>\n",
              "      <td>Lenovo</td>\n",
              "      <td>IdeaPad 330S-14IKB</td>\n",
              "      <td>14.0</td>\n",
              "      <td>Intel Core i5-8250U</td>\n",
              "      <td>Intel UHD Graphics 620</td>\n",
              "      <td>1 TB HDD</td>\n",
              "      <td>1849.0</td>\n",
              "      <td>2099.0</td>\n",
              "      <td>3.3 / 5</td>\n",
              "    </tr>\n",
              "    <tr>\n",
              "      <th>129</th>\n",
              "      <td>HP</td>\n",
              "      <td>Stream 14-cb104nx</td>\n",
              "      <td>14.0</td>\n",
              "      <td>Intel Celeron N4000</td>\n",
              "      <td>Intel UHD Graphics 600</td>\n",
              "      <td>64 GB (eMMC)</td>\n",
              "      <td>1099.0</td>\n",
              "      <td>1099.0</td>\n",
              "      <td>0 / 5</td>\n",
              "    </tr>\n",
              "  </tbody>\n",
              "</table>\n",
              "</div>"
            ],
            "text/plain": [
              "      brand                       laptop_name  ...  old_price ratings_5max\n",
              "151      HP              Pavilion 15-cs0000nx  ...     3049.0        0 / 5\n",
              "189    Asus         ZenBook UX430UN Ultrabook  ...     3779.0        0 / 5\n",
              "150      HP              Pavilion 15-cs0001nx  ...     3049.0        0 / 5\n",
              "172      HP                   ENVY 13-ad004nx  ...     6609.0        0 / 5\n",
              "108    Acer             Aspire 1 A114-31-C6WP  ...      999.0        0 / 5\n",
              "19    Apple              MacBook Air (Retina)  ...     6099.0      3.9 / 5\n",
              "144   Apple  MacBook Pro (Retina + Touch Bar)  ...    11899.0      4.4 / 5\n",
              "95       HP              Pavilion 15-cs2011nx  ...     2799.0        0 / 5\n",
              "1    Lenovo                IdeaPad 330S-14IKB  ...     2099.0      3.3 / 5\n",
              "129      HP                 Stream 14-cb104nx  ...     1099.0        0 / 5\n",
              "\n",
              "[10 rows x 9 columns]"
            ]
          },
          "metadata": {
            "tags": []
          },
          "execution_count": 48
        }
      ]
    },
    {
      "cell_type": "markdown",
      "metadata": {
        "id": "k6GG9NTXJ5Q_"
      },
      "source": [
        "New Column is added named \"discount\""
      ]
    },
    {
      "cell_type": "code",
      "metadata": {
        "id": "Vm2YG4fdBS_q"
      },
      "source": [
        "# Adding new column to dataset \"discount\"\n",
        "df['discount'] = df['old_price'] - df['discount_price']"
      ],
      "execution_count": null,
      "outputs": []
    },
    {
      "cell_type": "code",
      "metadata": {
        "id": "ALN1qlGdGd1t"
      },
      "source": [
        "df.drop('ratings_5max', axis=1, inplace=True)"
      ],
      "execution_count": null,
      "outputs": []
    },
    {
      "cell_type": "code",
      "metadata": {
        "colab": {
          "base_uri": "https://localhost:8080/"
        },
        "id": "CiO8ybk0BeV0",
        "outputId": "b0ae440b-6d59-47a8-c8d4-24a83651ffc9"
      },
      "source": [
        "df.columns"
      ],
      "execution_count": null,
      "outputs": [
        {
          "output_type": "execute_result",
          "data": {
            "text/plain": [
              "Index(['brand', 'laptop_name', 'display_size', 'processor_type',\n",
              "       'graphics_card', 'disk_space', 'discount_price', 'old_price',\n",
              "       'discount'],\n",
              "      dtype='object')"
            ]
          },
          "metadata": {
            "tags": []
          },
          "execution_count": 51
        }
      ]
    },
    {
      "cell_type": "code",
      "metadata": {
        "colab": {
          "base_uri": "https://localhost:8080/",
          "height": 580
        },
        "id": "9MF0tOy9Bk80",
        "outputId": "fce0596f-ff9a-42d5-bb73-6f5027138bc0"
      },
      "source": [
        "df.sample(10)"
      ],
      "execution_count": null,
      "outputs": [
        {
          "output_type": "execute_result",
          "data": {
            "text/html": [
              "<div>\n",
              "<style scoped>\n",
              "    .dataframe tbody tr th:only-of-type {\n",
              "        vertical-align: middle;\n",
              "    }\n",
              "\n",
              "    .dataframe tbody tr th {\n",
              "        vertical-align: top;\n",
              "    }\n",
              "\n",
              "    .dataframe thead th {\n",
              "        text-align: right;\n",
              "    }\n",
              "</style>\n",
              "<table border=\"1\" class=\"dataframe\">\n",
              "  <thead>\n",
              "    <tr style=\"text-align: right;\">\n",
              "      <th></th>\n",
              "      <th>brand</th>\n",
              "      <th>laptop_name</th>\n",
              "      <th>display_size</th>\n",
              "      <th>processor_type</th>\n",
              "      <th>graphics_card</th>\n",
              "      <th>disk_space</th>\n",
              "      <th>discount_price</th>\n",
              "      <th>old_price</th>\n",
              "      <th>discount</th>\n",
              "    </tr>\n",
              "  </thead>\n",
              "  <tbody>\n",
              "    <tr>\n",
              "      <th>38</th>\n",
              "      <td>Asus</td>\n",
              "      <td>VivoBook 15 X512UB</td>\n",
              "      <td>15.6</td>\n",
              "      <td>Intel Core i5-8250U</td>\n",
              "      <td>NVIDIA GeForce MX110 (2 GB)</td>\n",
              "      <td>128 GB M.2 SSD/1 TB HDD</td>\n",
              "      <td>2399.0</td>\n",
              "      <td>2899.0</td>\n",
              "      <td>500.0</td>\n",
              "    </tr>\n",
              "    <tr>\n",
              "      <th>144</th>\n",
              "      <td>Apple</td>\n",
              "      <td>MacBook Pro (Retina + Touch Bar)</td>\n",
              "      <td>15.4</td>\n",
              "      <td>Intel Core i7 6 Core</td>\n",
              "      <td>Radeon Pro 560X GDDR5 (4 GB)</td>\n",
              "      <td>512 GB SSD</td>\n",
              "      <td>10699.0</td>\n",
              "      <td>11899.0</td>\n",
              "      <td>1200.0</td>\n",
              "    </tr>\n",
              "    <tr>\n",
              "      <th>174</th>\n",
              "      <td>Dell</td>\n",
              "      <td>Inspiron 15 3567</td>\n",
              "      <td>15.6</td>\n",
              "      <td>Intel Core i7-7500U</td>\n",
              "      <td>AMD Radeon R5-M340 (2 GB)</td>\n",
              "      <td>1 TB HDD</td>\n",
              "      <td>2749.0</td>\n",
              "      <td>2749.0</td>\n",
              "      <td>0.0</td>\n",
              "    </tr>\n",
              "    <tr>\n",
              "      <th>73</th>\n",
              "      <td>Lenovo</td>\n",
              "      <td>IdeaPad 330</td>\n",
              "      <td>15.6</td>\n",
              "      <td>Intel Celeron N4000</td>\n",
              "      <td>Intel UHD Graphics 600</td>\n",
              "      <td>1 TB HDD</td>\n",
              "      <td>1179.0</td>\n",
              "      <td>1379.0</td>\n",
              "      <td>200.0</td>\n",
              "    </tr>\n",
              "    <tr>\n",
              "      <th>182</th>\n",
              "      <td>Dell</td>\n",
              "      <td>XPS 13 9360</td>\n",
              "      <td>13.3</td>\n",
              "      <td>Intel Core i5-8250U</td>\n",
              "      <td>Intel UHD Graphics 620</td>\n",
              "      <td>256 GB PCIe NVMe M.2 SSD</td>\n",
              "      <td>4399.0</td>\n",
              "      <td>4399.0</td>\n",
              "      <td>0.0</td>\n",
              "    </tr>\n",
              "    <tr>\n",
              "      <th>3</th>\n",
              "      <td>Dell</td>\n",
              "      <td>Inspiron 15 3567</td>\n",
              "      <td>15.6</td>\n",
              "      <td>Intel Core i3-7020U</td>\n",
              "      <td>Intel HD Graphics 620</td>\n",
              "      <td>1 TB HDD</td>\n",
              "      <td>1849.0</td>\n",
              "      <td>1849.0</td>\n",
              "      <td>0.0</td>\n",
              "    </tr>\n",
              "    <tr>\n",
              "      <th>0</th>\n",
              "      <td>HP</td>\n",
              "      <td>Notebook 14-df0008nx</td>\n",
              "      <td>14.0</td>\n",
              "      <td>Intel Celeron N4000</td>\n",
              "      <td>Intel HD Graphics 600</td>\n",
              "      <td>64 GB (eMMC)</td>\n",
              "      <td>1259.0</td>\n",
              "      <td>1259.0</td>\n",
              "      <td>0.0</td>\n",
              "    </tr>\n",
              "    <tr>\n",
              "      <th>109</th>\n",
              "      <td>Microsoft</td>\n",
              "      <td>Surface</td>\n",
              "      <td>13.5</td>\n",
              "      <td>Intel Core i5-7200U</td>\n",
              "      <td>Intel HD Graphics 620</td>\n",
              "      <td>256 GB SSD</td>\n",
              "      <td>5799.0</td>\n",
              "      <td>5799.0</td>\n",
              "      <td>0.0</td>\n",
              "    </tr>\n",
              "    <tr>\n",
              "      <th>68</th>\n",
              "      <td>Lenovo</td>\n",
              "      <td>IdeaPad 330-15IKBR</td>\n",
              "      <td>15.6</td>\n",
              "      <td>Intel Core i7-8550U</td>\n",
              "      <td>AMD Radeon 530M (4 GB)</td>\n",
              "      <td>2 TB HDD</td>\n",
              "      <td>2899.0</td>\n",
              "      <td>3149.0</td>\n",
              "      <td>250.0</td>\n",
              "    </tr>\n",
              "    <tr>\n",
              "      <th>186</th>\n",
              "      <td>Dell</td>\n",
              "      <td>Inspiron 15 3567</td>\n",
              "      <td>15.6</td>\n",
              "      <td>Intel Core i5-8250U</td>\n",
              "      <td>AMD Radeon 520 (2 GB)</td>\n",
              "      <td>1 TB HDD</td>\n",
              "      <td>2549.0</td>\n",
              "      <td>2549.0</td>\n",
              "      <td>0.0</td>\n",
              "    </tr>\n",
              "  </tbody>\n",
              "</table>\n",
              "</div>"
            ],
            "text/plain": [
              "         brand                       laptop_name  ...  old_price discount\n",
              "38        Asus                VivoBook 15 X512UB  ...     2899.0    500.0\n",
              "144      Apple  MacBook Pro (Retina + Touch Bar)  ...    11899.0   1200.0\n",
              "174       Dell                  Inspiron 15 3567  ...     2749.0      0.0\n",
              "73      Lenovo                       IdeaPad 330  ...     1379.0    200.0\n",
              "182       Dell                       XPS 13 9360  ...     4399.0      0.0\n",
              "3         Dell                  Inspiron 15 3567  ...     1849.0      0.0\n",
              "0           HP              Notebook 14-df0008nx  ...     1259.0      0.0\n",
              "109  Microsoft                           Surface  ...     5799.0      0.0\n",
              "68      Lenovo                IdeaPad 330-15IKBR  ...     3149.0    250.0\n",
              "186       Dell                  Inspiron 15 3567  ...     2549.0      0.0\n",
              "\n",
              "[10 rows x 9 columns]"
            ]
          },
          "metadata": {
            "tags": []
          },
          "execution_count": 52
        }
      ]
    },
    {
      "cell_type": "code",
      "metadata": {
        "colab": {
          "base_uri": "https://localhost:8080/"
        },
        "id": "KoTyzlu76TG1",
        "outputId": "c2da3a42-fa95-40ce-bf75-72397b7acad6"
      },
      "source": [
        "df.mean()"
      ],
      "execution_count": null,
      "outputs": [
        {
          "output_type": "execute_result",
          "data": {
            "text/plain": [
              "display_size        14.579805\n",
              "discount_price    3812.550976\n",
              "old_price         4040.355854\n",
              "discount           227.804878\n",
              "dtype: float64"
            ]
          },
          "metadata": {
            "tags": []
          },
          "execution_count": 53
        }
      ]
    },
    {
      "cell_type": "code",
      "metadata": {
        "colab": {
          "base_uri": "https://localhost:8080/"
        },
        "id": "Wmj_7fj36Zmg",
        "outputId": "6576587f-4a61-4041-8149-751324d69052"
      },
      "source": [
        "df.median()"
      ],
      "execution_count": null,
      "outputs": [
        {
          "output_type": "execute_result",
          "data": {
            "text/plain": [
              "display_size        14.0\n",
              "discount_price    3149.0\n",
              "old_price         3299.0\n",
              "discount             0.0\n",
              "dtype: float64"
            ]
          },
          "metadata": {
            "tags": []
          },
          "execution_count": 54
        }
      ]
    },
    {
      "cell_type": "code",
      "metadata": {
        "id": "SUibcrkHQYsU",
        "colab": {
          "base_uri": "https://localhost:8080/"
        },
        "outputId": "bdace3e2-16a9-4157-db85-96dbf626fe0f"
      },
      "source": [
        "grp = df.groupby(by=['discount','brand'])['discount'].count()\n",
        "print(grp)"
      ],
      "execution_count": null,
      "outputs": [
        {
          "output_type": "stream",
          "text": [
            "discount  brand\n",
            "0.0       Acer     10\n",
            "          Apple    24\n",
            "          Asus      3\n",
            "          Dell     24\n",
            "          HP       32\n",
            "                   ..\n",
            "1100.0    Acer      1\n",
            "          Apple     2\n",
            "1200.0    Apple     1\n",
            "          Asus      1\n",
            "1500.0    Acer      1\n",
            "Name: discount, Length: 73, dtype: int64\n"
          ],
          "name": "stdout"
        }
      ]
    },
    {
      "cell_type": "code",
      "metadata": {
        "colab": {
          "base_uri": "https://localhost:8080/",
          "height": 297
        },
        "id": "1_Vgjg0L6oNl",
        "outputId": "dc2ab58f-1a12-4742-9f9e-8bd8d1cd4f98"
      },
      "source": [
        "df.describe()"
      ],
      "execution_count": null,
      "outputs": [
        {
          "output_type": "execute_result",
          "data": {
            "text/html": [
              "<div>\n",
              "<style scoped>\n",
              "    .dataframe tbody tr th:only-of-type {\n",
              "        vertical-align: middle;\n",
              "    }\n",
              "\n",
              "    .dataframe tbody tr th {\n",
              "        vertical-align: top;\n",
              "    }\n",
              "\n",
              "    .dataframe thead th {\n",
              "        text-align: right;\n",
              "    }\n",
              "</style>\n",
              "<table border=\"1\" class=\"dataframe\">\n",
              "  <thead>\n",
              "    <tr style=\"text-align: right;\">\n",
              "      <th></th>\n",
              "      <th>display_size</th>\n",
              "      <th>discount_price</th>\n",
              "      <th>old_price</th>\n",
              "      <th>discount</th>\n",
              "    </tr>\n",
              "  </thead>\n",
              "  <tbody>\n",
              "    <tr>\n",
              "      <th>count</th>\n",
              "      <td>205.000000</td>\n",
              "      <td>205.000000</td>\n",
              "      <td>205.000000</td>\n",
              "      <td>205.000000</td>\n",
              "    </tr>\n",
              "    <tr>\n",
              "      <th>mean</th>\n",
              "      <td>14.579805</td>\n",
              "      <td>3812.550976</td>\n",
              "      <td>4040.355854</td>\n",
              "      <td>227.804878</td>\n",
              "    </tr>\n",
              "    <tr>\n",
              "      <th>std</th>\n",
              "      <td>1.109458</td>\n",
              "      <td>2308.702005</td>\n",
              "      <td>2327.147396</td>\n",
              "      <td>306.097449</td>\n",
              "    </tr>\n",
              "    <tr>\n",
              "      <th>min</th>\n",
              "      <td>12.000000</td>\n",
              "      <td>899.000000</td>\n",
              "      <td>999.000000</td>\n",
              "      <td>0.000000</td>\n",
              "    </tr>\n",
              "    <tr>\n",
              "      <th>25%</th>\n",
              "      <td>13.300000</td>\n",
              "      <td>2099.000000</td>\n",
              "      <td>2249.000000</td>\n",
              "      <td>0.000000</td>\n",
              "    </tr>\n",
              "    <tr>\n",
              "      <th>50%</th>\n",
              "      <td>14.000000</td>\n",
              "      <td>3149.000000</td>\n",
              "      <td>3299.000000</td>\n",
              "      <td>0.000000</td>\n",
              "    </tr>\n",
              "    <tr>\n",
              "      <th>75%</th>\n",
              "      <td>15.600000</td>\n",
              "      <td>4939.000000</td>\n",
              "      <td>5649.000000</td>\n",
              "      <td>400.000000</td>\n",
              "    </tr>\n",
              "    <tr>\n",
              "      <th>max</th>\n",
              "      <td>18.400000</td>\n",
              "      <td>12499.000000</td>\n",
              "      <td>12499.000000</td>\n",
              "      <td>1500.000000</td>\n",
              "    </tr>\n",
              "  </tbody>\n",
              "</table>\n",
              "</div>"
            ],
            "text/plain": [
              "       display_size  discount_price     old_price     discount\n",
              "count    205.000000      205.000000    205.000000   205.000000\n",
              "mean      14.579805     3812.550976   4040.355854   227.804878\n",
              "std        1.109458     2308.702005   2327.147396   306.097449\n",
              "min       12.000000      899.000000    999.000000     0.000000\n",
              "25%       13.300000     2099.000000   2249.000000     0.000000\n",
              "50%       14.000000     3149.000000   3299.000000     0.000000\n",
              "75%       15.600000     4939.000000   5649.000000   400.000000\n",
              "max       18.400000    12499.000000  12499.000000  1500.000000"
            ]
          },
          "metadata": {
            "tags": []
          },
          "execution_count": 11
        }
      ]
    },
    {
      "cell_type": "code",
      "metadata": {
        "colab": {
          "base_uri": "https://localhost:8080/",
          "height": 165
        },
        "id": "kK1zeEQx6v3E",
        "outputId": "a03a2936-46b8-400e-9aaa-cb490c563d4a"
      },
      "source": [
        "df.mode()\n"
      ],
      "execution_count": null,
      "outputs": [
        {
          "output_type": "execute_result",
          "data": {
            "text/html": [
              "<div>\n",
              "<style scoped>\n",
              "    .dataframe tbody tr th:only-of-type {\n",
              "        vertical-align: middle;\n",
              "    }\n",
              "\n",
              "    .dataframe tbody tr th {\n",
              "        vertical-align: top;\n",
              "    }\n",
              "\n",
              "    .dataframe thead th {\n",
              "        text-align: right;\n",
              "    }\n",
              "</style>\n",
              "<table border=\"1\" class=\"dataframe\">\n",
              "  <thead>\n",
              "    <tr style=\"text-align: right;\">\n",
              "      <th></th>\n",
              "      <th>brand</th>\n",
              "      <th>laptop_name</th>\n",
              "      <th>display_size</th>\n",
              "      <th>processor_type</th>\n",
              "      <th>graphics_card</th>\n",
              "      <th>disk_space</th>\n",
              "      <th>discount_price</th>\n",
              "      <th>old_price</th>\n",
              "      <th>ratings_5max</th>\n",
              "      <th>discount</th>\n",
              "    </tr>\n",
              "  </thead>\n",
              "  <tbody>\n",
              "    <tr>\n",
              "      <th>0</th>\n",
              "      <td>HP</td>\n",
              "      <td>MacBook Pro (Retina + Touch Bar)</td>\n",
              "      <td>15.6</td>\n",
              "      <td>Intel Core i5-8250U</td>\n",
              "      <td>NVIDIA GeForce MX150 (2 GB)</td>\n",
              "      <td>1 TB HDD</td>\n",
              "      <td>2299.0</td>\n",
              "      <td>3149.0</td>\n",
              "      <td>0 / 5</td>\n",
              "      <td>0.0</td>\n",
              "    </tr>\n",
              "    <tr>\n",
              "      <th>1</th>\n",
              "      <td>NaN</td>\n",
              "      <td>NaN</td>\n",
              "      <td>NaN</td>\n",
              "      <td>NaN</td>\n",
              "      <td>NaN</td>\n",
              "      <td>NaN</td>\n",
              "      <td>3599.0</td>\n",
              "      <td>NaN</td>\n",
              "      <td>NaN</td>\n",
              "      <td>NaN</td>\n",
              "    </tr>\n",
              "  </tbody>\n",
              "</table>\n",
              "</div>"
            ],
            "text/plain": [
              "  brand                       laptop_name  ...  ratings_5max discount\n",
              "0    HP  MacBook Pro (Retina + Touch Bar)  ...         0 / 5      0.0\n",
              "1   NaN                               NaN  ...           NaN      NaN\n",
              "\n",
              "[2 rows x 10 columns]"
            ]
          },
          "metadata": {
            "tags": []
          },
          "execution_count": 12
        }
      ]
    },
    {
      "cell_type": "code",
      "metadata": {
        "colab": {
          "base_uri": "https://localhost:8080/"
        },
        "id": "OD4dyIWr65id",
        "outputId": "e3961142-35c0-408c-8715-63797e30ec53"
      },
      "source": [
        "df.mode().count()\n"
      ],
      "execution_count": null,
      "outputs": [
        {
          "output_type": "execute_result",
          "data": {
            "text/plain": [
              "brand             1\n",
              "laptop_name       1\n",
              "display_size      1\n",
              "processor_type    1\n",
              "graphics_card     1\n",
              "disk_space        1\n",
              "discount_price    2\n",
              "old_price         1\n",
              "ratings_5max      1\n",
              "discount          1\n",
              "dtype: int64"
            ]
          },
          "metadata": {
            "tags": []
          },
          "execution_count": 13
        }
      ]
    },
    {
      "cell_type": "markdown",
      "metadata": {
        "id": "tJv3NKK8MVsA"
      },
      "source": [
        "Here from Mode count for all columns we see only discount_price is bimodal other columns are unimodal."
      ]
    },
    {
      "cell_type": "code",
      "metadata": {
        "colab": {
          "base_uri": "https://localhost:8080/"
        },
        "id": "pioIc3QZ7CAs",
        "outputId": "1149eccd-f0ef-4fb5-bbcd-82bda0172160"
      },
      "source": [
        "df['discount_price'].mode()"
      ],
      "execution_count": null,
      "outputs": [
        {
          "output_type": "execute_result",
          "data": {
            "text/plain": [
              "0    2299.0\n",
              "1    3599.0\n",
              "dtype: float64"
            ]
          },
          "metadata": {
            "tags": []
          },
          "execution_count": 14
        }
      ]
    },
    {
      "cell_type": "code",
      "metadata": {
        "colab": {
          "base_uri": "https://localhost:8080/"
        },
        "id": "tRhutOIX7I23",
        "outputId": "c7903ee0-70fa-4e32-9fb1-742d6d74763d"
      },
      "source": [
        "df.std()"
      ],
      "execution_count": null,
      "outputs": [
        {
          "output_type": "execute_result",
          "data": {
            "text/plain": [
              "display_size         1.109458\n",
              "discount_price    2308.702005\n",
              "old_price         2327.147396\n",
              "discount           306.097449\n",
              "dtype: float64"
            ]
          },
          "metadata": {
            "tags": []
          },
          "execution_count": 15
        }
      ]
    },
    {
      "cell_type": "code",
      "metadata": {
        "colab": {
          "base_uri": "https://localhost:8080/"
        },
        "id": "dbjRzJx47dHs",
        "outputId": "a51752fa-3559-48c8-efe1-e3e9a60517d9"
      },
      "source": [
        "df.skew()"
      ],
      "execution_count": null,
      "outputs": [
        {
          "output_type": "execute_result",
          "data": {
            "text/plain": [
              "display_size      0.178277\n",
              "discount_price    1.239832\n",
              "old_price         1.163004\n",
              "discount          1.474107\n",
              "dtype: float64"
            ]
          },
          "metadata": {
            "tags": []
          },
          "execution_count": 18
        }
      ]
    },
    {
      "cell_type": "markdown",
      "metadata": {
        "id": "M8CrOScPM1Af"
      },
      "source": [
        "# Box Plot:\n"
      ]
    },
    {
      "cell_type": "code",
      "metadata": {
        "colab": {
          "base_uri": "https://localhost:8080/",
          "height": 401
        },
        "id": "G__rEeHt8aPY",
        "outputId": "11b08af7-a90c-437d-874a-31e05edb591b"
      },
      "source": [
        "plt.boxplot(df['discount'])"
      ],
      "execution_count": null,
      "outputs": [
        {
          "output_type": "execute_result",
          "data": {
            "text/plain": [
              "{'boxes': [<matplotlib.lines.Line2D at 0x7f417e2ae1d0>],\n",
              " 'caps': [<matplotlib.lines.Line2D at 0x7f417e2aead0>,\n",
              "  <matplotlib.lines.Line2D at 0x7f417e2347d0>],\n",
              " 'fliers': [<matplotlib.lines.Line2D at 0x7f417e234b10>],\n",
              " 'means': [],\n",
              " 'medians': [<matplotlib.lines.Line2D at 0x7f417e234d50>],\n",
              " 'whiskers': [<matplotlib.lines.Line2D at 0x7f417e2ae7d0>,\n",
              "  <matplotlib.lines.Line2D at 0x7f417e2aed10>]}"
            ]
          },
          "metadata": {
            "tags": []
          },
          "execution_count": 23
        },
        {
          "output_type": "display_data",
          "data": {
            "image/png": "[encoded data removed]",
            "text/plain": [
              "<Figure size 432x288 with 1 Axes>"
            ]
          },
          "metadata": {
            "tags": [],
            "needs_background": "light"
          }
        }
      ]
    },
    {
      "cell_type": "markdown",
      "metadata": {
        "id": "Yi_EKr7bKQ8p"
      },
      "source": [
        "In above boxploat we can see that the median line is at 0 so we can say that most of the record have discount value as zero. And also there are some outliers present in the data."
      ]
    },
    {
      "cell_type": "markdown",
      "metadata": {
        "id": "kSf3nlrcNDZy"
      },
      "source": [
        "# Distribution Plot"
      ]
    },
    {
      "cell_type": "code",
      "metadata": {
        "colab": {
          "base_uri": "https://localhost:8080/",
          "height": 356
        },
        "id": "6S8ofC3w0fRA",
        "outputId": "05017547-0478-4daf-fae2-5525ffb2308a"
      },
      "source": [
        "sns.distplot(dfv['discount'], color = 'Red', label = 'discount')"
      ],
      "execution_count": null,
      "outputs": [
        {
          "output_type": "stream",
          "text": [
            "/usr/local/lib/python3.7/dist-packages/seaborn/distributions.py:2557: FutureWarning: `distplot` is a deprecated function and will be removed in a future version. Please adapt your code to use either `displot` (a figure-level function with similar flexibility) or `histplot` (an axes-level function for histograms).\n",
            "  warnings.warn(msg, FutureWarning)\n"
          ],
          "name": "stderr"
        },
        {
          "output_type": "execute_result",
          "data": {
            "text/plain": [
              "<matplotlib.axes._subplots.AxesSubplot at 0x7f416c2b89d0>"
            ]
          },
          "metadata": {
            "tags": []
          },
          "execution_count": 70
        },
        {
          "output_type": "display_data",
          "data": {
            "image/png": "[encoded data removed]",
            "text/plain": [
              "<Figure size 432x288 with 1 Axes>"
            ]
          },
          "metadata": {
            "tags": []
          }
        }
      ]
    },
    {
      "cell_type": "code",
      "metadata": {
        "colab": {
          "base_uri": "https://localhost:8080/",
          "height": 356
        },
        "id": "14O1bo_V2Yl3",
        "outputId": "be675f64-d987-44d7-cdea-b6b7d63898b6"
      },
      "source": [
        "sns.distplot(dfv['old_price'], color = 'Red', label = 'old_price')"
      ],
      "execution_count": null,
      "outputs": [
        {
          "output_type": "stream",
          "text": [
            "/usr/local/lib/python3.7/dist-packages/seaborn/distributions.py:2557: FutureWarning: `distplot` is a deprecated function and will be removed in a future version. Please adapt your code to use either `displot` (a figure-level function with similar flexibility) or `histplot` (an axes-level function for histograms).\n",
            "  warnings.warn(msg, FutureWarning)\n"
          ],
          "name": "stderr"
        },
        {
          "output_type": "execute_result",
          "data": {
            "text/plain": [
              "<matplotlib.axes._subplots.AxesSubplot at 0x7f416c237d50>"
            ]
          },
          "metadata": {
            "tags": []
          },
          "execution_count": 71
        },
        {
          "output_type": "display_data",
          "data": {
            "image/png": "[encoded data removed]",
            "text/plain": [
              "<Figure size 432x288 with 1 Axes>"
            ]
          },
          "metadata": {
            "tags": []
          }
        }
      ]
    },
    {
      "cell_type": "markdown",
      "metadata": {
        "id": "pW5DkxC8KvKE"
      },
      "source": [
        "In above distploat we can see that the data is left skewed. "
      ]
    },
    {
      "cell_type": "markdown",
      "metadata": {
        "id": "wmdyxR7ANJXS"
      },
      "source": [
        "# Scatter Plot"
      ]
    },
    {
      "cell_type": "code",
      "metadata": {
        "colab": {
          "base_uri": "https://localhost:8080/",
          "height": 313
        },
        "id": "hRkz-F3x7i3g",
        "outputId": "7e7a9325-983e-422b-f872-676f89fc0557"
      },
      "source": [
        "dfv=df.sample(100)\n",
        "plt.xlabel('old_price')\n",
        "plt.ylabel('discount')\n",
        "plt.title('old_price Vs discount')\n",
        "plt.scatter(dfv['old_price'],dfv['discount'])"
      ],
      "execution_count": null,
      "outputs": [
        {
          "output_type": "execute_result",
          "data": {
            "text/plain": [
              "<matplotlib.collections.PathCollection at 0x7f417e4aa350>"
            ]
          },
          "metadata": {
            "tags": []
          },
          "execution_count": 21
        },
        {
          "output_type": "display_data",
          "data": {
            "image/png": "[encoded data removed]",
            "text/plain": [
              "<Figure size 432x288 with 1 Axes>"
            ]
          },
          "metadata": {
            "tags": [],
            "needs_background": "light"
          }
        }
      ]
    },
    {
      "cell_type": "markdown",
      "metadata": {
        "id": "fr8yB_XnNOHD"
      },
      "source": [
        "# Bar Graph"
      ]
    },
    {
      "cell_type": "code",
      "metadata": {
        "colab": {
          "base_uri": "https://localhost:8080/",
          "height": 282
        },
        "id": "-aUmkpnS8LSd",
        "outputId": "d1e0cea2-4e00-457c-8ef9-73254c04e890"
      },
      "source": [
        "plt.bar(dfv['old_price'], dfv['discount'], width=200)"
      ],
      "execution_count": null,
      "outputs": [
        {
          "output_type": "execute_result",
          "data": {
            "text/plain": [
              "<BarContainer object of 100 artists>"
            ]
          },
          "metadata": {
            "tags": []
          },
          "execution_count": 22
        },
        {
          "output_type": "display_data",
          "data": {
            "image/png": "[encoded data removed]",
            "text/plain": [
              "<Figure size 432x288 with 1 Axes>"
            ]
          },
          "metadata": {
            "tags": [],
            "needs_background": "light"
          }
        }
      ]
    },
    {
      "cell_type": "markdown",
      "metadata": {
        "id": "3yMolxZbLFBo"
      },
      "source": [
        "From above scatter plot and bar graph we see that most of the discount value is 0.0 and those other that zero are somewhat positively corelated. But overall we can't say that the discount is corelated with old_price"
      ]
    },
    {
      "cell_type": "code",
      "metadata": {
        "colab": {
          "base_uri": "https://localhost:8080/"
        },
        "id": "R6gDI6J58_Y2",
        "outputId": "9a50a2a3-ee45-4750-dae4-bdfa769f5fea"
      },
      "source": [
        "df.columns"
      ],
      "execution_count": null,
      "outputs": [
        {
          "output_type": "execute_result",
          "data": {
            "text/plain": [
              "Index(['brand', 'laptop_name', 'display_size', 'processor_type',\n",
              "       'graphics_card', 'disk_space', 'discount_price', 'old_price',\n",
              "       'discount'],\n",
              "      dtype='object')"
            ]
          },
          "metadata": {
            "tags": []
          },
          "execution_count": 76
        }
      ]
    },
    {
      "cell_type": "markdown",
      "metadata": {
        "id": "kc-ReqYENT98"
      },
      "source": [
        "# Pair Plot"
      ]
    },
    {
      "cell_type": "code",
      "metadata": {
        "colab": {
          "base_uri": "https://localhost:8080/",
          "height": 741
        },
        "id": "Sr3Mrna685fc",
        "outputId": "4bace6d2-ba51-43a5-b338-2eef41ebef27"
      },
      "source": [
        "dfp=dfv[['display_size','discount_price','old_price', 'discount']]\n",
        "sns.pairplot(dfp)"
      ],
      "execution_count": null,
      "outputs": [
        {
          "output_type": "execute_result",
          "data": {
            "text/plain": [
              "<seaborn.axisgrid.PairGrid at 0x7f4175132650>"
            ]
          },
          "metadata": {
            "tags": []
          },
          "execution_count": 27
        },
        {
          "output_type": "display_data",
          "data": {
            "image/png": "[encoded data removed]",
            "text/plain": [
              "<Figure size 720x720 with 20 Axes>"
            ]
          },
          "metadata": {
            "tags": []
          }
        }
      ]
    },
    {
      "cell_type": "markdown",
      "metadata": {
        "id": "RedhknbeNXVn"
      },
      "source": [
        "# Heat Map"
      ]
    },
    {
      "cell_type": "code",
      "metadata": {
        "colab": {
          "base_uri": "https://localhost:8080/",
          "height": 359
        },
        "id": "T6AQLYFB8wSO",
        "outputId": "33d3ef1b-0141-4050-cf94-913dbcff52ef"
      },
      "source": [
        "sns.heatmap(dfv.corr(), annot=True, fmt='.2f')"
      ],
      "execution_count": null,
      "outputs": [
        {
          "output_type": "execute_result",
          "data": {
            "text/plain": [
              "<matplotlib.axes._subplots.AxesSubplot at 0x7f416c1efa90>"
            ]
          },
          "metadata": {
            "tags": []
          },
          "execution_count": 72
        },
        {
          "output_type": "display_data",
          "data": {
            "image/png": "[encoded data removed]",
            "text/plain": [
              "<Figure size 432x288 with 2 Axes>"
            ]
          },
          "metadata": {
            "tags": []
          }
        }
      ]
    },
    {
      "cell_type": "markdown",
      "metadata": {
        "id": "ckqytJ4ZOZ-Y"
      },
      "source": [
        "From the heatmap we can easilt see that discount_price and old_price is highly corelated. And all other columns are not that much corelated."
      ]
    },
    {
      "cell_type": "markdown",
      "metadata": {
        "id": "Vb_ZfSUYNdli"
      },
      "source": [
        "# Box plot\n",
        "Comparision between Brand and discount given by that brand"
      ]
    },
    {
      "cell_type": "code",
      "metadata": {
        "colab": {
          "base_uri": "https://localhost:8080/"
        },
        "id": "HJze-H_y9qJW",
        "outputId": "a057415a-4b0b-4b56-97a5-304bad508018"
      },
      "source": [
        "grp=dfv.groupby(['brand','processor_type']).discount.sum()\n",
        "grp"
      ],
      "execution_count": null,
      "outputs": [
        {
          "output_type": "execute_result",
          "data": {
            "text/plain": [
              "brand      processor_type          \n",
              "Acer        Intel Celeron N4000          70.0\n",
              "            Intel Core i3-7020U         280.0\n",
              "            Intel Core i5-7200U           0.0\n",
              "            Intel Core i5-8265U           0.0\n",
              "            Intel Core i7-8550U        2100.0\n",
              "            Intel Core i7-8565U        1900.0\n",
              "Apple       Intel Core M3               400.0\n",
              "            Intel Core i5 Dual Core    2300.0\n",
              "            Intel Core i5 Quad Core       0.0\n",
              "            Intel Core i7 6 Core       1100.0\n",
              "            Intel Core i7 Quad Core       0.0\n",
              "Asus        Intel Celeron N4000         150.0\n",
              "            Intel Core i5-8250U        1900.0\n",
              "            Intel Core i5-8265U         450.0\n",
              "            Intel Core i7-7700HQ          0.0\n",
              "            Intel Core i7-8550U        1100.0\n",
              "            Intel Core i7-8565U        1700.0\n",
              "Dell        Intel Celeron N4000         100.0\n",
              "            Intel Core i3-7020U           0.0\n",
              "            Intel Core i5-7200U           0.0\n",
              "            Intel Core i5-8250U           0.0\n",
              "            Intel Core i7-7500U           0.0\n",
              "            Intel Core i7-7700HQ          0.0\n",
              "            Intel Core i7-7820HK          0.0\n",
              "            Intel Core i7-8550U           0.0\n",
              "            Intel Core i7-8565U         750.0\n",
              "            Intel Core i7-8750H           0.0\n",
              "HP          AMD A9-9425                   0.0\n",
              "            Intel Celeron N4000           0.0\n",
              "            Intel Core i3-6006U           0.0\n",
              "            Intel Core i3-7020U           0.0\n",
              "            Intel Core i3-8145U         340.0\n",
              "            Intel Core i5-8250U        1280.0\n",
              "            Intel Core i5-8265U           0.0\n",
              "            Intel Core i7-7500U           0.0\n",
              "            Intel Core i7-8550U         600.0\n",
              "            Intel Core i7-8565U        1250.0\n",
              "Huawei      Intel Core i5-8250U        1150.0\n",
              "            Intel Core i7-8550U        1000.0\n",
              "Lenovo      Intel Celeron N4000         200.0\n",
              "            Intel Core i3-8130U         190.0\n",
              "            Intel Core i3-8145U         560.0\n",
              "            Intel Core i5-8250U         950.0\n",
              "            Intel Core i5-8265U         550.0\n",
              "            Intel Core i7-8550U         310.0\n",
              "            Intel Core i7-8565U         400.0\n",
              "Microsoft   Intel Core i5-8250U           0.0\n",
              "Name: discount, dtype: float64"
            ]
          },
          "metadata": {
            "tags": []
          },
          "execution_count": 73
        }
      ]
    },
    {
      "cell_type": "code",
      "metadata": {
        "colab": {
          "base_uri": "https://localhost:8080/",
          "height": 302
        },
        "id": "CQtKL_t295nr",
        "outputId": "8d418ab2-3447-4cab-b4a0-d9fea88c3c3f"
      },
      "source": [
        "sns.boxplot(x='brand', y='discount', data=dfv)"
      ],
      "execution_count": null,
      "outputs": [
        {
          "output_type": "execute_result",
          "data": {
            "text/plain": [
              "<matplotlib.axes._subplots.AxesSubplot at 0x7f416bfe75d0>"
            ]
          },
          "metadata": {
            "tags": []
          },
          "execution_count": 75
        },
        {
          "output_type": "display_data",
          "data": {
            "image/png": "[encoded data removed]",
            "text/plain": [
              "<Figure size 432x288 with 1 Axes>"
            ]
          },
          "metadata": {
            "tags": []
          }
        }
      ]
    },
    {
      "cell_type": "markdown",
      "metadata": {
        "id": "-4_zNlKRN9jw"
      },
      "source": [
        "We can see that in every brand there is outlier for discount and Asus has highest median \n"
      ]
    },
    {
      "cell_type": "markdown",
      "metadata": {
        "id": "6D9HRCexNtIB"
      },
      "source": [
        "# Pie Chart \n",
        "TO find out the which brand of laptop are best selling"
      ]
    },
    {
      "cell_type": "code",
      "metadata": {
        "colab": {
          "base_uri": "https://localhost:8080/"
        },
        "id": "5KCfqZdgFedq",
        "outputId": "ffdbfebb-bc98-4ba4-d6f2-7ae2c24c3f98"
      },
      "source": [
        "grp_brand=dfv.groupby('brand').count()\n",
        "print(grp_brand)\n",
        "print(grp_brand.laptop_name)\n",
        "# for brand in grp_brand:\n",
        "#   print(brand)\n",
        "# plt.pie(grp_brand)"
      ],
      "execution_count": null,
      "outputs": [
        {
          "output_type": "stream",
          "text": [
            "           laptop_name  display_size  ...  ratings_5max  discount\n",
            "brand                                 ...                        \n",
            "Acer                12            12  ...            12        12\n",
            "Apple               16            16  ...            16        16\n",
            "Asus                12            12  ...            12        12\n",
            "Dell                16            16  ...            16        16\n",
            "HP                  25            25  ...            25        25\n",
            "Huawei               5             5  ...             5         5\n",
            "Lenovo              12            12  ...            12        12\n",
            "Microsoft            2             2  ...             2         2\n",
            "\n",
            "[8 rows x 9 columns]\n",
            "brand\n",
            "Acer         12\n",
            "Apple        16\n",
            "Asus         12\n",
            "Dell         16\n",
            "HP           25\n",
            "Huawei        5\n",
            "Lenovo       12\n",
            "Microsoft     2\n",
            "Name: laptop_name, dtype: int64\n"
          ],
          "name": "stdout"
        }
      ]
    },
    {
      "cell_type": "code",
      "metadata": {
        "colab": {
          "base_uri": "https://localhost:8080/",
          "height": 248
        },
        "id": "4yVbHNxF98AG",
        "outputId": "013acd49-08ba-4fc4-919c-2fd8ea15b4dd"
      },
      "source": [
        "grp_brand.laptop_name.plot.pie(autopct='%.2f');"
      ],
      "execution_count": null,
      "outputs": [
        {
          "output_type": "display_data",
          "data": {
            "image/png": "[encoded data removed]",
            "text/plain": [
              "<Figure size 432x288 with 1 Axes>"
            ]
          },
          "metadata": {
            "tags": []
          }
        }
      ]
    }
  ]
}