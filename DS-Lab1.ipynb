{
 "cells": [
  {
   "cell_type": "markdown",
   "metadata": {},
   "source": [
    "# Name : Katha Patel \n",
    "# Roll No : 41\n",
    "# GR No : 11810454\n",
    "## Assignment 1 - IRIS-GLASS\n",
    "### Importing Libraries"
   ]
  },
  {
   "cell_type": "code",
   "execution_count": 1,
   "metadata": {},
   "outputs": [],
   "source": [
    "import pandas as pd\n",
    "from scipy import stats\n",
    "import numpy as np\n",
    "import matplotlib.pyplot as plt"
   ]
  },
  {
   "cell_type": "markdown",
   "metadata": {},
   "source": [
    "#  IRIS Dataset\n",
    "### Finding mean, median, mode and midrange"
   ]
  },
  {
   "cell_type": "code",
   "execution_count": 2,
   "metadata": {},
   "outputs": [
    {
     "name": "stdout",
     "output_type": "stream",
     "text": [
      "SepalLengthCm\n",
      "Mean = 5.843333333333335\n",
      "Median = 5.8\n",
      "Mode = ModeResult(mode=array([5.]), count=array([10]))\n",
      "\n",
      "\n",
      "SepalWidthCm\n",
      "Mean = 3.0540000000000007\n",
      "Median = 3.0\n",
      "Mode = ModeResult(mode=array([3.]), count=array([26]))\n",
      "\n",
      "\n",
      "PetalLengthCm\n",
      "Mean = 3.7586666666666693\n",
      "Median = 4.35\n",
      "Mode = ModeResult(mode=array([1.5]), count=array([14]))\n",
      "\n",
      "\n",
      "PetalWidthCm\n",
      "Mean = 1.1986666666666672\n",
      "Median = 1.3\n",
      "Mode = ModeResult(mode=array([0.2]), count=array([28]))\n",
      "\n",
      "\n"
     ]
    }
   ],
   "source": [
    "df = pd.read_csv(\"dataset/datasets_19_420_Iris.csv\")\n",
    "print(\"SepalLengthCm\")\n",
    "print(\"Mean = \"+str(np.mean(df['SepalLengthCm'])))\n",
    "print(\"Median = \"+str(np.median(df['SepalLengthCm'])))\n",
    "print(\"Mode = \"+str(stats.mode(df['SepalLengthCm'])))\n",
    "print(\"\\n\")\n",
    "\n",
    "\n",
    "print(\"SepalWidthCm\")\n",
    "print(\"Mean = \"+str(np.mean(df['SepalWidthCm'])))\n",
    "print(\"Median = \"+str(np.median(df['SepalWidthCm'])))\n",
    "print(\"Mode = \"+str(stats.mode(df['SepalWidthCm'])))\n",
    "print(\"\\n\")\n",
    "\n",
    "\n",
    "print(\"PetalLengthCm\")\n",
    "print(\"Mean = \"+str(np.mean(df['PetalLengthCm'])))\n",
    "print(\"Median = \"+str(np.median(df['PetalLengthCm'])))\n",
    "print(\"Mode = \"+str(stats.mode(df['PetalLengthCm'])))\n",
    "print(\"\\n\")\n",
    "\n",
    "\n",
    "print(\"PetalWidthCm\")\n",
    "print(\"Mean = \"+str(np.mean(df['PetalWidthCm'])))\n",
    "print(\"Median = \"+str(np.median(df['PetalWidthCm'])))\n",
    "print(\"Mode = \"+str(stats.mode(df['PetalWidthCm'])))\n",
    "print(\"\\n\")"
   ]
  },
  {
   "cell_type": "markdown",
   "metadata": {},
   "source": [
    "### Box Plot of Attributes"
   ]
  },
  {
   "cell_type": "code",
   "execution_count": 3,
   "metadata": {},
   "outputs": [
    {
     "data": {
      "image/png": "[encoded data removed]",
      "text/plain": [
       "<Figure size 432x288 with 2 Axes>"
      ]
     },
     "metadata": {
      "needs_background": "light"
     },
     "output_type": "display_data"
    },
    {
     "data": {
      "image/png": "[encoded data removed]",
      "text/plain": [
       "<Figure size 432x288 with 2 Axes>"
      ]
     },
     "metadata": {
      "needs_background": "light"
     },
     "output_type": "display_data"
    }
   ],
   "source": [
    "plt.subplot(1,2,1)\n",
    "plt.boxplot(df['SepalLengthCm'])\n",
    "plt.title('SepalLengthCm')\n",
    "plt.subplot(1,2,2)\n",
    "plt.boxplot(df['SepalWidthCm'])\n",
    "plt.title('SepalWidthCm')\n",
    "plt.show() \n",
    "plt.subplot(1,2,1)\n",
    "plt.boxplot(df['PetalLengthCm'])\n",
    "plt.title('PetalLengthCm')\n",
    "plt.subplot(1,2,2)\n",
    "plt.boxplot(df['PetalWidthCm'])\n",
    "plt.title('PetalWidthCm')\n",
    "plt.show() "
   ]
  },
  {
   "cell_type": "markdown",
   "metadata": {},
   "source": [
    "### Identifying and Removing Outliers"
   ]
  },
  {
   "cell_type": "code",
   "execution_count": 4,
   "metadata": {},
   "outputs": [],
   "source": [
    "Q1 =  df['SepalWidthCm'].quantile(0.25)\n",
    "Q3 = df['SepalWidthCm'].quantile(0.75)\n",
    "IQR = Q3 - Q1"
   ]
  },
  {
   "cell_type": "code",
   "execution_count": 5,
   "metadata": {},
   "outputs": [
    {
     "name": "stdout",
     "output_type": "stream",
     "text": [
      "15    4.4\n",
      "32    4.1\n",
      "33    4.2\n",
      "60    2.0\n",
      "Name: SepalWidthCm, dtype: float64\n"
     ]
    }
   ],
   "source": [
    "gk=df[(df['SepalWidthCm'] < Q1-1.5*IQR ) | (df['SepalWidthCm'] > Q3+1.5*IQR)]['SepalWidthCm']\n",
    "print(gk)"
   ]
  },
  {
   "cell_type": "code",
   "execution_count": 6,
   "metadata": {},
   "outputs": [],
   "source": [
    "gk = list(gk.index)"
   ]
  },
  {
   "cell_type": "code",
   "execution_count": 7,
   "metadata": {},
   "outputs": [
    {
     "data": {
      "text/html": [
       "<div>\n",
       "<style scoped>\n",
       "    .dataframe tbody tr th:only-of-type {\n",
       "        vertical-align: middle;\n",
       "    }\n",
       "\n",
       "    .dataframe tbody tr th {\n",
       "        vertical-align: top;\n",
       "    }\n",
       "\n",
       "    .dataframe thead th {\n",
       "        text-align: right;\n",
       "    }\n",
       "</style>\n",
       "<table border=\"1\" class=\"dataframe\">\n",
       "  <thead>\n",
       "    <tr style=\"text-align: right;\">\n",
       "      <th></th>\n",
       "      <th>Id</th>\n",
       "      <th>SepalLengthCm</th>\n",
       "      <th>SepalWidthCm</th>\n",
       "      <th>PetalLengthCm</th>\n",
       "      <th>PetalWidthCm</th>\n",
       "      <th>Species</th>\n",
       "    </tr>\n",
       "  </thead>\n",
       "  <tbody>\n",
       "    <tr>\n",
       "      <th>0</th>\n",
       "      <td>1</td>\n",
       "      <td>5.1</td>\n",
       "      <td>3.5</td>\n",
       "      <td>1.4</td>\n",
       "      <td>0.2</td>\n",
       "      <td>Iris-setosa</td>\n",
       "    </tr>\n",
       "    <tr>\n",
       "      <th>1</th>\n",
       "      <td>2</td>\n",
       "      <td>4.9</td>\n",
       "      <td>3.0</td>\n",
       "      <td>1.4</td>\n",
       "      <td>0.2</td>\n",
       "      <td>Iris-setosa</td>\n",
       "    </tr>\n",
       "    <tr>\n",
       "      <th>2</th>\n",
       "      <td>3</td>\n",
       "      <td>4.7</td>\n",
       "      <td>3.2</td>\n",
       "      <td>1.3</td>\n",
       "      <td>0.2</td>\n",
       "      <td>Iris-setosa</td>\n",
       "    </tr>\n",
       "    <tr>\n",
       "      <th>3</th>\n",
       "      <td>4</td>\n",
       "      <td>4.6</td>\n",
       "      <td>3.1</td>\n",
       "      <td>1.5</td>\n",
       "      <td>0.2</td>\n",
       "      <td>Iris-setosa</td>\n",
       "    </tr>\n",
       "    <tr>\n",
       "      <th>4</th>\n",
       "      <td>5</td>\n",
       "      <td>5.0</td>\n",
       "      <td>3.6</td>\n",
       "      <td>1.4</td>\n",
       "      <td>0.2</td>\n",
       "      <td>Iris-setosa</td>\n",
       "    </tr>\n",
       "    <tr>\n",
       "      <th>...</th>\n",
       "      <td>...</td>\n",
       "      <td>...</td>\n",
       "      <td>...</td>\n",
       "      <td>...</td>\n",
       "      <td>...</td>\n",
       "      <td>...</td>\n",
       "    </tr>\n",
       "    <tr>\n",
       "      <th>145</th>\n",
       "      <td>146</td>\n",
       "      <td>6.7</td>\n",
       "      <td>3.0</td>\n",
       "      <td>5.2</td>\n",
       "      <td>2.3</td>\n",
       "      <td>Iris-virginica</td>\n",
       "    </tr>\n",
       "    <tr>\n",
       "      <th>146</th>\n",
       "      <td>147</td>\n",
       "      <td>6.3</td>\n",
       "      <td>2.5</td>\n",
       "      <td>5.0</td>\n",
       "      <td>1.9</td>\n",
       "      <td>Iris-virginica</td>\n",
       "    </tr>\n",
       "    <tr>\n",
       "      <th>147</th>\n",
       "      <td>148</td>\n",
       "      <td>6.5</td>\n",
       "      <td>3.0</td>\n",
       "      <td>5.2</td>\n",
       "      <td>2.0</td>\n",
       "      <td>Iris-virginica</td>\n",
       "    </tr>\n",
       "    <tr>\n",
       "      <th>148</th>\n",
       "      <td>149</td>\n",
       "      <td>6.2</td>\n",
       "      <td>3.4</td>\n",
       "      <td>5.4</td>\n",
       "      <td>2.3</td>\n",
       "      <td>Iris-virginica</td>\n",
       "    </tr>\n",
       "    <tr>\n",
       "      <th>149</th>\n",
       "      <td>150</td>\n",
       "      <td>5.9</td>\n",
       "      <td>3.0</td>\n",
       "      <td>5.1</td>\n",
       "      <td>1.8</td>\n",
       "      <td>Iris-virginica</td>\n",
       "    </tr>\n",
       "  </tbody>\n",
       "</table>\n",
       "<p>146 rows × 6 columns</p>\n",
       "</div>"
      ],
      "text/plain": [
       "      Id  SepalLengthCm  SepalWidthCm  PetalLengthCm  PetalWidthCm  \\\n",
       "0      1            5.1           3.5            1.4           0.2   \n",
       "1      2            4.9           3.0            1.4           0.2   \n",
       "2      3            4.7           3.2            1.3           0.2   \n",
       "3      4            4.6           3.1            1.5           0.2   \n",
       "4      5            5.0           3.6            1.4           0.2   \n",
       "..   ...            ...           ...            ...           ...   \n",
       "145  146            6.7           3.0            5.2           2.3   \n",
       "146  147            6.3           2.5            5.0           1.9   \n",
       "147  148            6.5           3.0            5.2           2.0   \n",
       "148  149            6.2           3.4            5.4           2.3   \n",
       "149  150            5.9           3.0            5.1           1.8   \n",
       "\n",
       "            Species  \n",
       "0       Iris-setosa  \n",
       "1       Iris-setosa  \n",
       "2       Iris-setosa  \n",
       "3       Iris-setosa  \n",
       "4       Iris-setosa  \n",
       "..              ...  \n",
       "145  Iris-virginica  \n",
       "146  Iris-virginica  \n",
       "147  Iris-virginica  \n",
       "148  Iris-virginica  \n",
       "149  Iris-virginica  \n",
       "\n",
       "[146 rows x 6 columns]"
      ]
     },
     "execution_count": 7,
     "metadata": {},
     "output_type": "execute_result"
    }
   ],
   "source": [
    "dff = df.drop(gk)\n",
    "dff"
   ]
  },
  {
   "cell_type": "markdown",
   "metadata": {},
   "source": [
    "### Boxplot After removing Outliers"
   ]
  },
  {
   "cell_type": "code",
   "execution_count": 8,
   "metadata": {},
   "outputs": [
    {
     "data": {
      "image/png": "[encoded data removed]",
      "text/plain": [
       "<Figure size 432x288 with 2 Axes>"
      ]
     },
     "metadata": {
      "needs_background": "light"
     },
     "output_type": "display_data"
    },
    {
     "data": {
      "image/png": "[encoded data removed]",
      "text/plain": [
       "<Figure size 432x288 with 2 Axes>"
      ]
     },
     "metadata": {
      "needs_background": "light"
     },
     "output_type": "display_data"
    }
   ],
   "source": [
    "plt.subplot(1,2,1)\n",
    "plt.boxplot(dff['SepalLengthCm'])\n",
    "plt.title('SepalLengthCm')\n",
    "plt.subplot(1,2,2)\n",
    "plt.boxplot(dff['SepalWidthCm'])\n",
    "plt.title('SepalWidthCm')\n",
    "plt.show() \n",
    "plt.subplot(1,2,1)\n",
    "plt.boxplot(dff['PetalLengthCm'])\n",
    "plt.title('PetalLengthCm')\n",
    "plt.subplot(1,2,2)\n",
    "plt.boxplot(dff['PetalWidthCm'])\n",
    "plt.title('PetalWidthCm')\n",
    "plt.show() "
   ]
  },
  {
   "cell_type": "markdown",
   "metadata": {},
   "source": [
    "### Finding mean, median and mode after removing Outliers"
   ]
  },
  {
   "cell_type": "code",
   "execution_count": 9,
   "metadata": {},
   "outputs": [
    {
     "name": "stdout",
     "output_type": "stream",
     "text": [
      "SepalLengthCm\n",
      "Mean = 5.856849315068494\n",
      "Median = 5.8\n",
      "Mode = ModeResult(mode=array([5.]), count=array([9]))\n",
      "\n",
      "\n",
      "SepalWidthCm\n",
      "Mean = 3.036986301369864\n",
      "Median = 3.0\n",
      "Mode = ModeResult(mode=array([3.]), count=array([26]))\n",
      "\n",
      "\n",
      "PetalLengthCm\n",
      "Mean = 3.8075342465753454\n",
      "Median = 4.4\n",
      "Mode = ModeResult(mode=array([1.5]), count=array([12]))\n",
      "\n",
      "\n",
      "PetalWidthCm\n",
      "Mean = 1.2198630136986308\n",
      "Median = 1.3\n",
      "Mode = ModeResult(mode=array([0.2]), count=array([27]))\n",
      "\n",
      "\n"
     ]
    }
   ],
   "source": [
    "print(\"SepalLengthCm\")\n",
    "print(\"Mean = \"+str(np.mean(dff['SepalLengthCm'])))\n",
    "print(\"Median = \"+str(np.median(dff['SepalLengthCm'])))\n",
    "print(\"Mode = \"+str(stats.mode(dff['SepalLengthCm'])))\n",
    "print(\"\\n\")\n",
    "\n",
    "\n",
    "print(\"SepalWidthCm\")\n",
    "print(\"Mean = \"+str(np.mean(dff['SepalWidthCm'])))\n",
    "print(\"Median = \"+str(np.median(dff['SepalWidthCm'])))\n",
    "print(\"Mode = \"+str(stats.mode(dff['SepalWidthCm'])))\n",
    "print(\"\\n\")\n",
    "\n",
    "\n",
    "print(\"PetalLengthCm\")\n",
    "print(\"Mean = \"+str(np.mean(dff['PetalLengthCm'])))\n",
    "print(\"Median = \"+str(np.median(dff['PetalLengthCm'])))\n",
    "print(\"Mode = \"+str(stats.mode(dff['PetalLengthCm'])))\n",
    "print(\"\\n\")\n",
    "\n",
    "\n",
    "print(\"PetalWidthCm\")\n",
    "print(\"Mean = \"+str(np.mean(dff['PetalWidthCm'])))\n",
    "print(\"Median = \"+str(np.median(dff['PetalWidthCm'])))\n",
    "print(\"Mode = \"+str(stats.mode(dff['PetalWidthCm'])))\n",
    "print(\"\\n\")"
   ]
  },
  {
   "cell_type": "markdown",
   "metadata": {},
   "source": [
    "### Finding the standard deviation and variance of those observations having highest mode with respect to species\n",
    "### Finding the highest Mode with respect to species"
   ]
  },
  {
   "cell_type": "code",
   "execution_count": 10,
   "metadata": {},
   "outputs": [
    {
     "name": "stdout",
     "output_type": "stream",
     "text": [
      "5.0 5.5 6.3\n",
      "Max : 6.3\n",
      "3.4 3.0 3.0\n",
      "Max : 3.4\n",
      "1.5 4.5 5.1\n",
      "Max : 5.1\n",
      "0.2 1.3 1.8\n",
      "Max : 1.8\n"
     ]
    }
   ],
   "source": [
    "modeSL1 = stats.mode(df.groupby('Species').get_group('Iris-setosa')['SepalLengthCm'])\n",
    "modeSL2 = stats.mode(df.groupby('Species').get_group('Iris-versicolor')['SepalLengthCm'])\n",
    "modeSL3 = stats.mode(df.groupby('Species').get_group('Iris-virginica')['SepalLengthCm'])\n",
    "print(modeSL1[0][0],modeSL2[0][0],modeSL3[0][0])\n",
    "print(\"Max : \"+str(max(modeSL1[0][0],modeSL2[0][0],modeSL3[0][0])))\n",
    "\n",
    "\n",
    "modeSW1 = stats.mode(df.groupby('Species').get_group('Iris-setosa')['SepalWidthCm'])\n",
    "modeSW2 = stats.mode(df.groupby('Species').get_group('Iris-versicolor')['SepalWidthCm'])\n",
    "modeSW3 = stats.mode(df.groupby('Species').get_group('Iris-virginica')['SepalWidthCm'])\n",
    "print(modeSW1[0][0],modeSW2[0][0],modeSW3[0][0])\n",
    "print(\"Max : \"+str(max(modeSW1[0][0],modeSW2[0][0],modeSW3[0][0])))\n",
    "\n",
    "modePL1 = stats.mode(df.groupby('Species').get_group('Iris-setosa')['PetalLengthCm'])\n",
    "modePL2 = stats.mode(df.groupby('Species').get_group('Iris-versicolor')['PetalLengthCm'])\n",
    "modePL3 = stats.mode(df.groupby('Species').get_group('Iris-virginica')['PetalLengthCm'])\n",
    "print(modePL1[0][0],modePL2[0][0],modePL3[0][0])\n",
    "print(\"Max : \"+str(max(modePL1[0][0],modePL2[0][0],modePL3[0][0])))\n",
    "\n",
    "modePW1 = stats.mode(df.groupby('Species').get_group('Iris-setosa')['PetalWidthCm'])\n",
    "modePW2 = stats.mode(df.groupby('Species').get_group('Iris-versicolor')['PetalWidthCm'])\n",
    "modePW3 = stats.mode(df.groupby('Species').get_group('Iris-virginica')['PetalWidthCm'])\n",
    "print(modePW1[0][0],modePW2[0][0],modePW3[0][0])\n",
    "print(\"Max : \"+str(max(modePW1[0][0],modePW2[0][0],modePW3[0][0])))\n"
   ]
  },
  {
   "cell_type": "markdown",
   "metadata": {},
   "source": [
    "### Standard Deviation"
   ]
  },
  {
   "cell_type": "code",
   "execution_count": 11,
   "metadata": {},
   "outputs": [
    {
     "name": "stdout",
     "output_type": "stream",
     "text": [
      "SepalLengthCm : 0.6294886813914925\n",
      "SepalWidthCm : 0.37719490982779713\n",
      "PetalLengthCm : 0.5463478745268441\n",
      "PetalWidthCm : 0.2718896835115301\n"
     ]
    }
   ],
   "source": [
    "print(\"SepalLengthCm : \"+str(np.std(df.groupby('Species').get_group('Iris-virginica')['SepalLengthCm'])))\n",
    "print(\"SepalWidthCm : \"+str(np.std(df.groupby('Species').get_group('Iris-setosa')['SepalWidthCm'])))\n",
    "print(\"PetalLengthCm : \"+str(np.std(df.groupby('Species').get_group('Iris-virginica')['PetalLengthCm'])))\n",
    "print(\"PetalWidthCm : \"+str(np.std(df.groupby('Species').get_group('Iris-virginica')['PetalWidthCm'])))"
   ]
  },
  {
   "cell_type": "markdown",
   "metadata": {},
   "source": [
    "### Variance"
   ]
  },
  {
   "cell_type": "code",
   "execution_count": 12,
   "metadata": {},
   "outputs": [
    {
     "name": "stdout",
     "output_type": "stream",
     "text": [
      "SepalLengthCm : 0.39625599999999994\n",
      "SepalWidthCm : 0.142276\n",
      "PetalLengthCm : 0.2984960000000002\n",
      "PetalWidthCm : 0.07392399999999999\n"
     ]
    }
   ],
   "source": [
    "print(\"SepalLengthCm : \"+str(np.var(df.groupby('Species').get_group('Iris-virginica')['SepalLengthCm'])))\n",
    "print(\"SepalWidthCm : \"+str(np.var(df.groupby('Species').get_group('Iris-setosa')['SepalWidthCm'])))\n",
    "print(\"PetalLengthCm : \"+str(np.var(df.groupby('Species').get_group('Iris-virginica')['PetalLengthCm'])))\n",
    "print(\"PetalWidthCm : \"+str(np.var(df.groupby('Species').get_group('Iris-virginica')['PetalWidthCm'])))"
   ]
  },
  {
   "cell_type": "markdown",
   "metadata": {},
   "source": [
    "### Checking for balanced Dataset"
   ]
  },
  {
   "cell_type": "code",
   "execution_count": 13,
   "metadata": {},
   "outputs": [
    {
     "data": {
      "text/html": [
       "<div>\n",
       "<style scoped>\n",
       "    .dataframe tbody tr th:only-of-type {\n",
       "        vertical-align: middle;\n",
       "    }\n",
       "\n",
       "    .dataframe tbody tr th {\n",
       "        vertical-align: top;\n",
       "    }\n",
       "\n",
       "    .dataframe thead th {\n",
       "        text-align: right;\n",
       "    }\n",
       "</style>\n",
       "<table border=\"1\" class=\"dataframe\">\n",
       "  <thead>\n",
       "    <tr style=\"text-align: right;\">\n",
       "      <th></th>\n",
       "      <th>Id</th>\n",
       "      <th>SepalLengthCm</th>\n",
       "      <th>SepalWidthCm</th>\n",
       "      <th>PetalLengthCm</th>\n",
       "      <th>PetalWidthCm</th>\n",
       "    </tr>\n",
       "    <tr>\n",
       "      <th>Species</th>\n",
       "      <th></th>\n",
       "      <th></th>\n",
       "      <th></th>\n",
       "      <th></th>\n",
       "      <th></th>\n",
       "    </tr>\n",
       "  </thead>\n",
       "  <tbody>\n",
       "    <tr>\n",
       "      <th>Iris-setosa</th>\n",
       "      <td>50</td>\n",
       "      <td>50</td>\n",
       "      <td>50</td>\n",
       "      <td>50</td>\n",
       "      <td>50</td>\n",
       "    </tr>\n",
       "    <tr>\n",
       "      <th>Iris-versicolor</th>\n",
       "      <td>50</td>\n",
       "      <td>50</td>\n",
       "      <td>50</td>\n",
       "      <td>50</td>\n",
       "      <td>50</td>\n",
       "    </tr>\n",
       "    <tr>\n",
       "      <th>Iris-virginica</th>\n",
       "      <td>50</td>\n",
       "      <td>50</td>\n",
       "      <td>50</td>\n",
       "      <td>50</td>\n",
       "      <td>50</td>\n",
       "    </tr>\n",
       "  </tbody>\n",
       "</table>\n",
       "</div>"
      ],
      "text/plain": [
       "                 Id  SepalLengthCm  SepalWidthCm  PetalLengthCm  PetalWidthCm\n",
       "Species                                                                      \n",
       "Iris-setosa      50             50            50             50            50\n",
       "Iris-versicolor  50             50            50             50            50\n",
       "Iris-virginica   50             50            50             50            50"
      ]
     },
     "execution_count": 13,
     "metadata": {},
     "output_type": "execute_result"
    }
   ],
   "source": [
    "df.groupby('Species').count()"
   ]
  },
  {
   "cell_type": "markdown",
   "metadata": {},
   "source": [
    "### Scatter plot of sepal length vs sepal width"
   ]
  },
  {
   "cell_type": "code",
   "execution_count": 14,
   "metadata": {},
   "outputs": [
    {
     "data": {
      "image/png": "[encoded data removed]",
      "text/plain": [
       "<Figure size 432x288 with 1 Axes>"
      ]
     },
     "metadata": {
      "needs_background": "light"
     },
     "output_type": "display_data"
    }
   ],
   "source": [
    "plt.scatter(df['SepalLengthCm'],df['SepalWidthCm'])\n",
    "plt.title('Scatter Plot of SepalLengthCm VS SepalWidthCm')\n",
    "plt.show()"
   ]
  },
  {
   "cell_type": "markdown",
   "metadata": {},
   "source": [
    "### Scatter plot of sepal length vs sepal width for each flower\n",
    "### Iris-setosa"
   ]
  },
  {
   "cell_type": "code",
   "execution_count": 15,
   "metadata": {},
   "outputs": [
    {
     "data": {
      "image/png": "[encoded data removed]",
      "text/plain": [
       "<Figure size 432x288 with 1 Axes>"
      ]
     },
     "metadata": {
      "needs_background": "light"
     },
     "output_type": "display_data"
    }
   ],
   "source": [
    "j = df.groupby('Species').get_group('Iris-setosa')['SepalLengthCm']\n",
    "k = df.groupby('Species').get_group('Iris-setosa')['SepalWidthCm']\n",
    "plt.scatter(j,k)\n",
    "plt.title('Scatter Plot of SepalLengthCm VS SepalWidthCm of Iris-setosa')\n",
    "plt.show()"
   ]
  },
  {
   "cell_type": "markdown",
   "metadata": {},
   "source": [
    "### Iris-versicolor"
   ]
  },
  {
   "cell_type": "code",
   "execution_count": 16,
   "metadata": {
    "scrolled": true
   },
   "outputs": [
    {
     "data": {
      "image/png": "[encoded data removed]",
      "text/plain": [
       "<Figure size 432x288 with 1 Axes>"
      ]
     },
     "metadata": {
      "needs_background": "light"
     },
     "output_type": "display_data"
    }
   ],
   "source": [
    "j = df.groupby('Species').get_group('Iris-versicolor')['SepalLengthCm']\n",
    "k = df.groupby('Species').get_group('Iris-versicolor')['SepalWidthCm']\n",
    "plt.scatter(j,k)\n",
    "plt.title('Scatter Plot of SepalLengthCm VS SepalWidthCm of Iris-versicolor')\n",
    "plt.show()"
   ]
  },
  {
   "cell_type": "markdown",
   "metadata": {},
   "source": [
    "### Iris-virginica"
   ]
  },
  {
   "cell_type": "code",
   "execution_count": 17,
   "metadata": {
    "scrolled": true
   },
   "outputs": [
    {
     "data": {
      "image/png": "[encoded data removed]",
      "text/plain": [
       "<Figure size 432x288 with 1 Axes>"
      ]
     },
     "metadata": {
      "needs_background": "light"
     },
     "output_type": "display_data"
    }
   ],
   "source": [
    "j = df.groupby('Species').get_group('Iris-virginica')['SepalLengthCm']\n",
    "k = df.groupby('Species').get_group('Iris-virginica')['SepalWidthCm']\n",
    "plt.scatter(j,k)\n",
    "plt.title('Scatter Plot of SepalLengthCm VS SepalWidthCm of Iris-virginica')\n",
    "plt.show()"
   ]
  },
  {
   "cell_type": "markdown",
   "metadata": {},
   "source": [
    "### Box plots of attributes by Iris species\n",
    "### SepalLengthCm of Species"
   ]
  },
  {
   "cell_type": "code",
   "execution_count": 18,
   "metadata": {
    "scrolled": false
   },
   "outputs": [
    {
     "data": {
      "image/png": "[encoded data removed]",
      "text/plain": [
       "<Figure size 432x288 with 3 Axes>"
      ]
     },
     "metadata": {
      "needs_background": "light"
     },
     "output_type": "display_data"
    }
   ],
   "source": [
    "plt.subplots_adjust(hspace=0.4, wspace=0.4)\n",
    "i = df.groupby('Species').get_group('Iris-setosa')['SepalLengthCm']\n",
    "plt.subplot(1,3,1)\n",
    "plt.boxplot(i)\n",
    "plt.title('Iris-setosa')\n",
    "i = df.groupby('Species').get_group('Iris-versicolor')['SepalLengthCm']\n",
    "plt.subplot(1,3,2)\n",
    "plt.boxplot(i)\n",
    "plt.title('Iris-versicolor')\n",
    "i = df.groupby('Species').get_group('Iris-virginica')['SepalLengthCm']\n",
    "plt.subplot(1,3,3)\n",
    "plt.boxplot(i)\n",
    "plt.title('Iris-virginica')\n",
    "plt.show()"
   ]
  },
  {
   "cell_type": "markdown",
   "metadata": {},
   "source": [
    "### SepalWidthCm of Species"
   ]
  },
  {
   "cell_type": "code",
   "execution_count": 19,
   "metadata": {},
   "outputs": [
    {
     "data": {
      "image/png": "[encoded data removed]",
      "text/plain": [
       "<Figure size 432x288 with 3 Axes>"
      ]
     },
     "metadata": {
      "needs_background": "light"
     },
     "output_type": "display_data"
    }
   ],
   "source": [
    "i = df.groupby('Species').get_group('Iris-setosa')['SepalWidthCm']\n",
    "plt.subplots_adjust(hspace=0.4, wspace=0.4)\n",
    "plt.subplot(1,3,1)\n",
    "plt.boxplot(i)\n",
    "plt.title('Iris-setosa')\n",
    "i = df.groupby('Species').get_group('Iris-versicolor')['SepalWidthCm']\n",
    "plt.subplot(1,3,2)\n",
    "plt.boxplot(i)\n",
    "plt.title('Iris-versicolor')\n",
    "i = df.groupby('Species').get_group('Iris-virginica')['SepalWidthCm']\n",
    "plt.subplot(1,3,3)\n",
    "plt.boxplot(i)\n",
    "plt.title('Iris-virginica')\n",
    "plt.show()"
   ]
  },
  {
   "cell_type": "markdown",
   "metadata": {},
   "source": [
    "### PetalLengthCm of Species"
   ]
  },
  {
   "cell_type": "code",
   "execution_count": 20,
   "metadata": {},
   "outputs": [
    {
     "data": {
      "image/png": "[encoded data removed]",
      "text/plain": [
       "<Figure size 432x288 with 3 Axes>"
      ]
     },
     "metadata": {
      "needs_background": "light"
     },
     "output_type": "display_data"
    }
   ],
   "source": [
    "i = df.groupby('Species').get_group('Iris-setosa')['PetalLengthCm']\n",
    "plt.subplots_adjust(hspace=0.4, wspace=0.4)\n",
    "plt.subplot(1,3,1)\n",
    "plt.boxplot(i)\n",
    "plt.title('Iris-setosa')\n",
    "i = df.groupby('Species').get_group('Iris-versicolor')['PetalLengthCm']\n",
    "plt.subplot(1,3,2)\n",
    "plt.boxplot(i)\n",
    "plt.title('Iris-versicolor')\n",
    "i = df.groupby('Species').get_group('Iris-virginica')['PetalLengthCm']\n",
    "plt.subplot(1,3,3)\n",
    "plt.boxplot(i)\n",
    "plt.title('Iris-virginica')\n",
    "plt.show()"
   ]
  },
  {
   "cell_type": "markdown",
   "metadata": {},
   "source": [
    "### PetalWidthCm of Species"
   ]
  },
  {
   "cell_type": "code",
   "execution_count": 21,
   "metadata": {},
   "outputs": [
    {
     "data": {
      "image/png": "[encoded data removed]",
      "text/plain": [
       "<Figure size 432x288 with 3 Axes>"
      ]
     },
     "metadata": {
      "needs_background": "light"
     },
     "output_type": "display_data"
    }
   ],
   "source": [
    "i = df.groupby('Species').get_group('Iris-setosa')['PetalWidthCm']\n",
    "plt.subplots_adjust(hspace=0.4, wspace=0.4)\n",
    "plt.subplot(1,3,1)\n",
    "plt.boxplot(i)\n",
    "plt.title('Iris-setosa')\n",
    "i = df.groupby('Species').get_group('Iris-versicolor')['PetalWidthCm']\n",
    "plt.subplot(1,3,2)\n",
    "plt.boxplot(i)\n",
    "plt.title('Iris-versicolor')\n",
    "i = df.groupby('Species').get_group('Iris-virginica')['PetalWidthCm']\n",
    "plt.subplot(1,3,3)\n",
    "plt.boxplot(i)\n",
    "plt.title('Iris-virginica')\n",
    "plt.show()"
   ]
  },
  {
   "cell_type": "markdown",
   "metadata": {},
   "source": [
    "### Boxplot of petal length by Iris species"
   ]
  },
  {
   "cell_type": "code",
   "execution_count": 22,
   "metadata": {
    "scrolled": false
   },
   "outputs": [
    {
     "data": {
      "image/png": "[encoded data removed]",
      "text/plain": [
       "<Figure size 432x288 with 3 Axes>"
      ]
     },
     "metadata": {
      "needs_background": "light"
     },
     "output_type": "display_data"
    }
   ],
   "source": [
    "i = df.groupby('Species').get_group('Iris-setosa')['PetalLengthCm']\n",
    "plt.subplots_adjust(hspace=0.4, wspace=0.4)\n",
    "plt.subplot(1,3,1)\n",
    "plt.boxplot(i)\n",
    "plt.title('Iris-setosa')\n",
    "i = df.groupby('Species').get_group('Iris-versicolor')['PetalLengthCm']\n",
    "plt.subplot(1,3,2)\n",
    "plt.boxplot(i)\n",
    "plt.title('Iris-versicolor')\n",
    "i = df.groupby('Species').get_group('Iris-virginica')['PetalLengthCm']\n",
    "plt.subplot(1,3,3)\n",
    "plt.boxplot(i)\n",
    "plt.title('Iris-virginica')\n",
    "plt.show()"
   ]
  },
  {
   "cell_type": "markdown",
   "metadata": {},
   "source": [
    "# GLASS Dataset\n",
    "### Read The Dataset"
   ]
  },
  {
   "cell_type": "code",
   "execution_count": 23,
   "metadata": {},
   "outputs": [
    {
     "data": {
      "text/html": [
       "<div>\n",
       "<style scoped>\n",
       "    .dataframe tbody tr th:only-of-type {\n",
       "        vertical-align: middle;\n",
       "    }\n",
       "\n",
       "    .dataframe tbody tr th {\n",
       "        vertical-align: top;\n",
       "    }\n",
       "\n",
       "    .dataframe thead th {\n",
       "        text-align: right;\n",
       "    }\n",
       "</style>\n",
       "<table border=\"1\" class=\"dataframe\">\n",
       "  <thead>\n",
       "    <tr style=\"text-align: right;\">\n",
       "      <th></th>\n",
       "      <th>RI</th>\n",
       "      <th>Na</th>\n",
       "      <th>Mg</th>\n",
       "      <th>Al</th>\n",
       "      <th>Si</th>\n",
       "      <th>K</th>\n",
       "      <th>Ca</th>\n",
       "      <th>Ba</th>\n",
       "      <th>Fe</th>\n",
       "      <th>Type</th>\n",
       "    </tr>\n",
       "  </thead>\n",
       "  <tbody>\n",
       "    <tr>\n",
       "      <th>0</th>\n",
       "      <td>1.52101</td>\n",
       "      <td>13.64</td>\n",
       "      <td>4.49</td>\n",
       "      <td>1.10</td>\n",
       "      <td>71.78</td>\n",
       "      <td>0.06</td>\n",
       "      <td>8.75</td>\n",
       "      <td>0.0</td>\n",
       "      <td>0.0</td>\n",
       "      <td>1</td>\n",
       "    </tr>\n",
       "    <tr>\n",
       "      <th>1</th>\n",
       "      <td>1.51761</td>\n",
       "      <td>13.89</td>\n",
       "      <td>3.60</td>\n",
       "      <td>1.36</td>\n",
       "      <td>72.73</td>\n",
       "      <td>0.48</td>\n",
       "      <td>7.83</td>\n",
       "      <td>0.0</td>\n",
       "      <td>0.0</td>\n",
       "      <td>1</td>\n",
       "    </tr>\n",
       "    <tr>\n",
       "      <th>2</th>\n",
       "      <td>1.51618</td>\n",
       "      <td>13.53</td>\n",
       "      <td>3.55</td>\n",
       "      <td>1.54</td>\n",
       "      <td>72.99</td>\n",
       "      <td>0.39</td>\n",
       "      <td>7.78</td>\n",
       "      <td>0.0</td>\n",
       "      <td>0.0</td>\n",
       "      <td>1</td>\n",
       "    </tr>\n",
       "    <tr>\n",
       "      <th>3</th>\n",
       "      <td>1.51766</td>\n",
       "      <td>13.21</td>\n",
       "      <td>3.69</td>\n",
       "      <td>1.29</td>\n",
       "      <td>72.61</td>\n",
       "      <td>0.57</td>\n",
       "      <td>8.22</td>\n",
       "      <td>0.0</td>\n",
       "      <td>0.0</td>\n",
       "      <td>1</td>\n",
       "    </tr>\n",
       "    <tr>\n",
       "      <th>4</th>\n",
       "      <td>1.51742</td>\n",
       "      <td>13.27</td>\n",
       "      <td>3.62</td>\n",
       "      <td>1.24</td>\n",
       "      <td>73.08</td>\n",
       "      <td>0.55</td>\n",
       "      <td>8.07</td>\n",
       "      <td>0.0</td>\n",
       "      <td>0.0</td>\n",
       "      <td>1</td>\n",
       "    </tr>\n",
       "  </tbody>\n",
       "</table>\n",
       "</div>"
      ],
      "text/plain": [
       "        RI     Na    Mg    Al     Si     K    Ca   Ba   Fe  Type\n",
       "0  1.52101  13.64  4.49  1.10  71.78  0.06  8.75  0.0  0.0     1\n",
       "1  1.51761  13.89  3.60  1.36  72.73  0.48  7.83  0.0  0.0     1\n",
       "2  1.51618  13.53  3.55  1.54  72.99  0.39  7.78  0.0  0.0     1\n",
       "3  1.51766  13.21  3.69  1.29  72.61  0.57  8.22  0.0  0.0     1\n",
       "4  1.51742  13.27  3.62  1.24  73.08  0.55  8.07  0.0  0.0     1"
      ]
     },
     "execution_count": 23,
     "metadata": {},
     "output_type": "execute_result"
    }
   ],
   "source": [
    "df = pd.read_csv(\"dataset/datasets_738_1370_glass.csv\")\n",
    "df.head()"
   ]
  },
  {
   "cell_type": "markdown",
   "metadata": {},
   "source": [
    "### Boxplot of the Attributes"
   ]
  },
  {
   "cell_type": "code",
   "execution_count": 24,
   "metadata": {},
   "outputs": [
    {
     "data": {
      "image/png": "[encoded data removed]",
      "text/plain": [
       "<Figure size 432x288 with 3 Axes>"
      ]
     },
     "metadata": {
      "needs_background": "light"
     },
     "output_type": "display_data"
    }
   ],
   "source": [
    "plt.subplots_adjust(hspace=0.4, wspace=0.4)\n",
    "plt.subplot(1,3,1)\n",
    "plt.boxplot(df['RI'])\n",
    "plt.title(\"RI\")\n",
    "\n",
    "plt.subplot(1,3,2)\n",
    "plt.boxplot(df['Na'])\n",
    "plt.title(\"Na\")\n",
    "\n",
    "plt.subplot(1,3,3)\n",
    "plt.boxplot(df['Mg'])\n",
    "plt.title(\"Mg\")\n",
    "plt.show()"
   ]
  },
  {
   "cell_type": "code",
   "execution_count": 25,
   "metadata": {},
   "outputs": [
    {
     "data": {
      "image/png": "[encoded data removed]",
      "text/plain": [
       "<Figure size 432x288 with 3 Axes>"
      ]
     },
     "metadata": {
      "needs_background": "light"
     },
     "output_type": "display_data"
    }
   ],
   "source": [
    "plt.subplots_adjust(hspace=0.4, wspace=0.4)\n",
    "plt.subplot(1,3,1)\n",
    "plt.title(\"Al\")\n",
    "plt.boxplot(df['Al'])\n",
    "\n",
    "plt.subplot(1,3,2)\n",
    "plt.title(\"Si\")\n",
    "plt.boxplot(df['Si'])\n",
    "\n",
    "plt.subplot(1,3,3)\n",
    "plt.title(\"K\")\n",
    "plt.boxplot(df['K'])\n",
    "plt.show()"
   ]
  },
  {
   "cell_type": "code",
   "execution_count": 26,
   "metadata": {},
   "outputs": [
    {
     "data": {
      "image/png": "[encoded data removed]",
      "text/plain": [
       "<Figure size 432x288 with 3 Axes>"
      ]
     },
     "metadata": {
      "needs_background": "light"
     },
     "output_type": "display_data"
    }
   ],
   "source": [
    "plt.subplots_adjust(hspace=0.5,wspace=0.5)\n",
    "plt.subplot(1,4,1)\n",
    "plt.title(\"Ca\")\n",
    "plt.boxplot(df['Ca'])\n",
    "\n",
    "plt.subplot(1,4,2)\n",
    "plt.title(\"Ba\")\n",
    "plt.boxplot(df['Ba'])\n",
    "\n",
    "plt.subplot(1,4,3)\n",
    "plt.title(\"Fe\")\n",
    "plt.boxplot(df['Fe'])\n",
    "plt.show()"
   ]
  },
  {
   "cell_type": "markdown",
   "metadata": {},
   "source": [
    "### Identifying and Removing the outliers using IQR"
   ]
  },
  {
   "cell_type": "code",
   "execution_count": 27,
   "metadata": {},
   "outputs": [
    {
     "data": {
      "image/png": "[encoded data removed]",
      "text/plain": [
       "<Figure size 432x288 with 3 Axes>"
      ]
     },
     "metadata": {
      "needs_background": "light"
     },
     "output_type": "display_data"
    }
   ],
   "source": [
    "dfy=pd.read_csv(\"dataset/datasets_738_1370_glass.csv\")\n",
    "plt.subplots_adjust(hspace=0.9,wspace=0.9)\n",
    "Df=dfy['RI']\n",
    "\n",
    "Q1 =  dfy['RI'].quantile(0.25)\n",
    "Q3 = dfy['RI'].quantile(0.75)\n",
    "IQR = Q3 - Q1\n",
    "\n",
    "dfRI=dfy[(dfy['RI'] < Q1- 1.5*IQR ) | (dfy['RI'] > Q3+1.5*IQR)]['RI']\n",
    "Df=Df.drop(dfRI.index)\n",
    "plt.subplot(1,3,1)\n",
    "plt.title(\"RI\")\n",
    "plt.boxplot(Df)\n",
    "\n",
    "\n",
    "Df=dfy['Na']\n",
    "Q1 =  dfy['Na'].quantile(0.25)\n",
    "Q3 = dfy['Na'].quantile(0.75)\n",
    "IQR = Q3 - Q1\n",
    "\n",
    "dfRI=dfy[(dfy['Na'] < Q1- 1.5*IQR ) | (dfy['Na'] > Q3+1.5*IQR)]['Na']\n",
    "\n",
    "Df=Df.drop(dfRI.index)\n",
    "plt.subplot(1,3,2)\n",
    "plt.title(\"Na\")\n",
    "plt.boxplot(Df)\n",
    "\n",
    "\n",
    "dfy=pd.read_csv(\"dataset/datasets_738_1370_glass.csv\")\n",
    "\n",
    "Df=dfy['Mg']\n",
    "Q1 =  dfy['Mg'].quantile(0.25)\n",
    "Q3 = dfy['Mg'].quantile(0.75)\n",
    "IQR = Q3 - Q1\n",
    "\n",
    "dfRI=dfy[(dfy['Mg'] < Q1-1.5*IQR ) | (dfy['Mg'] > Q3+1.5*IQR)]['Mg']\n",
    "\n",
    "Df=Df.drop(dfRI.index)\n",
    "\n",
    "plt.subplot(1,3,3)\n",
    "plt.title(\"Mg\")\n",
    "plt.boxplot(Df)\n",
    "plt.show()"
   ]
  },
  {
   "cell_type": "code",
   "execution_count": 28,
   "metadata": {},
   "outputs": [
    {
     "data": {
      "image/png": "[encoded data removed]",
      "text/plain": [
       "<Figure size 432x288 with 3 Axes>"
      ]
     },
     "metadata": {
      "needs_background": "light"
     },
     "output_type": "display_data"
    }
   ],
   "source": [
    "dfy=pd.read_csv(\"dataset/datasets_738_1370_glass.csv\")\n",
    "plt.subplots_adjust(hspace=0.9,wspace=0.9)\n",
    "Df=dfy['Al']\n",
    "Q1 =  dfy['Al'].quantile(0.25)\n",
    "Q3 = dfy['Al'].quantile(0.75)\n",
    "IQR = Q3 - Q1\n",
    "\n",
    "dfRI=dfy[(dfy['Al'] < Q1-1.5*IQR ) | (dfy['Al'] > Q3+1.5*IQR)]['Al']\n",
    "\n",
    "Df=Df.drop(dfRI.index)\n",
    "#print(Df)\n",
    "plt.subplot(1,3,1)\n",
    "plt.title(\"Al\")\n",
    "plt.boxplot(Df)\n",
    "\n",
    "\n",
    "dfy=pd.read_csv(\"dataset/datasets_738_1370_glass.csv\")\n",
    "\n",
    "Df=dfy['Si']\n",
    "Q1 =  dfy['Si'].quantile(0.25)\n",
    "Q3 = dfy['Si'].quantile(0.75)\n",
    "IQR = Q3 - Q1\n",
    "\n",
    "dfRI=dfy[(dfy['Si'] < Q1-1.5*IQR ) | (dfy['Si'] > Q3+1.5*IQR)]['Si']\n",
    "\n",
    "Df=Df.drop(dfRI.index)\n",
    "plt.subplot(1,3,2)\n",
    "plt.title(\"Si\")\n",
    "plt.boxplot(Df)\n",
    "\n",
    "dfy=pd.read_csv(\"dataset/datasets_738_1370_glass.csv\")\n",
    "\n",
    "Df=dfy['K']\n",
    "Q1 =  dfy['K'].quantile(0.25)\n",
    "Q3 = dfy['K'].quantile(0.75)\n",
    "IQR = Q3 - Q1\n",
    "\n",
    "dfRI=dfy[(dfy['K'] < Q1-1.5*IQR ) | (dfy['K'] > Q3+1.5*IQR)]['K']\n",
    "\n",
    "\n",
    "Df=Df.drop(dfRI.index)\n",
    "plt.subplot(1,3,3)\n",
    "plt.title(\"K\")\n",
    "plt.boxplot(Df)\n",
    "plt.show()"
   ]
  },
  {
   "cell_type": "code",
   "execution_count": 29,
   "metadata": {},
   "outputs": [
    {
     "data": {
      "image/png": "[encoded data removed]",
      "text/plain": [
       "<Figure size 432x288 with 3 Axes>"
      ]
     },
     "metadata": {
      "needs_background": "light"
     },
     "output_type": "display_data"
    }
   ],
   "source": [
    "dfy=pd.read_csv(\"dataset/datasets_738_1370_glass.csv\")\n",
    "plt.subplots_adjust(hspace=0.9,wspace=0.9)\n",
    "\n",
    "Df=dfy['Ca']\n",
    "\n",
    "Q1 =  dfy['Ca'].quantile(0.25)\n",
    "Q3 = dfy['Ca'].quantile(0.75)\n",
    "IQR = Q3 - Q1\n",
    "\n",
    "dfRI=dfy[(dfy['Ca'] < Q1- 1.5*IQR ) | (dfy['Ca'] > Q3+1.5*IQR)]['Ca']\n",
    "\n",
    "Df=Df.drop(dfRI.index)\n",
    "plt.subplot(1,3,1)\n",
    "plt.title(\"Ca\")\n",
    "plt.boxplot(Df)\n",
    "\n",
    "\n",
    "Df=dfy['Ba']\n",
    "\n",
    "Q1 =  dfy['Ba'].quantile(0.25)\n",
    "Q3 = dfy['Ba'].quantile(0.75)\n",
    "IQR = Q3 - Q1\n",
    "\n",
    "dfRI=dfy[(dfy['Ba'] < Q1- 1.5*IQR ) | (dfy['Ba'] > Q3+1.5*IQR)]['Ba']\n",
    "\n",
    "Df=Df.drop(dfRI.index)\n",
    "plt.subplot(1,3,2)\n",
    "plt.title(\"Ba\")\n",
    "plt.boxplot(Df)\n",
    "\n",
    "\n",
    "Df=dfy['Fe']\n",
    "\n",
    "Q1 =  dfy['Fe'].quantile(0.25)\n",
    "Q3 = dfy['Fe'].quantile(0.75)\n",
    "IQR = Q3 - Q1\n",
    "\n",
    "dfRI=dfy[(dfy['Fe'] < Q1- 1.5*IQR ) | (dfy['Fe'] > Q3+1.5*IQR)]['Fe']\n",
    "\n",
    "Df=Df.drop(dfRI.index)\n",
    "plt.subplot(1,3,3)\n",
    "plt.title(\"Fe\")\n",
    "plt.boxplot(Df)\n",
    "plt.show()"
   ]
  },
  {
   "cell_type": "markdown",
   "metadata": {},
   "source": [
    "### Comparing The Result\n",
    "#### RI"
   ]
  },
  {
   "cell_type": "code",
   "execution_count": 36,
   "metadata": {},
   "outputs": [
    {
     "name": "stdout",
     "output_type": "stream",
     "text": [
      "AxesSubplot(0.125,0.125;0.267241x0.755)\n",
      "AxesSubplot(0.632759,0.125;0.267241x0.755)\n"
     ]
    },
    {
     "data": {
      "image/png": "[encoded data removed]",
      "text/plain": [
       "<Figure size 432x288 with 2 Axes>"
      ]
     },
     "metadata": {
      "needs_background": "light"
     },
     "output_type": "display_data"
    }
   ],
   "source": [
    "plt.subplots_adjust(hspace=0.9,wspace=0.9)\n",
    "plt.subplot(1,2,1)\n",
    "print(sb.boxplot(x=\"RI\",data=df))\n",
    "plt.subplot(1,2,2)\n",
    "print(sb.boxplot(x=\"RI\",data=df,showfliers=False))"
   ]
  },
  {
   "cell_type": "markdown",
   "metadata": {},
   "source": [
    "#### Na"
   ]
  },
  {
   "cell_type": "code",
   "execution_count": 37,
   "metadata": {},
   "outputs": [
    {
     "name": "stdout",
     "output_type": "stream",
     "text": [
      "AxesSubplot(0.125,0.125;0.267241x0.755)\n",
      "AxesSubplot(0.632759,0.125;0.267241x0.755)\n"
     ]
    },
    {
     "data": {
      "image/png": "[encoded data removed]",
      "text/plain": [
       "<Figure size 432x288 with 2 Axes>"
      ]
     },
     "metadata": {
      "needs_background": "light"
     },
     "output_type": "display_data"
    }
   ],
   "source": [
    "plt.subplots_adjust(hspace=0.9,wspace=0.9)\n",
    "plt.subplot(1,2,1)\n",
    "print(sb.boxplot(x=\"Na\",data=df))\n",
    "plt.subplot(1,2,2)\n",
    "print(sb.boxplot(x=\"Na\",data=df,showfliers=False))"
   ]
  },
  {
   "cell_type": "markdown",
   "metadata": {},
   "source": [
    "#### Mg"
   ]
  },
  {
   "cell_type": "code",
   "execution_count": 38,
   "metadata": {},
   "outputs": [
    {
     "name": "stdout",
     "output_type": "stream",
     "text": [
      "AxesSubplot(0.125,0.125;0.267241x0.755)\n",
      "AxesSubplot(0.632759,0.125;0.267241x0.755)\n"
     ]
    },
    {
     "data": {
      "image/png": "[encoded data removed]",
      "text/plain": [
       "<Figure size 432x288 with 2 Axes>"
      ]
     },
     "metadata": {
      "needs_background": "light"
     },
     "output_type": "display_data"
    }
   ],
   "source": [
    "plt.subplots_adjust(hspace=0.9,wspace=0.9)\n",
    "plt.subplot(1,2,1)\n",
    "print(sb.boxplot(x=\"Mg\",data=df))\n",
    "plt.subplot(1,2,2)\n",
    "print(sb.boxplot(x=\"Mg\",data=df,showfliers=False))"
   ]
  },
  {
   "cell_type": "markdown",
   "metadata": {},
   "source": [
    "#### Al"
   ]
  },
  {
   "cell_type": "code",
   "execution_count": 39,
   "metadata": {},
   "outputs": [
    {
     "name": "stdout",
     "output_type": "stream",
     "text": [
      "AxesSubplot(0.125,0.125;0.267241x0.755)\n",
      "AxesSubplot(0.632759,0.125;0.267241x0.755)\n"
     ]
    },
    {
     "data": {
      "image/png": "[encoded data removed]",
      "text/plain": [
       "<Figure size 432x288 with 2 Axes>"
      ]
     },
     "metadata": {
      "needs_background": "light"
     },
     "output_type": "display_data"
    }
   ],
   "source": [
    "plt.subplots_adjust(hspace=0.9,wspace=0.9)\n",
    "plt.subplot(1,2,1)\n",
    "print(sb.boxplot(x=\"Al\",data=df))\n",
    "plt.subplot(1,2,2)\n",
    "print(sb.boxplot(x=\"Al\",data=df,showfliers=False))"
   ]
  },
  {
   "cell_type": "markdown",
   "metadata": {},
   "source": [
    "#### Fe"
   ]
  },
  {
   "cell_type": "code",
   "execution_count": 40,
   "metadata": {},
   "outputs": [
    {
     "name": "stdout",
     "output_type": "stream",
     "text": [
      "AxesSubplot(0.125,0.125;0.267241x0.755)\n",
      "AxesSubplot(0.632759,0.125;0.267241x0.755)\n"
     ]
    },
    {
     "data": {
      "image/png": "[encoded data removed]",
      "text/plain": [
       "<Figure size 432x288 with 2 Axes>"
      ]
     },
     "metadata": {
      "needs_background": "light"
     },
     "output_type": "display_data"
    }
   ],
   "source": [
    "plt.subplots_adjust(hspace=0.9,wspace=0.9)\n",
    "plt.subplot(1,2,1)\n",
    "print(sb.boxplot(x=\"Fe\",data=df))\n",
    "plt.subplot(1,2,2)\n",
    "print(sb.boxplot(x=\"Fe\",data=df,showfliers=False))"
   ]
  },
  {
   "cell_type": "markdown",
   "metadata": {},
   "source": [
    "#### Si"
   ]
  },
  {
   "cell_type": "code",
   "execution_count": 41,
   "metadata": {},
   "outputs": [
    {
     "name": "stdout",
     "output_type": "stream",
     "text": [
      "AxesSubplot(0.125,0.125;0.267241x0.755)\n",
      "AxesSubplot(0.632759,0.125;0.267241x0.755)\n"
     ]
    },
    {
     "data": {
      "image/png": "[encoded data removed]",
      "text/plain": [
       "<Figure size 432x288 with 2 Axes>"
      ]
     },
     "metadata": {
      "needs_background": "light"
     },
     "output_type": "display_data"
    }
   ],
   "source": [
    "plt.subplots_adjust(hspace=0.9,wspace=0.9)\n",
    "plt.subplot(1,2,1)\n",
    "print(sb.boxplot(x=\"Si\",data=df))\n",
    "plt.subplot(1,2,2)\n",
    "print(sb.boxplot(x=\"Si\",data=df,showfliers=False))"
   ]
  },
  {
   "cell_type": "markdown",
   "metadata": {},
   "source": [
    "#### K"
   ]
  },
  {
   "cell_type": "code",
   "execution_count": 42,
   "metadata": {},
   "outputs": [
    {
     "name": "stdout",
     "output_type": "stream",
     "text": [
      "AxesSubplot(0.125,0.125;0.267241x0.755)\n",
      "AxesSubplot(0.632759,0.125;0.267241x0.755)\n"
     ]
    },
    {
     "data": {
      "image/png": "[encoded data removed]",
      "text/plain": [
       "<Figure size 432x288 with 2 Axes>"
      ]
     },
     "metadata": {
      "needs_background": "light"
     },
     "output_type": "display_data"
    }
   ],
   "source": [
    "plt.subplots_adjust(hspace=0.9,wspace=0.9)\n",
    "plt.subplot(1,2,1)\n",
    "print(sb.boxplot(x=\"K\",data=df))\n",
    "plt.subplot(1,2,2)\n",
    "print(sb.boxplot(x=\"K\",data=df,showfliers=False))"
   ]
  },
  {
   "cell_type": "markdown",
   "metadata": {},
   "source": [
    "#### Ca"
   ]
  },
  {
   "cell_type": "code",
   "execution_count": 43,
   "metadata": {},
   "outputs": [
    {
     "name": "stdout",
     "output_type": "stream",
     "text": [
      "AxesSubplot(0.125,0.125;0.267241x0.755)\n",
      "AxesSubplot(0.632759,0.125;0.267241x0.755)\n"
     ]
    },
    {
     "data": {
      "image/png": "[encoded data removed]",
      "text/plain": [
       "<Figure size 432x288 with 2 Axes>"
      ]
     },
     "metadata": {
      "needs_background": "light"
     },
     "output_type": "display_data"
    }
   ],
   "source": [
    "plt.subplots_adjust(hspace=0.9,wspace=0.9)\n",
    "plt.subplot(1,2,1)\n",
    "print(sb.boxplot(x=\"Ca\",data=df))\n",
    "plt.subplot(1,2,2)\n",
    "print(sb.boxplot(x=\"Ca\",data=df,showfliers=False))"
   ]
  },
  {
   "cell_type": "markdown",
   "metadata": {},
   "source": [
    "#### Ba"
   ]
  },
  {
   "cell_type": "code",
   "execution_count": 44,
   "metadata": {},
   "outputs": [
    {
     "name": "stdout",
     "output_type": "stream",
     "text": [
      "AxesSubplot(0.125,0.125;0.267241x0.755)\n",
      "AxesSubplot(0.632759,0.125;0.267241x0.755)\n"
     ]
    },
    {
     "data": {
      "image/png": "[encoded data removed]",
      "text/plain": [
       "<Figure size 432x288 with 2 Axes>"
      ]
     },
     "metadata": {
      "needs_background": "light"
     },
     "output_type": "display_data"
    }
   ],
   "source": [
    "plt.subplots_adjust(hspace=0.9,wspace=0.9)\n",
    "plt.subplot(1,2,1)\n",
    "print(sb.boxplot(x=\"Ba\",data=df))\n",
    "plt.subplot(1,2,2)\n",
    "print(sb.boxplot(x=\"Ba\",data=df,showfliers=False))"
   ]
  }
 ],
 "metadata": {
  "kernelspec": {
   "display_name": "Python 3",
   "language": "python",
   "name": "python3"
  },
  "language_info": {
   "codemirror_mode": {
    "name": "ipython",
    "version": 3
   },
   "file_extension": ".py",
   "mimetype": "text/x-python",
   "name": "python",
   "nbconvert_exporter": "python",
   "pygments_lexer": "ipython3",
   "version": "3.7.7"
  }
 },
 "nbformat": 4,
 "nbformat_minor": 4
}
