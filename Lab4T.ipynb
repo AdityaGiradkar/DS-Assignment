{
 "cells": [
  {
   "cell_type": "code",
   "execution_count": null,
   "metadata": {
    "id": "4DB_9M9QcU1d"
   },
   "outputs": [],
   "source": [
    "import numpy as np\n",
    "import pandas as pd\n",
    "import matplotlib.pyplot as plt"
   ]
  },
  {
   "cell_type": "code",
   "execution_count": null,
   "metadata": {
    "colab": {
     "base_uri": "https://localhost:8080/"
    },
    "id": "gJjsa00mchZ_",
    "outputId": "7afb043c-1c16-4234-aaaf-4958537b5597"
   },
   "outputs": [
    {
     "data": {
      "text/plain": [
       "(100, 8)"
      ]
     },
     "execution_count": 107,
     "metadata": {
      "tags": []
     },
     "output_type": "execute_result"
    }
   ],
   "source": [
    "#considering less rows because of RAM constraints\n",
    "data = pd.read_csv('Online Retail.csv', header = None, nrows=100)\n",
    "data.shape"
   ]
  },
  {
   "cell_type": "code",
   "execution_count": null,
   "metadata": {
    "colab": {
     "base_uri": "https://localhost:8080/",
     "height": 196
    },
    "id": "Fu2awlydlzCJ",
    "outputId": "62be0e9f-3730-4636-91ce-a8affd360cbc"
   },
   "outputs": [
    {
     "data": {
      "text/html": [
       "<div>\n",
       "<style scoped>\n",
       "    .dataframe tbody tr th:only-of-type {\n",
       "        vertical-align: middle;\n",
       "    }\n",
       "\n",
       "    .dataframe tbody tr th {\n",
       "        vertical-align: top;\n",
       "    }\n",
       "\n",
       "    .dataframe thead th {\n",
       "        text-align: right;\n",
       "    }\n",
       "</style>\n",
       "<table border=\"1\" class=\"dataframe\">\n",
       "  <thead>\n",
       "    <tr style=\"text-align: right;\">\n",
       "      <th></th>\n",
       "      <th>0</th>\n",
       "      <th>1</th>\n",
       "      <th>2</th>\n",
       "      <th>3</th>\n",
       "      <th>4</th>\n",
       "      <th>5</th>\n",
       "      <th>6</th>\n",
       "      <th>7</th>\n",
       "    </tr>\n",
       "  </thead>\n",
       "  <tbody>\n",
       "    <tr>\n",
       "      <th>0</th>\n",
       "      <td>InvoiceNo</td>\n",
       "      <td>StockCode</td>\n",
       "      <td>Description</td>\n",
       "      <td>Quantity</td>\n",
       "      <td>InvoiceDate</td>\n",
       "      <td>UnitPrice</td>\n",
       "      <td>CustomerID</td>\n",
       "      <td>Country</td>\n",
       "    </tr>\n",
       "    <tr>\n",
       "      <th>1</th>\n",
       "      <td>536365</td>\n",
       "      <td>85123A</td>\n",
       "      <td>WHITE HANGING HEART T-LIGHT HOLDER</td>\n",
       "      <td>6</td>\n",
       "      <td>12/1/2010 8:26</td>\n",
       "      <td>2.55</td>\n",
       "      <td>17850</td>\n",
       "      <td>United Kingdom</td>\n",
       "    </tr>\n",
       "    <tr>\n",
       "      <th>2</th>\n",
       "      <td>536365</td>\n",
       "      <td>71053</td>\n",
       "      <td>WHITE METAL LANTERN</td>\n",
       "      <td>6</td>\n",
       "      <td>12/1/2010 8:26</td>\n",
       "      <td>3.39</td>\n",
       "      <td>17850</td>\n",
       "      <td>United Kingdom</td>\n",
       "    </tr>\n",
       "    <tr>\n",
       "      <th>3</th>\n",
       "      <td>536365</td>\n",
       "      <td>84406B</td>\n",
       "      <td>CREAM CUPID HEARTS COAT HANGER</td>\n",
       "      <td>8</td>\n",
       "      <td>12/1/2010 8:26</td>\n",
       "      <td>2.75</td>\n",
       "      <td>17850</td>\n",
       "      <td>United Kingdom</td>\n",
       "    </tr>\n",
       "    <tr>\n",
       "      <th>4</th>\n",
       "      <td>536365</td>\n",
       "      <td>84029G</td>\n",
       "      <td>KNITTED UNION FLAG HOT WATER BOTTLE</td>\n",
       "      <td>6</td>\n",
       "      <td>12/1/2010 8:26</td>\n",
       "      <td>3.39</td>\n",
       "      <td>17850</td>\n",
       "      <td>United Kingdom</td>\n",
       "    </tr>\n",
       "  </tbody>\n",
       "</table>\n",
       "</div>"
      ],
      "text/plain": [
       "           0          1  ...           6               7\n",
       "0  InvoiceNo  StockCode  ...  CustomerID         Country\n",
       "1     536365     85123A  ...       17850  United Kingdom\n",
       "2     536365      71053  ...       17850  United Kingdom\n",
       "3     536365     84406B  ...       17850  United Kingdom\n",
       "4     536365     84029G  ...       17850  United Kingdom\n",
       "\n",
       "[5 rows x 8 columns]"
      ]
     },
     "execution_count": 108,
     "metadata": {
      "tags": []
     },
     "output_type": "execute_result"
    }
   ],
   "source": [
    "data.head()"
   ]
  },
  {
   "cell_type": "code",
   "execution_count": null,
   "metadata": {
    "colab": {
     "base_uri": "https://localhost:8080/",
     "height": 1419
    },
    "id": "vGofDEa_k4hA",
    "outputId": "c065d9b3-5c03-4632-b1c9-d8898b4268d9"
   },
   "outputs": [
    {
     "data": {
      "text/html": [
       "<div>\n",
       "<style scoped>\n",
       "    .dataframe tbody tr th:only-of-type {\n",
       "        vertical-align: middle;\n",
       "    }\n",
       "\n",
       "    .dataframe tbody tr th {\n",
       "        vertical-align: top;\n",
       "    }\n",
       "\n",
       "    .dataframe thead th {\n",
       "        text-align: right;\n",
       "    }\n",
       "</style>\n",
       "<table border=\"1\" class=\"dataframe\">\n",
       "  <thead>\n",
       "    <tr style=\"text-align: right;\">\n",
       "      <th></th>\n",
       "      <th>0</th>\n",
       "      <th>1</th>\n",
       "      <th>2</th>\n",
       "      <th>3</th>\n",
       "      <th>4</th>\n",
       "      <th>5</th>\n",
       "      <th>6</th>\n",
       "      <th>7</th>\n",
       "    </tr>\n",
       "  </thead>\n",
       "  <tbody>\n",
       "    <tr>\n",
       "      <th>0</th>\n",
       "      <td>InvoiceNo</td>\n",
       "      <td>StockCode</td>\n",
       "      <td>Description</td>\n",
       "      <td>Quantity</td>\n",
       "      <td>InvoiceDate</td>\n",
       "      <td>UnitPrice</td>\n",
       "      <td>CustomerID</td>\n",
       "      <td>Country</td>\n",
       "    </tr>\n",
       "    <tr>\n",
       "      <th>1</th>\n",
       "      <td>536365</td>\n",
       "      <td>85123A</td>\n",
       "      <td>WHITE HANGING HEART T-LIGHT HOLDER</td>\n",
       "      <td>6</td>\n",
       "      <td>12/1/2010 8:26</td>\n",
       "      <td>2.55</td>\n",
       "      <td>17850</td>\n",
       "      <td>United Kingdom</td>\n",
       "    </tr>\n",
       "    <tr>\n",
       "      <th>2</th>\n",
       "      <td>536365</td>\n",
       "      <td>71053</td>\n",
       "      <td>WHITE METAL LANTERN</td>\n",
       "      <td>6</td>\n",
       "      <td>12/1/2010 8:26</td>\n",
       "      <td>3.39</td>\n",
       "      <td>17850</td>\n",
       "      <td>United Kingdom</td>\n",
       "    </tr>\n",
       "    <tr>\n",
       "      <th>3</th>\n",
       "      <td>536365</td>\n",
       "      <td>84406B</td>\n",
       "      <td>CREAM CUPID HEARTS COAT HANGER</td>\n",
       "      <td>8</td>\n",
       "      <td>12/1/2010 8:26</td>\n",
       "      <td>2.75</td>\n",
       "      <td>17850</td>\n",
       "      <td>United Kingdom</td>\n",
       "    </tr>\n",
       "    <tr>\n",
       "      <th>4</th>\n",
       "      <td>536365</td>\n",
       "      <td>84029G</td>\n",
       "      <td>KNITTED UNION FLAG HOT WATER BOTTLE</td>\n",
       "      <td>6</td>\n",
       "      <td>12/1/2010 8:26</td>\n",
       "      <td>3.39</td>\n",
       "      <td>17850</td>\n",
       "      <td>United Kingdom</td>\n",
       "    </tr>\n",
       "    <tr>\n",
       "      <th>5</th>\n",
       "      <td>536365</td>\n",
       "      <td>84029E</td>\n",
       "      <td>RED WOOLLY HOTTIE WHITE HEART.</td>\n",
       "      <td>6</td>\n",
       "      <td>12/1/2010 8:26</td>\n",
       "      <td>3.39</td>\n",
       "      <td>17850</td>\n",
       "      <td>United Kingdom</td>\n",
       "    </tr>\n",
       "    <tr>\n",
       "      <th>8</th>\n",
       "      <td>536366</td>\n",
       "      <td>22633</td>\n",
       "      <td>HAND WARMER UNION JACK</td>\n",
       "      <td>6</td>\n",
       "      <td>12/1/2010 8:28</td>\n",
       "      <td>1.85</td>\n",
       "      <td>17850</td>\n",
       "      <td>United Kingdom</td>\n",
       "    </tr>\n",
       "    <tr>\n",
       "      <th>9</th>\n",
       "      <td>536366</td>\n",
       "      <td>22632</td>\n",
       "      <td>HAND WARMER RED POLKA DOT</td>\n",
       "      <td>6</td>\n",
       "      <td>12/1/2010 8:28</td>\n",
       "      <td>1.85</td>\n",
       "      <td>17850</td>\n",
       "      <td>United Kingdom</td>\n",
       "    </tr>\n",
       "    <tr>\n",
       "      <th>10</th>\n",
       "      <td>536367</td>\n",
       "      <td>84879</td>\n",
       "      <td>ASSORTED COLOUR BIRD ORNAMENT</td>\n",
       "      <td>32</td>\n",
       "      <td>12/1/2010 8:34</td>\n",
       "      <td>1.69</td>\n",
       "      <td>13047</td>\n",
       "      <td>United Kingdom</td>\n",
       "    </tr>\n",
       "    <tr>\n",
       "      <th>11</th>\n",
       "      <td>536367</td>\n",
       "      <td>22745</td>\n",
       "      <td>POPPY'S PLAYHOUSE BEDROOM</td>\n",
       "      <td>6</td>\n",
       "      <td>12/1/2010 8:34</td>\n",
       "      <td>2.1</td>\n",
       "      <td>13047</td>\n",
       "      <td>United Kingdom</td>\n",
       "    </tr>\n",
       "    <tr>\n",
       "      <th>12</th>\n",
       "      <td>536367</td>\n",
       "      <td>22748</td>\n",
       "      <td>POPPY'S PLAYHOUSE KITCHEN</td>\n",
       "      <td>6</td>\n",
       "      <td>12/1/2010 8:34</td>\n",
       "      <td>2.1</td>\n",
       "      <td>13047</td>\n",
       "      <td>United Kingdom</td>\n",
       "    </tr>\n",
       "    <tr>\n",
       "      <th>13</th>\n",
       "      <td>536367</td>\n",
       "      <td>22749</td>\n",
       "      <td>FELTCRAFT PRINCESS CHARLOTTE DOLL</td>\n",
       "      <td>8</td>\n",
       "      <td>12/1/2010 8:34</td>\n",
       "      <td>3.75</td>\n",
       "      <td>13047</td>\n",
       "      <td>United Kingdom</td>\n",
       "    </tr>\n",
       "    <tr>\n",
       "      <th>14</th>\n",
       "      <td>536367</td>\n",
       "      <td>22310</td>\n",
       "      <td>IVORY KNITTED MUG COSY</td>\n",
       "      <td>6</td>\n",
       "      <td>12/1/2010 8:34</td>\n",
       "      <td>1.65</td>\n",
       "      <td>13047</td>\n",
       "      <td>United Kingdom</td>\n",
       "    </tr>\n",
       "    <tr>\n",
       "      <th>22</th>\n",
       "      <td>536368</td>\n",
       "      <td>22960</td>\n",
       "      <td>JAM MAKING SET WITH JARS</td>\n",
       "      <td>6</td>\n",
       "      <td>12/1/2010 8:34</td>\n",
       "      <td>4.25</td>\n",
       "      <td>13047</td>\n",
       "      <td>United Kingdom</td>\n",
       "    </tr>\n",
       "    <tr>\n",
       "      <th>23</th>\n",
       "      <td>536368</td>\n",
       "      <td>22913</td>\n",
       "      <td>RED COAT RACK PARIS FASHION</td>\n",
       "      <td>3</td>\n",
       "      <td>12/1/2010 8:34</td>\n",
       "      <td>4.95</td>\n",
       "      <td>13047</td>\n",
       "      <td>United Kingdom</td>\n",
       "    </tr>\n",
       "    <tr>\n",
       "      <th>24</th>\n",
       "      <td>536368</td>\n",
       "      <td>22912</td>\n",
       "      <td>YELLOW COAT RACK PARIS FASHION</td>\n",
       "      <td>3</td>\n",
       "      <td>12/1/2010 8:34</td>\n",
       "      <td>4.95</td>\n",
       "      <td>13047</td>\n",
       "      <td>United Kingdom</td>\n",
       "    </tr>\n",
       "    <tr>\n",
       "      <th>25</th>\n",
       "      <td>536368</td>\n",
       "      <td>22914</td>\n",
       "      <td>BLUE COAT RACK PARIS FASHION</td>\n",
       "      <td>3</td>\n",
       "      <td>12/1/2010 8:34</td>\n",
       "      <td>4.95</td>\n",
       "      <td>13047</td>\n",
       "      <td>United Kingdom</td>\n",
       "    </tr>\n",
       "    <tr>\n",
       "      <th>26</th>\n",
       "      <td>536369</td>\n",
       "      <td>21756</td>\n",
       "      <td>BATH BUILDING BLOCK WORD</td>\n",
       "      <td>3</td>\n",
       "      <td>12/1/2010 8:35</td>\n",
       "      <td>5.95</td>\n",
       "      <td>13047</td>\n",
       "      <td>United Kingdom</td>\n",
       "    </tr>\n",
       "    <tr>\n",
       "      <th>27</th>\n",
       "      <td>536370</td>\n",
       "      <td>22728</td>\n",
       "      <td>ALARM CLOCK BAKELIKE PINK</td>\n",
       "      <td>24</td>\n",
       "      <td>12/1/2010 8:45</td>\n",
       "      <td>3.75</td>\n",
       "      <td>12583</td>\n",
       "      <td>France</td>\n",
       "    </tr>\n",
       "    <tr>\n",
       "      <th>28</th>\n",
       "      <td>536370</td>\n",
       "      <td>22727</td>\n",
       "      <td>ALARM CLOCK BAKELIKE RED</td>\n",
       "      <td>24</td>\n",
       "      <td>12/1/2010 8:45</td>\n",
       "      <td>3.75</td>\n",
       "      <td>12583</td>\n",
       "      <td>France</td>\n",
       "    </tr>\n",
       "    <tr>\n",
       "      <th>29</th>\n",
       "      <td>536370</td>\n",
       "      <td>22726</td>\n",
       "      <td>ALARM CLOCK BAKELIKE GREEN</td>\n",
       "      <td>12</td>\n",
       "      <td>12/1/2010 8:45</td>\n",
       "      <td>3.75</td>\n",
       "      <td>12583</td>\n",
       "      <td>France</td>\n",
       "    </tr>\n",
       "    <tr>\n",
       "      <th>30</th>\n",
       "      <td>536370</td>\n",
       "      <td>21724</td>\n",
       "      <td>PANDA AND BUNNIES STICKER SHEET</td>\n",
       "      <td>12</td>\n",
       "      <td>12/1/2010 8:45</td>\n",
       "      <td>0.85</td>\n",
       "      <td>12583</td>\n",
       "      <td>France</td>\n",
       "    </tr>\n",
       "    <tr>\n",
       "      <th>31</th>\n",
       "      <td>536370</td>\n",
       "      <td>21883</td>\n",
       "      <td>STARS GIFT TAPE</td>\n",
       "      <td>24</td>\n",
       "      <td>12/1/2010 8:45</td>\n",
       "      <td>0.65</td>\n",
       "      <td>12583</td>\n",
       "      <td>France</td>\n",
       "    </tr>\n",
       "    <tr>\n",
       "      <th>47</th>\n",
       "      <td>536371</td>\n",
       "      <td>22086</td>\n",
       "      <td>PAPER CHAIN KIT 50'S CHRISTMAS</td>\n",
       "      <td>80</td>\n",
       "      <td>12/1/2010 9:00</td>\n",
       "      <td>2.55</td>\n",
       "      <td>13748</td>\n",
       "      <td>United Kingdom</td>\n",
       "    </tr>\n",
       "    <tr>\n",
       "      <th>48</th>\n",
       "      <td>536372</td>\n",
       "      <td>22632</td>\n",
       "      <td>HAND WARMER RED POLKA DOT</td>\n",
       "      <td>6</td>\n",
       "      <td>12/1/2010 9:01</td>\n",
       "      <td>1.85</td>\n",
       "      <td>17850</td>\n",
       "      <td>United Kingdom</td>\n",
       "    </tr>\n",
       "    <tr>\n",
       "      <th>49</th>\n",
       "      <td>536372</td>\n",
       "      <td>22633</td>\n",
       "      <td>HAND WARMER UNION JACK</td>\n",
       "      <td>6</td>\n",
       "      <td>12/1/2010 9:01</td>\n",
       "      <td>1.85</td>\n",
       "      <td>17850</td>\n",
       "      <td>United Kingdom</td>\n",
       "    </tr>\n",
       "    <tr>\n",
       "      <th>50</th>\n",
       "      <td>536373</td>\n",
       "      <td>85123A</td>\n",
       "      <td>WHITE HANGING HEART T-LIGHT HOLDER</td>\n",
       "      <td>6</td>\n",
       "      <td>12/1/2010 9:02</td>\n",
       "      <td>2.55</td>\n",
       "      <td>17850</td>\n",
       "      <td>United Kingdom</td>\n",
       "    </tr>\n",
       "    <tr>\n",
       "      <th>51</th>\n",
       "      <td>536373</td>\n",
       "      <td>71053</td>\n",
       "      <td>WHITE METAL LANTERN</td>\n",
       "      <td>6</td>\n",
       "      <td>12/1/2010 9:02</td>\n",
       "      <td>3.39</td>\n",
       "      <td>17850</td>\n",
       "      <td>United Kingdom</td>\n",
       "    </tr>\n",
       "    <tr>\n",
       "      <th>52</th>\n",
       "      <td>536373</td>\n",
       "      <td>84406B</td>\n",
       "      <td>CREAM CUPID HEARTS COAT HANGER</td>\n",
       "      <td>8</td>\n",
       "      <td>12/1/2010 9:02</td>\n",
       "      <td>2.75</td>\n",
       "      <td>17850</td>\n",
       "      <td>United Kingdom</td>\n",
       "    </tr>\n",
       "    <tr>\n",
       "      <th>53</th>\n",
       "      <td>536373</td>\n",
       "      <td>20679</td>\n",
       "      <td>EDWARDIAN PARASOL RED</td>\n",
       "      <td>6</td>\n",
       "      <td>12/1/2010 9:02</td>\n",
       "      <td>4.95</td>\n",
       "      <td>17850</td>\n",
       "      <td>United Kingdom</td>\n",
       "    </tr>\n",
       "    <tr>\n",
       "      <th>54</th>\n",
       "      <td>536373</td>\n",
       "      <td>37370</td>\n",
       "      <td>RETRO COFFEE MUGS ASSORTED</td>\n",
       "      <td>6</td>\n",
       "      <td>12/1/2010 9:02</td>\n",
       "      <td>1.06</td>\n",
       "      <td>17850</td>\n",
       "      <td>United Kingdom</td>\n",
       "    </tr>\n",
       "    <tr>\n",
       "      <th>66</th>\n",
       "      <td>536374</td>\n",
       "      <td>21258</td>\n",
       "      <td>VICTORIAN SEWING BOX LARGE</td>\n",
       "      <td>32</td>\n",
       "      <td>12/1/2010 9:09</td>\n",
       "      <td>10.95</td>\n",
       "      <td>15100</td>\n",
       "      <td>United Kingdom</td>\n",
       "    </tr>\n",
       "    <tr>\n",
       "      <th>67</th>\n",
       "      <td>536375</td>\n",
       "      <td>85123A</td>\n",
       "      <td>WHITE HANGING HEART T-LIGHT HOLDER</td>\n",
       "      <td>6</td>\n",
       "      <td>12/1/2010 9:32</td>\n",
       "      <td>2.55</td>\n",
       "      <td>17850</td>\n",
       "      <td>United Kingdom</td>\n",
       "    </tr>\n",
       "    <tr>\n",
       "      <th>68</th>\n",
       "      <td>536375</td>\n",
       "      <td>71053</td>\n",
       "      <td>WHITE METAL LANTERN</td>\n",
       "      <td>6</td>\n",
       "      <td>12/1/2010 9:32</td>\n",
       "      <td>3.39</td>\n",
       "      <td>17850</td>\n",
       "      <td>United Kingdom</td>\n",
       "    </tr>\n",
       "    <tr>\n",
       "      <th>69</th>\n",
       "      <td>536375</td>\n",
       "      <td>84406B</td>\n",
       "      <td>CREAM CUPID HEARTS COAT HANGER</td>\n",
       "      <td>8</td>\n",
       "      <td>12/1/2010 9:32</td>\n",
       "      <td>2.75</td>\n",
       "      <td>17850</td>\n",
       "      <td>United Kingdom</td>\n",
       "    </tr>\n",
       "    <tr>\n",
       "      <th>70</th>\n",
       "      <td>536375</td>\n",
       "      <td>20679</td>\n",
       "      <td>EDWARDIAN PARASOL RED</td>\n",
       "      <td>6</td>\n",
       "      <td>12/1/2010 9:32</td>\n",
       "      <td>4.95</td>\n",
       "      <td>17850</td>\n",
       "      <td>United Kingdom</td>\n",
       "    </tr>\n",
       "    <tr>\n",
       "      <th>71</th>\n",
       "      <td>536375</td>\n",
       "      <td>37370</td>\n",
       "      <td>RETRO COFFEE MUGS ASSORTED</td>\n",
       "      <td>6</td>\n",
       "      <td>12/1/2010 9:32</td>\n",
       "      <td>1.06</td>\n",
       "      <td>17850</td>\n",
       "      <td>United Kingdom</td>\n",
       "    </tr>\n",
       "    <tr>\n",
       "      <th>83</th>\n",
       "      <td>536376</td>\n",
       "      <td>22114</td>\n",
       "      <td>HOT WATER BOTTLE TEA AND SYMPATHY</td>\n",
       "      <td>48</td>\n",
       "      <td>12/1/2010 9:32</td>\n",
       "      <td>3.45</td>\n",
       "      <td>15291</td>\n",
       "      <td>United Kingdom</td>\n",
       "    </tr>\n",
       "    <tr>\n",
       "      <th>84</th>\n",
       "      <td>536376</td>\n",
       "      <td>21733</td>\n",
       "      <td>RED HANGING HEART T-LIGHT HOLDER</td>\n",
       "      <td>64</td>\n",
       "      <td>12/1/2010 9:32</td>\n",
       "      <td>2.55</td>\n",
       "      <td>15291</td>\n",
       "      <td>United Kingdom</td>\n",
       "    </tr>\n",
       "    <tr>\n",
       "      <th>85</th>\n",
       "      <td>536377</td>\n",
       "      <td>22632</td>\n",
       "      <td>HAND WARMER RED POLKA DOT</td>\n",
       "      <td>6</td>\n",
       "      <td>12/1/2010 9:34</td>\n",
       "      <td>1.85</td>\n",
       "      <td>17850</td>\n",
       "      <td>United Kingdom</td>\n",
       "    </tr>\n",
       "    <tr>\n",
       "      <th>86</th>\n",
       "      <td>536377</td>\n",
       "      <td>22633</td>\n",
       "      <td>HAND WARMER UNION JACK</td>\n",
       "      <td>6</td>\n",
       "      <td>12/1/2010 9:34</td>\n",
       "      <td>1.85</td>\n",
       "      <td>17850</td>\n",
       "      <td>United Kingdom</td>\n",
       "    </tr>\n",
       "    <tr>\n",
       "      <th>87</th>\n",
       "      <td>536378</td>\n",
       "      <td>22386</td>\n",
       "      <td>JUMBO BAG PINK POLKADOT</td>\n",
       "      <td>10</td>\n",
       "      <td>12/1/2010 9:37</td>\n",
       "      <td>1.95</td>\n",
       "      <td>14688</td>\n",
       "      <td>United Kingdom</td>\n",
       "    </tr>\n",
       "    <tr>\n",
       "      <th>88</th>\n",
       "      <td>536378</td>\n",
       "      <td>85099C</td>\n",
       "      <td>JUMBO  BAG BAROQUE BLACK WHITE</td>\n",
       "      <td>10</td>\n",
       "      <td>12/1/2010 9:37</td>\n",
       "      <td>1.95</td>\n",
       "      <td>14688</td>\n",
       "      <td>United Kingdom</td>\n",
       "    </tr>\n",
       "    <tr>\n",
       "      <th>89</th>\n",
       "      <td>536378</td>\n",
       "      <td>21033</td>\n",
       "      <td>JUMBO BAG CHARLIE AND LOLA TOYS</td>\n",
       "      <td>10</td>\n",
       "      <td>12/1/2010 9:37</td>\n",
       "      <td>2.95</td>\n",
       "      <td>14688</td>\n",
       "      <td>United Kingdom</td>\n",
       "    </tr>\n",
       "    <tr>\n",
       "      <th>90</th>\n",
       "      <td>536378</td>\n",
       "      <td>20723</td>\n",
       "      <td>STRAWBERRY CHARLOTTE BAG</td>\n",
       "      <td>10</td>\n",
       "      <td>12/1/2010 9:37</td>\n",
       "      <td>0.85</td>\n",
       "      <td>14688</td>\n",
       "      <td>United Kingdom</td>\n",
       "    </tr>\n",
       "    <tr>\n",
       "      <th>91</th>\n",
       "      <td>536378</td>\n",
       "      <td>84997B</td>\n",
       "      <td>RED 3 PIECE RETROSPOT CUTLERY SET</td>\n",
       "      <td>12</td>\n",
       "      <td>12/1/2010 9:37</td>\n",
       "      <td>3.75</td>\n",
       "      <td>14688</td>\n",
       "      <td>United Kingdom</td>\n",
       "    </tr>\n",
       "  </tbody>\n",
       "</table>\n",
       "</div>"
      ],
      "text/plain": [
       "            0          1  ...           6               7\n",
       "0   InvoiceNo  StockCode  ...  CustomerID         Country\n",
       "1      536365     85123A  ...       17850  United Kingdom\n",
       "2      536365      71053  ...       17850  United Kingdom\n",
       "3      536365     84406B  ...       17850  United Kingdom\n",
       "4      536365     84029G  ...       17850  United Kingdom\n",
       "5      536365     84029E  ...       17850  United Kingdom\n",
       "8      536366      22633  ...       17850  United Kingdom\n",
       "9      536366      22632  ...       17850  United Kingdom\n",
       "10     536367      84879  ...       13047  United Kingdom\n",
       "11     536367      22745  ...       13047  United Kingdom\n",
       "12     536367      22748  ...       13047  United Kingdom\n",
       "13     536367      22749  ...       13047  United Kingdom\n",
       "14     536367      22310  ...       13047  United Kingdom\n",
       "22     536368      22960  ...       13047  United Kingdom\n",
       "23     536368      22913  ...       13047  United Kingdom\n",
       "24     536368      22912  ...       13047  United Kingdom\n",
       "25     536368      22914  ...       13047  United Kingdom\n",
       "26     536369      21756  ...       13047  United Kingdom\n",
       "27     536370      22728  ...       12583          France\n",
       "28     536370      22727  ...       12583          France\n",
       "29     536370      22726  ...       12583          France\n",
       "30     536370      21724  ...       12583          France\n",
       "31     536370      21883  ...       12583          France\n",
       "47     536371      22086  ...       13748  United Kingdom\n",
       "48     536372      22632  ...       17850  United Kingdom\n",
       "49     536372      22633  ...       17850  United Kingdom\n",
       "50     536373     85123A  ...       17850  United Kingdom\n",
       "51     536373      71053  ...       17850  United Kingdom\n",
       "52     536373     84406B  ...       17850  United Kingdom\n",
       "53     536373      20679  ...       17850  United Kingdom\n",
       "54     536373      37370  ...       17850  United Kingdom\n",
       "66     536374      21258  ...       15100  United Kingdom\n",
       "67     536375     85123A  ...       17850  United Kingdom\n",
       "68     536375      71053  ...       17850  United Kingdom\n",
       "69     536375     84406B  ...       17850  United Kingdom\n",
       "70     536375      20679  ...       17850  United Kingdom\n",
       "71     536375      37370  ...       17850  United Kingdom\n",
       "83     536376      22114  ...       15291  United Kingdom\n",
       "84     536376      21733  ...       15291  United Kingdom\n",
       "85     536377      22632  ...       17850  United Kingdom\n",
       "86     536377      22633  ...       17850  United Kingdom\n",
       "87     536378      22386  ...       14688  United Kingdom\n",
       "88     536378     85099C  ...       14688  United Kingdom\n",
       "89     536378      21033  ...       14688  United Kingdom\n",
       "90     536378      20723  ...       14688  United Kingdom\n",
       "91     536378     84997B  ...       14688  United Kingdom\n",
       "\n",
       "[46 rows x 8 columns]"
      ]
     },
     "execution_count": 109,
     "metadata": {
      "tags": []
     },
     "output_type": "execute_result"
    }
   ],
   "source": [
    "df1 = data.groupby([data[0],data[4]])\n",
    "df1.head()"
   ]
  },
  {
   "cell_type": "code",
   "execution_count": null,
   "metadata": {
    "colab": {
     "base_uri": "https://localhost:8080/"
    },
    "id": "NFJh10iKc7RS",
    "outputId": "77d58fac-c90a-41ce-e86c-ffb541e3f552"
   },
   "outputs": [
    {
     "data": {
      "text/plain": [
       "15"
      ]
     },
     "execution_count": 110,
     "metadata": {
      "tags": []
     },
     "output_type": "execute_result"
    }
   ],
   "source": [
    "trans=[]\n",
    "for name,group in df1:\n",
    "  trans.append([str(group.values[j,2]) for j in range(group.shape[0])])  \n",
    "len(trans)"
   ]
  },
  {
   "cell_type": "code",
   "execution_count": null,
   "metadata": {
    "colab": {
     "base_uri": "https://localhost:8080/"
    },
    "id": "YVAEpNtVdmCM",
    "outputId": "3eeff6a1-80fa-45fe-f173-12eaedaf6d26"
   },
   "outputs": [
    {
     "data": {
      "text/plain": [
       "(4, 4, 0, 0)"
      ]
     },
     "execution_count": 112,
     "metadata": {
      "tags": []
     },
     "output_type": "execute_result"
    }
   ],
   "source": [
    "L1 = 0\n",
    "L2 = 0\n",
    "L3 = 0\n",
    "L8 = 0\n",
    "for i in range (len(trans)):\n",
    "  if(len(trans[i]) == 1):\n",
    "    L1+=1\n",
    "  elif(len(trans[i]) == 2):\n",
    "    L2+=1\n",
    "  elif(len(trans[i]) == 3):\n",
    "    L3+=1\n",
    "  elif(len(trans[i]) == 8):\n",
    "    L8+=1\n",
    "L1, L2, L3, L8"
   ]
  },
  {
   "cell_type": "code",
   "execution_count": null,
   "metadata": {
    "colab": {
     "base_uri": "https://localhost:8080/"
    },
    "id": "FgukFz7rSvg8",
    "outputId": "adaa8700-e07a-4c2d-b325-c6f5f02394be"
   },
   "outputs": [
    {
     "data": {
      "text/plain": [
       "(14, 20)"
      ]
     },
     "execution_count": 113,
     "metadata": {
      "tags": []
     },
     "output_type": "execute_result"
    }
   ],
   "source": [
    "def FindMaxLength(lt):\n",
    "  maxList = max(lt, key = lambda i: len(i))\n",
    "  maxLength = len(maxList)\n",
    "  return i,maxLength\n",
    "\n",
    "FindMaxLength(trans)"
   ]
  },
  {
   "cell_type": "code",
   "execution_count": null,
   "metadata": {
    "colab": {
     "base_uri": "https://localhost:8080/"
    },
    "id": "5pyGDsABS7k5",
    "outputId": "dfc3c8cf-6b42-45c3-ccb8-f1215418eaa5"
   },
   "outputs": [
    {
     "data": {
      "text/plain": [
       "0"
      ]
     },
     "execution_count": 114,
     "metadata": {
      "tags": []
     },
     "output_type": "execute_result"
    }
   ],
   "source": [
    "count = 0\n",
    "for i in range (len(trans)):\n",
    "  if(len(trans[i]) == 97):\n",
    "    count=count+1\n",
    "count"
   ]
  },
  {
   "cell_type": "code",
   "execution_count": null,
   "metadata": {
    "colab": {
     "base_uri": "https://localhost:8080/"
    },
    "id": "3HbLGcOWZH0j",
    "outputId": "216c41a9-e429-4948-f9f6-72abfb6d543b"
   },
   "outputs": [
    {
     "name": "stdout",
     "output_type": "stream",
     "text": [
      "Requirement already satisfied: apyori in /usr/local/lib/python3.7/dist-packages (1.1.2)\n"
     ]
    }
   ],
   "source": [
    "!pip install apyori"
   ]
  },
  {
   "cell_type": "code",
   "execution_count": null,
   "metadata": {
    "colab": {
     "base_uri": "https://localhost:8080/"
    },
    "id": "SDeUQ2UpdxNS",
    "outputId": "4d7ff55d-c156-4cb9-c640-d26e715e4c4e"
   },
   "outputs": [
    {
     "name": "stdout",
     "output_type": "stream",
     "text": [
      "2672 rules are derived.\n"
     ]
    }
   ],
   "source": [
    "from apyori import apriori\n",
    "rules = apriori(transactions = trans, min_support = 0.001, min_confidence = 0.8, min_lift = 4,min_length=2,max_length=3)\n",
    "results = list(rules)\n",
    "print(\"{} rules are derived.\".format(len(results)))"
   ]
  },
  {
   "cell_type": "code",
   "execution_count": null,
   "metadata": {
    "colab": {
     "base_uri": "https://localhost:8080/"
    },
    "id": "q-4_BkiTTJ2l",
    "outputId": "7ff33967-b676-4b16-893c-f1a33894c5e8"
   },
   "outputs": [
    {
     "name": "stdout",
     "output_type": "stream",
     "text": [
      "frozenset({'ALARM CLOCK BAKELIKE GREEN', ' SET 2 TEA TOWELS I LOVE LONDON '})\n",
      "frozenset({' SET 2 TEA TOWELS I LOVE LONDON ', 'ALARM CLOCK BAKELIKE PINK'})\n",
      "frozenset({' SET 2 TEA TOWELS I LOVE LONDON ', 'ALARM CLOCK BAKELIKE RED '})\n",
      "frozenset({' SET 2 TEA TOWELS I LOVE LONDON ', 'CHARLOTTE BAG DOLLY GIRL DESIGN'})\n",
      "frozenset({' SET 2 TEA TOWELS I LOVE LONDON ', 'CIRCUS PARADE LUNCH BOX '})\n",
      "frozenset({'INFLATABLE POLITICAL GLOBE ', ' SET 2 TEA TOWELS I LOVE LONDON '})\n",
      "frozenset({'LUNCH BOX I LOVE LONDON', ' SET 2 TEA TOWELS I LOVE LONDON '})\n",
      "frozenset({'MINI JIGSAW CIRCUS PARADE ', ' SET 2 TEA TOWELS I LOVE LONDON '})\n",
      "frozenset({'MINI JIGSAW SPACEBOY', ' SET 2 TEA TOWELS I LOVE LONDON '})\n",
      "frozenset({' SET 2 TEA TOWELS I LOVE LONDON ', 'MINI PAINT SET VINTAGE '})\n"
     ]
    }
   ],
   "source": [
    "for i in range(0, 10):\n",
    "  print(results[i][0])"
   ]
  },
  {
   "cell_type": "code",
   "execution_count": null,
   "metadata": {
    "colab": {
     "base_uri": "https://localhost:8080/"
    },
    "id": "uke0LBw8eDn1",
    "outputId": "77b18c16-982f-4f45-88ec-93c6ea1545cf"
   },
   "outputs": [
    {
     "name": "stdout",
     "output_type": "stream",
     "text": [
      "ALARM CLOCK BAKELIKE GREEN ->  SET 2 TEA TOWELS I LOVE LONDON \n",
      "Support: 0.06666666666666667\n",
      "Confidence: 1.0\n",
      "Lift: 15.0\n",
      "\n",
      " SET 2 TEA TOWELS I LOVE LONDON  -> ALARM CLOCK BAKELIKE PINK\n",
      "Support: 0.06666666666666667\n",
      "Confidence: 1.0\n",
      "Lift: 15.0\n",
      "\n",
      " SET 2 TEA TOWELS I LOVE LONDON  -> ALARM CLOCK BAKELIKE RED \n",
      "Support: 0.06666666666666667\n",
      "Confidence: 1.0\n",
      "Lift: 15.0\n",
      "\n",
      " SET 2 TEA TOWELS I LOVE LONDON  -> CHARLOTTE BAG DOLLY GIRL DESIGN\n",
      "Support: 0.06666666666666667\n",
      "Confidence: 1.0\n",
      "Lift: 15.0\n",
      "\n",
      " SET 2 TEA TOWELS I LOVE LONDON  -> CIRCUS PARADE LUNCH BOX \n",
      "Support: 0.06666666666666667\n",
      "Confidence: 1.0\n",
      "Lift: 15.0\n",
      "\n",
      "INFLATABLE POLITICAL GLOBE  ->  SET 2 TEA TOWELS I LOVE LONDON \n",
      "Support: 0.06666666666666667\n",
      "Confidence: 1.0\n",
      "Lift: 15.0\n",
      "\n",
      "LUNCH BOX I LOVE LONDON ->  SET 2 TEA TOWELS I LOVE LONDON \n",
      "Support: 0.06666666666666667\n",
      "Confidence: 1.0\n",
      "Lift: 15.0\n",
      "\n",
      "MINI JIGSAW CIRCUS PARADE  ->  SET 2 TEA TOWELS I LOVE LONDON \n",
      "Support: 0.06666666666666667\n",
      "Confidence: 1.0\n",
      "Lift: 15.0\n",
      "\n",
      "MINI JIGSAW SPACEBOY ->  SET 2 TEA TOWELS I LOVE LONDON \n",
      "Support: 0.06666666666666667\n",
      "Confidence: 1.0\n",
      "Lift: 15.0\n",
      "\n",
      " SET 2 TEA TOWELS I LOVE LONDON  -> MINI PAINT SET VINTAGE \n",
      "Support: 0.06666666666666667\n",
      "Confidence: 1.0\n",
      "Lift: 15.0\n",
      "\n"
     ]
    }
   ],
   "source": [
    "for i in range(10) :\n",
    "  ab = results[i][0]\n",
    "  items = [x for x in ab]\n",
    "  print(items[0]+' -> '+items[1])\n",
    "  print(\"Support: \" + str(results[i][1]))\n",
    "  print(\"Confidence: \" + str(results[i][2][0][2]))\n",
    "  print(\"Lift: \" + str(results[i][2][0][3]))\n",
    "  print()"
   ]
  },
  {
   "cell_type": "code",
   "execution_count": null,
   "metadata": {
    "id": "T2khzRgkJyLU"
   },
   "outputs": [],
   "source": [
    "def check(results):\n",
    "  lhs = [tuple(i[2][0][0])[0] for i in results]\n",
    "  rhs = [tuple(i[2][0][1])[0] for i in results]\n",
    "  s = [i[1] for i in results]\n",
    "  c = [i[2][0][2] for i in results]\n",
    "  l = [i[2][0][3] for i in results]\n",
    "  return list(zip(lhs, rhs, s, c, l))\n",
    "  \n",
    "resultsDF = pd.DataFrame(check(results), columns = ['Left Hand Side', 'Right Hand Side', 'Support','Confidence', 'Lift'])"
   ]
  },
  {
   "cell_type": "code",
   "execution_count": null,
   "metadata": {
    "colab": {
     "base_uri": "https://localhost:8080/"
    },
    "id": "2-FvdaI7JaGT",
    "outputId": "e97d2ebd-e4da-4a3e-92d5-aba96fce27b6"
   },
   "outputs": [
    {
     "name": "stdout",
     "output_type": "stream",
     "text": [
      "                     Left Hand Side  ...  Lift\n",
      "0   SET 2 TEA TOWELS I LOVE LONDON   ...  15.0\n",
      "1   SET 2 TEA TOWELS I LOVE LONDON   ...  15.0\n",
      "2   SET 2 TEA TOWELS I LOVE LONDON   ...  15.0\n",
      "3   SET 2 TEA TOWELS I LOVE LONDON   ...  15.0\n",
      "4   SET 2 TEA TOWELS I LOVE LONDON   ...  15.0\n",
      "5   SET 2 TEA TOWELS I LOVE LONDON   ...  15.0\n",
      "6   SET 2 TEA TOWELS I LOVE LONDON   ...  15.0\n",
      "7   SET 2 TEA TOWELS I LOVE LONDON   ...  15.0\n",
      "8   SET 2 TEA TOWELS I LOVE LONDON   ...  15.0\n",
      "9   SET 2 TEA TOWELS I LOVE LONDON   ...  15.0\n",
      "\n",
      "[10 rows x 5 columns]\n"
     ]
    }
   ],
   "source": [
    "print(resultsDF.nlargest(n = 10, columns = 'Lift'))"
   ]
  },
  {
   "cell_type": "code",
   "execution_count": null,
   "metadata": {
    "id": "0lCwOTY8eRRM"
   },
   "outputs": [],
   "source": [
    "def inspect(results):\n",
    "    lhs         = [tuple(result[2][0])[0] for result in results]\n",
    "    rhs         = [tuple(result[2][0])[1] for result in results]\n",
    "    supports    = [result[1] for result in results]\n",
    "    confidences = [result[2][0][2] for result in results]\n",
    "    lifts       = [result[2][0][3] for result in results]\n",
    "    return list(zip(lhs, rhs, supports, confidences, lifts))\n",
    "resultsinDataFrame = pd.DataFrame(inspect(results), columns = ['Left Hand Side', 'Right Hand Side', 'Support', 'Confidence', 'Lift'])\n"
   ]
  },
  {
   "cell_type": "code",
   "execution_count": null,
   "metadata": {
    "colab": {
     "base_uri": "https://localhost:8080/",
     "height": 923
    },
    "id": "OV0DzWMJedTx",
    "outputId": "6448a9ed-4449-4d69-c06f-998a86fd775b"
   },
   "outputs": [
    {
     "data": {
      "text/html": [
       "<div>\n",
       "<style scoped>\n",
       "    .dataframe tbody tr th:only-of-type {\n",
       "        vertical-align: middle;\n",
       "    }\n",
       "\n",
       "    .dataframe tbody tr th {\n",
       "        vertical-align: top;\n",
       "    }\n",
       "\n",
       "    .dataframe thead th {\n",
       "        text-align: right;\n",
       "    }\n",
       "</style>\n",
       "<table border=\"1\" class=\"dataframe\">\n",
       "  <thead>\n",
       "    <tr style=\"text-align: right;\">\n",
       "      <th></th>\n",
       "      <th>Left Hand Side</th>\n",
       "      <th>Right Hand Side</th>\n",
       "      <th>Support</th>\n",
       "      <th>Confidence</th>\n",
       "      <th>Lift</th>\n",
       "    </tr>\n",
       "  </thead>\n",
       "  <tbody>\n",
       "    <tr>\n",
       "      <th>0</th>\n",
       "      <td>SET 2 TEA TOWELS I LOVE LONDON</td>\n",
       "      <td>ALARM CLOCK BAKELIKE GREEN</td>\n",
       "      <td>0.066667</td>\n",
       "      <td>1.0</td>\n",
       "      <td>15.0</td>\n",
       "    </tr>\n",
       "    <tr>\n",
       "      <th>1</th>\n",
       "      <td>SET 2 TEA TOWELS I LOVE LONDON</td>\n",
       "      <td>ALARM CLOCK BAKELIKE PINK</td>\n",
       "      <td>0.066667</td>\n",
       "      <td>1.0</td>\n",
       "      <td>15.0</td>\n",
       "    </tr>\n",
       "    <tr>\n",
       "      <th>2</th>\n",
       "      <td>SET 2 TEA TOWELS I LOVE LONDON</td>\n",
       "      <td>ALARM CLOCK BAKELIKE RED</td>\n",
       "      <td>0.066667</td>\n",
       "      <td>1.0</td>\n",
       "      <td>15.0</td>\n",
       "    </tr>\n",
       "    <tr>\n",
       "      <th>3</th>\n",
       "      <td>SET 2 TEA TOWELS I LOVE LONDON</td>\n",
       "      <td>CHARLOTTE BAG DOLLY GIRL DESIGN</td>\n",
       "      <td>0.066667</td>\n",
       "      <td>1.0</td>\n",
       "      <td>15.0</td>\n",
       "    </tr>\n",
       "    <tr>\n",
       "      <th>4</th>\n",
       "      <td>SET 2 TEA TOWELS I LOVE LONDON</td>\n",
       "      <td>CIRCUS PARADE LUNCH BOX</td>\n",
       "      <td>0.066667</td>\n",
       "      <td>1.0</td>\n",
       "      <td>15.0</td>\n",
       "    </tr>\n",
       "    <tr>\n",
       "      <th>...</th>\n",
       "      <td>...</td>\n",
       "      <td>...</td>\n",
       "      <td>...</td>\n",
       "      <td>...</td>\n",
       "      <td>...</td>\n",
       "    </tr>\n",
       "    <tr>\n",
       "      <th>2667</th>\n",
       "      <td>WOODEN FRAME ANTIQUE WHITE</td>\n",
       "      <td>WHITE METAL LANTERN</td>\n",
       "      <td>0.133333</td>\n",
       "      <td>1.0</td>\n",
       "      <td>7.5</td>\n",
       "    </tr>\n",
       "    <tr>\n",
       "      <th>2668</th>\n",
       "      <td>WOOD 2 DRAWER CABINET WHITE FINISH</td>\n",
       "      <td>WOOD S/3 CABINET ANT WHITE FINISH</td>\n",
       "      <td>0.133333</td>\n",
       "      <td>1.0</td>\n",
       "      <td>7.5</td>\n",
       "    </tr>\n",
       "    <tr>\n",
       "      <th>2669</th>\n",
       "      <td>WOOD 2 DRAWER CABINET WHITE FINISH</td>\n",
       "      <td>WOOD S/3 CABINET ANT WHITE FINISH</td>\n",
       "      <td>0.133333</td>\n",
       "      <td>1.0</td>\n",
       "      <td>7.5</td>\n",
       "    </tr>\n",
       "    <tr>\n",
       "      <th>2670</th>\n",
       "      <td>WOOD 2 DRAWER CABINET WHITE FINISH</td>\n",
       "      <td>WOODEN PICTURE FRAME WHITE FINISH</td>\n",
       "      <td>0.133333</td>\n",
       "      <td>1.0</td>\n",
       "      <td>7.5</td>\n",
       "    </tr>\n",
       "    <tr>\n",
       "      <th>2671</th>\n",
       "      <td>WOOD S/3 CABINET ANT WHITE FINISH</td>\n",
       "      <td>WOODEN PICTURE FRAME WHITE FINISH</td>\n",
       "      <td>0.133333</td>\n",
       "      <td>1.0</td>\n",
       "      <td>7.5</td>\n",
       "    </tr>\n",
       "  </tbody>\n",
       "</table>\n",
       "<p>2672 rows × 5 columns</p>\n",
       "</div>"
      ],
      "text/plain": [
       "                          Left Hand Side  ...  Lift\n",
       "0        SET 2 TEA TOWELS I LOVE LONDON   ...  15.0\n",
       "1        SET 2 TEA TOWELS I LOVE LONDON   ...  15.0\n",
       "2        SET 2 TEA TOWELS I LOVE LONDON   ...  15.0\n",
       "3        SET 2 TEA TOWELS I LOVE LONDON   ...  15.0\n",
       "4        SET 2 TEA TOWELS I LOVE LONDON   ...  15.0\n",
       "...                                  ...  ...   ...\n",
       "2667         WOODEN FRAME ANTIQUE WHITE   ...   7.5\n",
       "2668  WOOD 2 DRAWER CABINET WHITE FINISH  ...   7.5\n",
       "2669  WOOD 2 DRAWER CABINET WHITE FINISH  ...   7.5\n",
       "2670  WOOD 2 DRAWER CABINET WHITE FINISH  ...   7.5\n",
       "2671   WOOD S/3 CABINET ANT WHITE FINISH  ...   7.5\n",
       "\n",
       "[2672 rows x 5 columns]"
      ]
     },
     "execution_count": 124,
     "metadata": {
      "tags": []
     },
     "output_type": "execute_result"
    }
   ],
   "source": [
    "resultsDF"
   ]
  },
  {
   "cell_type": "code",
   "execution_count": null,
   "metadata": {
    "colab": {
     "base_uri": "https://localhost:8080/"
    },
    "id": "M9v8lFZzgYab",
    "outputId": "a5d3db32-04f3-414c-d060-0697d85fc2d0"
   },
   "outputs": [
    {
     "data": {
      "text/plain": [
       "array(['ALARM CLOCK BAKELIKE GREEN', 'ALARM CLOCK BAKELIKE PINK',\n",
       "       'ALARM CLOCK BAKELIKE RED ', 'CHARLOTTE BAG DOLLY GIRL DESIGN',\n",
       "       'CIRCUS PARADE LUNCH BOX ', 'INFLATABLE POLITICAL GLOBE ',\n",
       "       'LUNCH BOX I LOVE LONDON', 'MINI JIGSAW CIRCUS PARADE ',\n",
       "       'MINI JIGSAW SPACEBOY', 'MINI PAINT SET VINTAGE ',\n",
       "       'PANDA AND BUNNIES STICKER SHEET', 'POSTAGE',\n",
       "       'RED TOADSTOOL LED NIGHT LIGHT',\n",
       "       'ROUND SNACK BOXES SET OF4 WOODLAND ',\n",
       "       'SET/2 RED RETROSPOT TEA TOWELS ', 'SPACEBOY LUNCH BOX ',\n",
       "       'STARS GIFT TAPE ', 'VINTAGE HEADS AND TAILS CARD GAME ',\n",
       "       'VINTAGE SEASIDE JIGSAW PUZZLES',\n",
       "       'BOX OF 6 ASSORTED COLOUR TEASPOONS',\n",
       "       'BOX OF VINTAGE ALPHABET BLOCKS', 'BOX OF VINTAGE JIGSAW BLOCKS ',\n",
       "       'DOORMAT NEW ENGLAND', 'FELTCRAFT PRINCESS CHARLOTTE DOLL',\n",
       "       'HOME BUILDING BLOCK WORD', 'IVORY KNITTED MUG COSY ',\n",
       "       'LOVE BUILDING BLOCK WORD', \"POPPY'S PLAYHOUSE BEDROOM \",\n",
       "       \"POPPY'S PLAYHOUSE KITCHEN\", 'RECIPE BOX WITH METAL HEART',\n",
       "       'JUMBO  BAG BAROQUE BLACK WHITE',\n",
       "       'JUMBO BAG CHARLIE AND LOLA TOYS', 'JUMBO BAG PINK POLKADOT',\n",
       "       'LUNCH BAG RED RETROSPOT', 'LUNCH BOX WITH CUTLERY RETROSPOT ',\n",
       "       'PACK OF 60 DINOSAUR CAKE CASES',\n",
       "       'PACK OF 60 PINK PAISLEY CAKE CASES',\n",
       "       'PACK OF 72 RETROSPOT CAKE CASES',\n",
       "       'RED 3 PIECE RETROSPOT CUTLERY SET',\n",
       "       'SET/6 RED SPOTTY PAPER PLATES', 'STRAWBERRY CHARLOTTE BAG',\n",
       "       'STRAWBERRY LUNCH BOX WITH CUTLERY', 'JAM MAKING SET WITH JARS',\n",
       "       'RED COAT RACK PARIS FASHION', 'YELLOW COAT RACK PARIS FASHION',\n",
       "       'CREAM CUPID HEARTS COAT HANGER',\n",
       "       'GLASS STAR FROSTED T-LIGHT HOLDER',\n",
       "       'KNITTED UNION FLAG HOT WATER BOTTLE',\n",
       "       'RED WOOLLY HOTTIE WHITE HEART.', 'SET 7 BABUSHKA NESTING BOXES',\n",
       "       'WHITE HANGING HEART T-LIGHT HOLDER', 'WHITE METAL LANTERN',\n",
       "       'RETRO COFFEE MUGS ASSORTED', 'SAVE THE PLANET MUG',\n",
       "       'VINTAGE BILLBOARD DRINK ME MUG',\n",
       "       'VINTAGE BILLBOARD LOVE/HATE MUG',\n",
       "       'WOOD 2 DRAWER CABINET WHITE FINISH',\n",
       "       'WOOD S/3 CABINET ANT WHITE FINISH', 'WOODEN FRAME ANTIQUE WHITE ',\n",
       "       'WOODEN PICTURE FRAME WHITE FINISH', 'HAND WARMER UNION JACK',\n",
       "       'RED HANGING HEART T-LIGHT HOLDER'], dtype=object)"
      ]
     },
     "execution_count": 133,
     "metadata": {
      "tags": []
     },
     "output_type": "execute_result"
    }
   ],
   "source": [
    "resultsDF['Right Hand Side'].unique()"
   ]
  },
  {
   "cell_type": "code",
   "execution_count": null,
   "metadata": {
    "colab": {
     "base_uri": "https://localhost:8080/"
    },
    "id": "qxUHdC3Pe1sC",
    "outputId": "8426357c-5935-42a9-a636-024a6aacbf5b"
   },
   "outputs": [
    {
     "data": {
      "text/plain": [
       "[' SET 2 TEA TOWELS I LOVE LONDON ']"
      ]
     },
     "execution_count": 135,
     "metadata": {
      "tags": []
     },
     "output_type": "execute_result"
    }
   ],
   "source": [
    "resultsDF[resultsDF['Right Hand Side']=='ALARM CLOCK BAKELIKE GREEN']['Left Hand Side'].unique().tolist()"
   ]
  },
  {
   "cell_type": "code",
   "execution_count": null,
   "metadata": {
    "colab": {
     "base_uri": "https://localhost:8080/"
    },
    "id": "6mh5DaltTtrI",
    "outputId": "ae7f3ce4-3b30-405f-e98c-fe0f2b5c7cca"
   },
   "outputs": [
    {
     "data": {
      "text/plain": [
       "['ALARM CLOCK BAKELIKE PINK',\n",
       " 'ALARM CLOCK BAKELIKE RED ',\n",
       " 'CHARLOTTE BAG DOLLY GIRL DESIGN',\n",
       " 'CIRCUS PARADE LUNCH BOX ',\n",
       " 'INFLATABLE POLITICAL GLOBE ',\n",
       " 'LUNCH BOX I LOVE LONDON',\n",
       " 'MINI JIGSAW CIRCUS PARADE ',\n",
       " 'MINI JIGSAW SPACEBOY',\n",
       " 'MINI PAINT SET VINTAGE ',\n",
       " 'PANDA AND BUNNIES STICKER SHEET',\n",
       " 'POSTAGE',\n",
       " 'RED TOADSTOOL LED NIGHT LIGHT',\n",
       " 'ROUND SNACK BOXES SET OF4 WOODLAND ',\n",
       " 'SET/2 RED RETROSPOT TEA TOWELS ',\n",
       " 'SPACEBOY LUNCH BOX ',\n",
       " 'STARS GIFT TAPE ',\n",
       " 'VINTAGE HEADS AND TAILS CARD GAME ',\n",
       " 'VINTAGE SEASIDE JIGSAW PUZZLES']"
      ]
     },
     "execution_count": 134,
     "metadata": {
      "tags": []
     },
     "output_type": "execute_result"
    }
   ],
   "source": [
    "resultsDF[resultsDF['Left Hand Side']=='ALARM CLOCK BAKELIKE GREEN']['Right Hand Side'].unique().tolist()"
   ]
  },
  {
   "cell_type": "code",
   "execution_count": null,
   "metadata": {
    "id": "ruWfSOf_hSEf"
   },
   "outputs": [],
   "source": []
  }
 ],
 "metadata": {
  "colab": {
   "name": "Lab4.ipynb",
   "provenance": []
  },
  "kernelspec": {
   "display_name": "Python 3",
   "language": "python",
   "name": "python3"
  },
  "language_info": {
   "codemirror_mode": {
    "name": "ipython",
    "version": 3
   },
   "file_extension": ".py",
   "mimetype": "text/x-python",
   "name": "python",
   "nbconvert_exporter": "python",
   "pygments_lexer": "ipython3",
   "version": "3.8.5"
  }
 },
 "nbformat": 4,
 "nbformat_minor": 1
}
